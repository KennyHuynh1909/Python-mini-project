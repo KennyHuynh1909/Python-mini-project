{
 "cells": [
  {
   "cell_type": "code",
   "execution_count": 1,
   "id": "407676a8",
   "metadata": {},
   "outputs": [],
   "source": [
    "import pandas as pd\n",
    "import matplotlib.pyplot as plt"
   ]
  },
  {
   "cell_type": "code",
   "execution_count": 2,
   "id": "970ecb7f",
   "metadata": {},
   "outputs": [],
   "source": [
    "#open file excel\n",
    "office_sales = pd.ExcelFile('Office Sales.xlsx')\n",
    "#read sheet 'Sales'\n",
    "sales = pd.read_excel(office_sales, 'Sales')\n",
    "#read sheet 'Customer'\n",
    "customers = pd.read_excel(office_sales, 'Customer')"
   ]
  },
  {
   "cell_type": "code",
   "execution_count": 3,
   "id": "2f3bdb34",
   "metadata": {},
   "outputs": [
    {
     "name": "stdout",
     "output_type": "stream",
     "text": [
      "<class 'pandas.core.frame.DataFrame'>\n",
      "RangeIndex: 29999 entries, 0 to 29998\n",
      "Data columns (total 14 columns):\n",
      " #   Column            Non-Null Count  Dtype         \n",
      "---  ------            --------------  -----         \n",
      " 0   SalesOrderNumber  29999 non-null  object        \n",
      " 1   OrderDate         29999 non-null  datetime64[ns]\n",
      " 2   DeliveryDate      29829 non-null  datetime64[ns]\n",
      " 3   ShipMode          29999 non-null  object        \n",
      " 4   CustomerKey       29999 non-null  int64         \n",
      " 5   ProductKey        29999 non-null  object        \n",
      " 6   CategoryName      29999 non-null  object        \n",
      " 7   SubcategoryName   29999 non-null  object        \n",
      " 8   ProductName       29999 non-null  object        \n",
      " 9   UnitPrice         29999 non-null  object        \n",
      " 10  OrderQuantity     29999 non-null  object        \n",
      " 11  Discount %        29999 non-null  object        \n",
      " 12  ShippingCost      29999 non-null  object        \n",
      " 13  OrderPriority     29999 non-null  object        \n",
      "dtypes: datetime64[ns](2), int64(1), object(11)\n",
      "memory usage: 3.2+ MB\n"
     ]
    }
   ],
   "source": [
    "#overview sheet 'Sales'\n",
    "sales.info()"
   ]
  },
  {
   "cell_type": "code",
   "execution_count": 4,
   "id": "a8d168f2",
   "metadata": {},
   "outputs": [
    {
     "name": "stdout",
     "output_type": "stream",
     "text": [
      "<class 'pandas.core.frame.DataFrame'>\n",
      "RangeIndex: 18804 entries, 0 to 18803\n",
      "Data columns (total 7 columns):\n",
      " #   Column        Non-Null Count  Dtype \n",
      "---  ------        --------------  ----- \n",
      " 0   CustomerKey   18804 non-null  int64 \n",
      " 1   Customer      18804 non-null  object\n",
      " 2   StateName     18804 non-null  object\n",
      " 3   Country       18804 non-null  object\n",
      " 4   Region        18804 non-null  object\n",
      " 5   Market        18804 non-null  object\n",
      " 6   BusinessType  18804 non-null  object\n",
      "dtypes: int64(1), object(6)\n",
      "memory usage: 1.0+ MB\n"
     ]
    }
   ],
   "source": [
    "#overview sheet 'Customer'\n",
    "customers.info()"
   ]
  },
  {
   "cell_type": "markdown",
   "id": "0ebd88c0",
   "metadata": {},
   "source": [
    "# exploring sheet 'Sales'"
   ]
  },
  {
   "cell_type": "code",
   "execution_count": 5,
   "id": "360896a1",
   "metadata": {},
   "outputs": [
    {
     "data": {
      "text/plain": [
       "OFF-AR-10003651     35\n",
       "OFF-BI-10003708     29\n",
       "OFF-AR-10003829     27\n",
       "OFF-BI-10002570     27\n",
       "FUR-CH-10003354     27\n",
       "                    ..\n",
       "OFF-PA-10003739      1\n",
       "FUR-TA-10000478      1\n",
       "OFF-ST-10000242      1\n",
       "FUR-DEF-10004555     1\n",
       "OFF-SU-10003866      1\n",
       "Name: ProductKey, Length: 5963, dtype: int64"
      ]
     },
     "execution_count": 5,
     "metadata": {},
     "output_type": "execute_result"
    }
   ],
   "source": [
    "sales['ProductKey'].value_counts()"
   ]
  },
  {
   "cell_type": "code",
   "execution_count": 6,
   "id": "ecbf27bb",
   "metadata": {},
   "outputs": [
    {
     "data": {
      "text/plain": [
       "Office Supplies    21421\n",
       "Furniture           8578\n",
       "Name: CategoryName, dtype: int64"
      ]
     },
     "execution_count": 6,
     "metadata": {},
     "output_type": "execute_result"
    }
   ],
   "source": [
    "sales['CategoryName'].value_counts()"
   ]
  },
  {
   "cell_type": "code",
   "execution_count": 7,
   "id": "8d8d651b",
   "metadata": {},
   "outputs": [
    {
     "data": {
      "text/plain": [
       "Tables          707\n",
       "Appliances     1558\n",
       "Bookcases      2141\n",
       "Supplies       2197\n",
       "Furnishings    2755\n",
       "Chairs         2975\n",
       "Paper          3139\n",
       "Art            4473\n",
       "Storage        4579\n",
       "Binders        5475\n",
       "Name: SubcategoryName, dtype: int64"
      ]
     },
     "execution_count": 7,
     "metadata": {},
     "output_type": "execute_result"
    }
   ],
   "source": [
    "sales['SubcategoryName'].value_counts().sort_values()"
   ]
  },
  {
   "cell_type": "code",
   "execution_count": 8,
   "id": "13351bd1",
   "metadata": {},
   "outputs": [
    {
     "data": {
      "text/plain": [
       "0%      3650\n",
       "0.1%    3292\n",
       "0.2%    3363\n",
       "0.3%    3344\n",
       "0.4%    3257\n",
       "0.5%    3321\n",
       "0.6%    3380\n",
       "0.7%    3199\n",
       "0.8%    3193\n",
       "Name: Discount %, dtype: int64"
      ]
     },
     "execution_count": 8,
     "metadata": {},
     "output_type": "execute_result"
    }
   ],
   "source": [
    "sales['Discount %'].value_counts().sort_index()"
   ]
  },
  {
   "cell_type": "code",
   "execution_count": 9,
   "id": "07a961b1",
   "metadata": {},
   "outputs": [
    {
     "data": {
      "text/plain": [
       "Medium      17254\n",
       "High         9053\n",
       "Critical     2274\n",
       "Low          1418\n",
       "Name: OrderPriority, dtype: int64"
      ]
     },
     "execution_count": 9,
     "metadata": {},
     "output_type": "execute_result"
    }
   ],
   "source": [
    "sales['OrderPriority'].value_counts()"
   ]
  },
  {
   "cell_type": "code",
   "execution_count": 10,
   "id": "1fe71b50",
   "metadata": {},
   "outputs": [
    {
     "data": {
      "text/plain": [
       "Standard Class    17991\n",
       "Second Class       6019\n",
       "First Class        4401\n",
       "Same Day           1588\n",
       "Name: ShipMode, dtype: int64"
      ]
     },
     "execution_count": 10,
     "metadata": {},
     "output_type": "execute_result"
    }
   ],
   "source": [
    "sales['ShipMode'].value_counts()"
   ]
  },
  {
   "cell_type": "code",
   "execution_count": 11,
   "id": "695ca3f2",
   "metadata": {},
   "outputs": [
    {
     "data": {
      "text/plain": [
       "Standard Class    17991\n",
       "Second Class       6019\n",
       "First Class        4401\n",
       "Same Day           1588\n",
       "Name: ShipMode, dtype: int64"
      ]
     },
     "execution_count": 11,
     "metadata": {},
     "output_type": "execute_result"
    }
   ],
   "source": [
    "sales['ShipMode'].value_counts()"
   ]
  },
  {
   "cell_type": "code",
   "execution_count": 12,
   "id": "6f89890b",
   "metadata": {},
   "outputs": [
    {
     "data": {
      "text/plain": [
       "1.39 USD      3\n",
       "1.6 USD       3\n",
       "1.64 USD      5\n",
       "1.68 USD     17\n",
       "1.74 USD      4\n",
       "             ..\n",
       "99.6 USD      4\n",
       "99.64 USD     5\n",
       "99.72 USD     5\n",
       "99.88 USD     3\n",
       "99.99 USD     5\n",
       "Name: UnitPrice, Length: 2796, dtype: int64"
      ]
     },
     "execution_count": 12,
     "metadata": {},
     "output_type": "execute_result"
    }
   ],
   "source": [
    "sales['UnitPrice'].value_counts().sort_index()"
   ]
  },
  {
   "cell_type": "code",
   "execution_count": 13,
   "id": "6619d07f",
   "metadata": {},
   "outputs": [
    {
     "data": {
      "text/plain": [
       "1 pcs     5213\n",
       "10 pcs     164\n",
       "11 pcs      91\n",
       "12 pcs     105\n",
       "13 pcs      52\n",
       "14 pcs     109\n",
       "15 pcs       2\n",
       "16 pcs       1\n",
       "2 pcs     7530\n",
       "3 pcs     5640\n",
       "4 pcs     3736\n",
       "5 pcs     2817\n",
       "6 pcs     1778\n",
       "7 pcs     1396\n",
       "8 pcs      792\n",
       "9 pcs      573\n",
       "Name: OrderQuantity, dtype: int64"
      ]
     },
     "execution_count": 13,
     "metadata": {},
     "output_type": "execute_result"
    }
   ],
   "source": [
    "sales['OrderQuantity'].value_counts().sort_index()"
   ]
  },
  {
   "cell_type": "markdown",
   "id": "d8985ec4",
   "metadata": {},
   "source": [
    "# exploring sheet 'Customer'"
   ]
  },
  {
   "cell_type": "code",
   "execution_count": 14,
   "id": "0f6b5cb9-bf5e-469b-afa8-52bc04488f7e",
   "metadata": {},
   "outputs": [
    {
     "name": "stdout",
     "output_type": "stream",
     "text": [
      "<class 'pandas.core.frame.DataFrame'>\n",
      "RangeIndex: 18804 entries, 0 to 18803\n",
      "Data columns (total 7 columns):\n",
      " #   Column        Non-Null Count  Dtype \n",
      "---  ------        --------------  ----- \n",
      " 0   CustomerKey   18804 non-null  int64 \n",
      " 1   Customer      18804 non-null  object\n",
      " 2   StateName     18804 non-null  object\n",
      " 3   Country       18804 non-null  object\n",
      " 4   Region        18804 non-null  object\n",
      " 5   Market        18804 non-null  object\n",
      " 6   BusinessType  18804 non-null  object\n",
      "dtypes: int64(1), object(6)\n",
      "memory usage: 1.0+ MB\n"
     ]
    }
   ],
   "source": [
    "customers.info()"
   ]
  },
  {
   "cell_type": "code",
   "execution_count": 15,
   "id": "62abcb68",
   "metadata": {},
   "outputs": [
    {
     "data": {
      "text/plain": [
       "56       1\n",
       "57       1\n",
       "58       1\n",
       "59       1\n",
       "60       1\n",
       "        ..\n",
       "18855    1\n",
       "18856    1\n",
       "18857    1\n",
       "18858    1\n",
       "18859    1\n",
       "Name: CustomerKey, Length: 18804, dtype: int64"
      ]
     },
     "execution_count": 15,
     "metadata": {},
     "output_type": "execute_result"
    }
   ],
   "source": [
    "customers['CustomerKey'].value_counts().sort_index()"
   ]
  },
  {
   "cell_type": "code",
   "execution_count": 16,
   "id": "92ead0f6-96c6-4ab6-bf99-359e6925a092",
   "metadata": {},
   "outputs": [
    {
     "data": {
      "text/plain": [
       "Art Ferguson        38\n",
       "Frank Olsen         37\n",
       "Noel Staavos        37\n",
       "Sara Luxemburg      36\n",
       "Natalie Fritzler    35\n",
       "                    ..\n",
       "Nora Paige          13\n",
       "Michael Oakman      11\n",
       "Peter Bühler        10\n",
       "Jocasta Rupert      10\n",
       "Darren Budd          8\n",
       "Name: Customer, Length: 795, dtype: int64"
      ]
     },
     "execution_count": 16,
     "metadata": {},
     "output_type": "execute_result"
    }
   ],
   "source": [
    "customers['Customer'].value_counts()"
   ]
  },
  {
   "cell_type": "code",
   "execution_count": 17,
   "id": "efcb28bf",
   "metadata": {},
   "outputs": [
    {
     "data": {
      "text/plain": [
       "California       541\n",
       "England          439\n",
       "New York         362\n",
       "Texas            326\n",
       "Ile-de-France    315\n",
       "                ... \n",
       "Mie                1\n",
       "Zeeland            1\n",
       "Ishikawa           1\n",
       "Sokoto             1\n",
       "Sikasso            1\n",
       "Name: StateName, Length: 1056, dtype: int64"
      ]
     },
     "execution_count": 17,
     "metadata": {},
     "output_type": "execute_result"
    }
   ],
   "source": [
    "customers['StateName'].value_counts()"
   ]
  },
  {
   "cell_type": "code",
   "execution_count": 18,
   "id": "4be58772-ea19-40e0-ae55-ff8f89e7657f",
   "metadata": {},
   "outputs": [
    {
     "data": {
      "text/plain": [
       "count          18804\n",
       "unique          1056\n",
       "top       California\n",
       "freq             541\n",
       "Name: StateName, dtype: object"
      ]
     },
     "execution_count": 18,
     "metadata": {},
     "output_type": "execute_result"
    }
   ],
   "source": [
    "customers['StateName'].describe()"
   ]
  },
  {
   "cell_type": "code",
   "execution_count": 19,
   "id": "bc5e9380",
   "metadata": {},
   "outputs": [
    {
     "data": {
      "text/plain": [
       "United States    3547\n",
       "France           1052\n",
       "Mexico            980\n",
       "Australia         951\n",
       "Germany           769\n",
       "                 ... \n",
       "Burundi             2\n",
       "Chad                1\n",
       "Eritrea             1\n",
       "Swaziland           1\n",
       "Lesotho             1\n",
       "Name: Country, Length: 143, dtype: int64"
      ]
     },
     "execution_count": 19,
     "metadata": {},
     "output_type": "execute_result"
    }
   ],
   "source": [
    "customers['Country'].value_counts()"
   ]
  },
  {
   "cell_type": "code",
   "execution_count": 20,
   "id": "dd3c4d88-9c99-4611-84d6-efef6dcd0550",
   "metadata": {},
   "outputs": [
    {
     "data": {
      "text/plain": [
       "count             18804\n",
       "unique              143\n",
       "top       United States\n",
       "freq               3547\n",
       "Name: Country, dtype: object"
      ]
     },
     "execution_count": 20,
     "metadata": {},
     "output_type": "execute_result"
    }
   ],
   "source": [
    "customers['Country'].describe()"
   ]
  },
  {
   "cell_type": "code",
   "execution_count": 21,
   "id": "43fa3ab7",
   "metadata": {},
   "outputs": [
    {
     "data": {
      "text/plain": [
       "Central           4079\n",
       "South             2586\n",
       "EMEA              1983\n",
       "Africa            1806\n",
       "North             1678\n",
       "Oceania           1168\n",
       "Southeast Asia    1099\n",
       "East              1025\n",
       "West              1008\n",
       "North Asia         845\n",
       "Central Asia       739\n",
       "Caribbean          621\n",
       "Canada             167\n",
       "Name: Region, dtype: int64"
      ]
     },
     "execution_count": 21,
     "metadata": {},
     "output_type": "execute_result"
    }
   ],
   "source": [
    "customers['Region'].value_counts()"
   ]
  },
  {
   "cell_type": "code",
   "execution_count": 22,
   "id": "e9eb7d19-0f3f-4de1-8338-3e185f47f93c",
   "metadata": {},
   "outputs": [
    {
     "data": {
      "text/plain": [
       "count       18804\n",
       "unique         13\n",
       "top       Central\n",
       "freq         4079\n",
       "Name: Region, dtype: object"
      ]
     },
     "execution_count": 22,
     "metadata": {},
     "output_type": "execute_result"
    }
   ],
   "source": [
    "customers['Region'].describe()"
   ]
  },
  {
   "cell_type": "code",
   "execution_count": 23,
   "id": "80b4e636",
   "metadata": {},
   "outputs": [
    {
     "data": {
      "text/plain": [
       "APAC      3851\n",
       "LATAM     3733\n",
       "EU        3717\n",
       "US        3547\n",
       "EMEA      1983\n",
       "Africa    1806\n",
       "Canada     167\n",
       "Name: Market, dtype: int64"
      ]
     },
     "execution_count": 23,
     "metadata": {},
     "output_type": "execute_result"
    }
   ],
   "source": [
    "customers['Market'].value_counts()"
   ]
  },
  {
   "cell_type": "code",
   "execution_count": 24,
   "id": "a18b77e8",
   "metadata": {},
   "outputs": [
    {
     "data": {
      "text/plain": [
       "Consumer       9657\n",
       "Corporate      5698\n",
       "Home Office    3449\n",
       "Name: BusinessType, dtype: int64"
      ]
     },
     "execution_count": 24,
     "metadata": {},
     "output_type": "execute_result"
    }
   ],
   "source": [
    "customers['BusinessType'].value_counts()"
   ]
  },
  {
   "cell_type": "markdown",
   "id": "8f06af31",
   "metadata": {},
   "source": [
    "`Clean \"Unit price\" column`"
   ]
  },
  {
   "cell_type": "code",
   "execution_count": 25,
   "id": "55d57fef",
   "metadata": {},
   "outputs": [],
   "source": [
    "sales[\"UnitPrice\"] = sales[\"UnitPrice\"].str.strip()\n",
    "sales[\"UnitPrice\"] = sales[\"UnitPrice\"].str.replace('USD','')\n",
    "sales[\"UnitPrice\"] = sales[\"UnitPrice\"].astype(float)"
   ]
  },
  {
   "cell_type": "markdown",
   "id": "cc111fe6",
   "metadata": {},
   "source": [
    "`Clean \"OrderQuantity\" column`"
   ]
  },
  {
   "cell_type": "code",
   "execution_count": 26,
   "id": "ae78d0c8",
   "metadata": {},
   "outputs": [],
   "source": [
    "sales[\"OrderQuantity\"] = sales[\"OrderQuantity\"].str.strip()\n",
    "sales[\"OrderQuantity\"] = sales[\"OrderQuantity\"].str.replace('pcs','')\n",
    "sales[\"OrderQuantity\"] = sales[\"OrderQuantity\"].astype(float)"
   ]
  },
  {
   "cell_type": "markdown",
   "id": "ad59a53c",
   "metadata": {},
   "source": [
    "`Clean \"ShippingCost\" column`"
   ]
  },
  {
   "cell_type": "code",
   "execution_count": 27,
   "id": "3f9165e0",
   "metadata": {},
   "outputs": [],
   "source": [
    "sales[\"ShippingCost\"] = sales[\"ShippingCost\"].str.strip()\n",
    "sales[\"ShippingCost\"] = sales[\"ShippingCost\"].str.replace('USD','')\n",
    "sales[\"ShippingCost\"] = sales[\"ShippingCost\"].astype(float)"
   ]
  },
  {
   "cell_type": "markdown",
   "id": "a885b21e",
   "metadata": {},
   "source": [
    "`Clean \"Discount %\" column`"
   ]
  },
  {
   "cell_type": "code",
   "execution_count": 28,
   "id": "d0648478",
   "metadata": {},
   "outputs": [],
   "source": [
    "sales[\"Discount %\"] = sales[\"Discount %\"].str.replace('%','')\n",
    "sales[\"Discount %\"] = sales[\"Discount %\"].astype(float)\n",
    "sales[\"Discount %\"] = sales[\"Discount %\"].div(100)"
   ]
  },
  {
   "cell_type": "code",
   "execution_count": 30,
   "id": "8a1143ab",
   "metadata": {},
   "outputs": [
    {
     "name": "stdout",
     "output_type": "stream",
     "text": [
      "<class 'pandas.core.frame.DataFrame'>\n",
      "RangeIndex: 29999 entries, 0 to 29998\n",
      "Data columns (total 14 columns):\n",
      " #   Column            Non-Null Count  Dtype         \n",
      "---  ------            --------------  -----         \n",
      " 0   SalesOrderNumber  29999 non-null  object        \n",
      " 1   OrderDate         29999 non-null  datetime64[ns]\n",
      " 2   DeliveryDate      29829 non-null  datetime64[ns]\n",
      " 3   ShipMode          29999 non-null  object        \n",
      " 4   CustomerKey       29999 non-null  int64         \n",
      " 5   ProductKey        29999 non-null  object        \n",
      " 6   CategoryName      29999 non-null  object        \n",
      " 7   SubcategoryName   29999 non-null  object        \n",
      " 8   ProductName       29999 non-null  object        \n",
      " 9   UnitPrice         29999 non-null  float64       \n",
      " 10  OrderQuantity     29999 non-null  float64       \n",
      " 11  Discount %        29999 non-null  float64       \n",
      " 12  ShippingCost      29999 non-null  float64       \n",
      " 13  OrderPriority     29999 non-null  object        \n",
      "dtypes: datetime64[ns](2), float64(4), int64(1), object(7)\n",
      "memory usage: 3.2+ MB\n"
     ]
    }
   ],
   "source": [
    "sales.info()"
   ]
  },
  {
   "cell_type": "code",
   "execution_count": 31,
   "id": "755c7aab",
   "metadata": {},
   "outputs": [
    {
     "name": "stdout",
     "output_type": "stream",
     "text": [
      "<class 'pandas.core.series.Series'>\n",
      "RangeIndex: 29999 entries, 0 to 29998\n",
      "Series name: UnitPrice\n",
      "Non-Null Count  Dtype  \n",
      "--------------  -----  \n",
      "29999 non-null  float64\n",
      "dtypes: float64(1)\n",
      "memory usage: 234.5 KB\n"
     ]
    }
   ],
   "source": [
    "sales['UnitPrice'].info()"
   ]
  },
  {
   "cell_type": "code",
   "execution_count": 32,
   "id": "1667626a-a103-41e0-b7c8-034b9d1b29ae",
   "metadata": {},
   "outputs": [
    {
     "data": {
      "text/plain": [
       "1.39        3\n",
       "1.60        3\n",
       "1.64        5\n",
       "1.68       17\n",
       "1.74        4\n",
       "           ..\n",
       "1052.16     1\n",
       "1270.99     9\n",
       "1360.99     5\n",
       "1637.53     3\n",
       "1889.99     2\n",
       "Name: UnitPrice, Length: 2796, dtype: int64"
      ]
     },
     "execution_count": 32,
     "metadata": {},
     "output_type": "execute_result"
    }
   ],
   "source": [
    "sales['UnitPrice'].value_counts().sort_index()"
   ]
  },
  {
   "cell_type": "code",
   "execution_count": 33,
   "id": "9ef1f2b6-c21b-401f-86a9-92ee0a9f75fa",
   "metadata": {},
   "outputs": [
    {
     "data": {
      "text/plain": [
       "count    29999.000000\n",
       "mean        79.367678\n",
       "std        121.566872\n",
       "min          1.390000\n",
       "25%         15.750000\n",
       "50%         33.560000\n",
       "75%         82.230000\n",
       "max       1889.990000\n",
       "Name: UnitPrice, dtype: float64"
      ]
     },
     "execution_count": 33,
     "metadata": {},
     "output_type": "execute_result"
    }
   ],
   "source": [
    "sales['UnitPrice'].describe()"
   ]
  },
  {
   "cell_type": "code",
   "execution_count": 34,
   "id": "4a03bd30-ccb5-4d88-b7a0-6abe9cdb4014",
   "metadata": {},
   "outputs": [
    {
     "name": "stdout",
     "output_type": "stream",
     "text": [
      "<class 'pandas.core.series.Series'>\n",
      "RangeIndex: 29999 entries, 0 to 29998\n",
      "Series name: OrderQuantity\n",
      "Non-Null Count  Dtype  \n",
      "--------------  -----  \n",
      "29999 non-null  float64\n",
      "dtypes: float64(1)\n",
      "memory usage: 234.5 KB\n"
     ]
    }
   ],
   "source": [
    "sales['OrderQuantity'].info()"
   ]
  },
  {
   "cell_type": "code",
   "execution_count": 35,
   "id": "022f8c5d-7627-4398-9e9e-872a96631d3c",
   "metadata": {},
   "outputs": [
    {
     "data": {
      "text/plain": [
       "1.0     5213\n",
       "2.0     7530\n",
       "3.0     5640\n",
       "4.0     3736\n",
       "5.0     2817\n",
       "6.0     1778\n",
       "7.0     1396\n",
       "8.0      792\n",
       "9.0      573\n",
       "10.0     164\n",
       "11.0      91\n",
       "12.0     105\n",
       "13.0      52\n",
       "14.0     109\n",
       "15.0       2\n",
       "16.0       1\n",
       "Name: OrderQuantity, dtype: int64"
      ]
     },
     "execution_count": 35,
     "metadata": {},
     "output_type": "execute_result"
    }
   ],
   "source": [
    "sales['OrderQuantity'].value_counts().sort_index()"
   ]
  },
  {
   "cell_type": "code",
   "execution_count": 36,
   "id": "dce63327-21d4-4eb4-96fb-cbb7c4f5c837",
   "metadata": {},
   "outputs": [
    {
     "data": {
      "text/plain": [
       "count    29999.000000\n",
       "mean         3.476916\n",
       "std          2.284369\n",
       "min          1.000000\n",
       "25%          2.000000\n",
       "50%          3.000000\n",
       "75%          5.000000\n",
       "max         16.000000\n",
       "Name: OrderQuantity, dtype: float64"
      ]
     },
     "execution_count": 36,
     "metadata": {},
     "output_type": "execute_result"
    }
   ],
   "source": [
    "sales['OrderQuantity'].describe()"
   ]
  },
  {
   "cell_type": "code",
   "execution_count": 37,
   "id": "ad9b8d72-fe34-4029-a49d-e9fd5847916e",
   "metadata": {},
   "outputs": [
    {
     "name": "stdout",
     "output_type": "stream",
     "text": [
      "<class 'pandas.core.series.Series'>\n",
      "RangeIndex: 29999 entries, 0 to 29998\n",
      "Series name: Discount %\n",
      "Non-Null Count  Dtype  \n",
      "--------------  -----  \n",
      "29999 non-null  float64\n",
      "dtypes: float64(1)\n",
      "memory usage: 234.5 KB\n"
     ]
    }
   ],
   "source": [
    "sales['Discount %'].info()"
   ]
  },
  {
   "cell_type": "code",
   "execution_count": 38,
   "id": "8bb41554-d9c5-41c3-8090-743608655622",
   "metadata": {},
   "outputs": [
    {
     "data": {
      "text/plain": [
       "0.000    3650\n",
       "0.001    3292\n",
       "0.002    3363\n",
       "0.003    3344\n",
       "0.004    3257\n",
       "0.005    3321\n",
       "0.006    3380\n",
       "0.007    3199\n",
       "0.008    3193\n",
       "Name: Discount %, dtype: int64"
      ]
     },
     "execution_count": 38,
     "metadata": {},
     "output_type": "execute_result"
    }
   ],
   "source": [
    "sales['Discount %'].value_counts().sort_index()"
   ]
  },
  {
   "cell_type": "code",
   "execution_count": 39,
   "id": "34c4f93a-6670-41bb-9944-494f0e677d33",
   "metadata": {},
   "outputs": [
    {
     "data": {
      "text/plain": [
       "count    29999.000000\n",
       "mean         0.003930\n",
       "std          0.002591\n",
       "min          0.000000\n",
       "25%          0.002000\n",
       "50%          0.004000\n",
       "75%          0.006000\n",
       "max          0.008000\n",
       "Name: Discount %, dtype: float64"
      ]
     },
     "execution_count": 39,
     "metadata": {},
     "output_type": "execute_result"
    }
   ],
   "source": [
    "sales['Discount %'].describe()"
   ]
  },
  {
   "cell_type": "code",
   "execution_count": 40,
   "id": "29c6e634-c345-4a50-a2cb-d46a24ffc4bd",
   "metadata": {},
   "outputs": [
    {
     "data": {
      "text/plain": [
       "0.002       1\n",
       "0.003       1\n",
       "0.020       5\n",
       "0.023       1\n",
       "0.030       1\n",
       "           ..\n",
       "1059.410    1\n",
       "1208.880    1\n",
       "1280.220    1\n",
       "1304.480    1\n",
       "1581.510    1\n",
       "Name: ShippingCost, Length: 10423, dtype: int64"
      ]
     },
     "execution_count": 40,
     "metadata": {},
     "output_type": "execute_result"
    }
   ],
   "source": [
    "sales['ShippingCost'].value_counts().sort_index()"
   ]
  },
  {
   "cell_type": "code",
   "execution_count": 41,
   "id": "d3bcad97-2d30-4d2c-b25e-ce28134e2fe8",
   "metadata": {},
   "outputs": [
    {
     "data": {
      "text/plain": [
       "count    29999.000000\n",
       "mean        30.353239\n",
       "std         68.112116\n",
       "min          0.002000\n",
       "25%          3.630000\n",
       "50%          9.509000\n",
       "75%         27.211500\n",
       "max       1581.510000\n",
       "Name: ShippingCost, dtype: float64"
      ]
     },
     "execution_count": 41,
     "metadata": {},
     "output_type": "execute_result"
    }
   ],
   "source": [
    "sales['ShippingCost'].describe()"
   ]
  },
  {
   "cell_type": "code",
   "execution_count": null,
   "id": "74a8281c-07b9-4bbe-97ed-ead0e77c0a10",
   "metadata": {},
   "outputs": [],
   "source": []
  },
  {
   "cell_type": "code",
   "execution_count": null,
   "id": "02fe2b55",
   "metadata": {},
   "outputs": [],
   "source": []
  },
  {
   "cell_type": "code",
   "execution_count": null,
   "id": "563d5334",
   "metadata": {},
   "outputs": [],
   "source": []
  },
  {
   "cell_type": "code",
   "execution_count": null,
   "id": "d05ad50a",
   "metadata": {},
   "outputs": [],
   "source": []
  },
  {
   "cell_type": "code",
   "execution_count": null,
   "id": "e3cbeb89",
   "metadata": {},
   "outputs": [],
   "source": []
  },
  {
   "cell_type": "code",
   "execution_count": null,
   "id": "d466e289",
   "metadata": {},
   "outputs": [],
   "source": []
  },
  {
   "cell_type": "code",
   "execution_count": null,
   "id": "0711e39c",
   "metadata": {},
   "outputs": [],
   "source": []
  },
  {
   "cell_type": "code",
   "execution_count": null,
   "id": "a87e9cdc",
   "metadata": {},
   "outputs": [],
   "source": []
  },
  {
   "cell_type": "code",
   "execution_count": null,
   "id": "65294a49",
   "metadata": {},
   "outputs": [],
   "source": []
  },
  {
   "cell_type": "code",
   "execution_count": null,
   "id": "e340f202",
   "metadata": {},
   "outputs": [],
   "source": []
  },
  {
   "cell_type": "code",
   "execution_count": null,
   "id": "77d2ec5d",
   "metadata": {},
   "outputs": [],
   "source": []
  }
 ],
 "metadata": {
  "kernelspec": {
   "display_name": "Python 3 (ipykernel)",
   "language": "python",
   "name": "python3"
  },
  "language_info": {
   "codemirror_mode": {
    "name": "ipython",
    "version": 3
   },
   "file_extension": ".py",
   "mimetype": "text/x-python",
   "name": "python",
   "nbconvert_exporter": "python",
   "pygments_lexer": "ipython3",
   "version": "3.9.12"
  }
 },
 "nbformat": 4,
 "nbformat_minor": 5
}
