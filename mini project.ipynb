{
 "cells": [
  {
   "cell_type": "markdown",
   "id": "52678faf",
   "metadata": {},
   "source": [
    "# **<span style=\"color: orange\">Business picture in a multinational corporation between 2017 and 2020**</span>\n",
    "\n",
    "In this project, we're going to analyze a dataset about the business situation in the multinational corporation.\n",
    "\n",
    "The goal of our analysis is to determine a few indicators of business in corporation. These indicators can be unit price, order quantity, discount, shipping cost, etc.\n",
    "\n",
    "## <span style=\"color: green\">Sales analysis Dataset</span>\n",
    "\n",
    "Derrick Kuria, who is Application Developer at Dimension Data in Kenya, made the dataset available that we'll be working with, and you can download it from the [Kaggle](https://www.kaggle.com/datasets/derrickkuria/furniture-sales-and-customer).\n",
    "\n",
    "---\n",
    "\n",
    "## *<span style=\"color: orange\">Tình hình kinh doanh của một tập đoàn đa quốc gia từ năm 2017 đến 2020*/<span>\n",
    "\n",
    "*Trong dự án này, chúng tôi sẽ phân tích một tệp dữ liệu về tình hình kinh doanh trong một tập đoàn đa quốc gia.*\n",
    "\n",
    "*Mục tiêu của phân tích của chúng tôi là xác định một số chỉ số kinh doanh trong tập đoàn. Các chỉ số này có thể là đơn giá, số lượng đặt hàng, chiết khấu, chi phí vận chuyển, v.v.**\n",
    "\n",
    "### <span style=\"color: green\">Bộ dữ liệu phân tích bán hàng</span>\n",
    "\n",
    "*Derrick Kuria, nhà phát triển ứng dụng Dimension Data ở Kenya, đã cung cấp tệp dữ liệu mà chúng tôi sẽ làm việc cùng và bạn có thể tải xuống từ [Kaggle](https://www.kaggle.com/datasets/derrickkuria/furniture-sales-and-customer).* \n"
   ]
  },
  {
   "cell_type": "code",
   "execution_count": 233,
   "id": "ee5d8c16",
   "metadata": {},
   "outputs": [],
   "source": [
    "#import libraries\n",
    "import pandas as pd\n",
    "import matplotlib.pyplot as plt\n",
    "import seaborn as sns"
   ]
  },
  {
   "cell_type": "code",
   "execution_count": 234,
   "id": "e191ebfc",
   "metadata": {},
   "outputs": [],
   "source": [
    "#add and view data in the sheets\n",
    "office_sales = pd.ExcelFile('Office Sales.xlsx')\n",
    "sales = pd.read_excel(office_sales, 'Sales')\n",
    "customers = pd.read_excel(office_sales, 'Customer')"
   ]
  },
  {
   "cell_type": "code",
   "execution_count": 235,
   "id": "9f01e876",
   "metadata": {},
   "outputs": [
    {
     "data": {
      "text/html": [
       "<div>\n",
       "<style scoped>\n",
       "    .dataframe tbody tr th:only-of-type {\n",
       "        vertical-align: middle;\n",
       "    }\n",
       "\n",
       "    .dataframe tbody tr th {\n",
       "        vertical-align: top;\n",
       "    }\n",
       "\n",
       "    .dataframe thead th {\n",
       "        text-align: right;\n",
       "    }\n",
       "</style>\n",
       "<table border=\"1\" class=\"dataframe\">\n",
       "  <thead>\n",
       "    <tr style=\"text-align: right;\">\n",
       "      <th></th>\n",
       "      <th>SalesOrderNumber</th>\n",
       "      <th>OrderDate</th>\n",
       "      <th>DeliveryDate</th>\n",
       "      <th>ShipMode</th>\n",
       "      <th>CustomerKey</th>\n",
       "      <th>ProductKey</th>\n",
       "      <th>CategoryName</th>\n",
       "      <th>SubcategoryName</th>\n",
       "      <th>ProductName</th>\n",
       "      <th>UnitPrice</th>\n",
       "      <th>OrderQuantity</th>\n",
       "      <th>Discount %</th>\n",
       "      <th>ShippingCost</th>\n",
       "      <th>OrderPriority</th>\n",
       "    </tr>\n",
       "  </thead>\n",
       "  <tbody>\n",
       "    <tr>\n",
       "      <th>0</th>\n",
       "      <td>IN-2017-47883</td>\n",
       "      <td>2017-01-01</td>\n",
       "      <td>2017-01-08</td>\n",
       "      <td>Standard Class</td>\n",
       "      <td>56</td>\n",
       "      <td>FUR-FU-10003447</td>\n",
       "      <td>Furniture</td>\n",
       "      <td>Furnishings</td>\n",
       "      <td>Eldon Light Bulb, Duo Pack</td>\n",
       "      <td>25.26</td>\n",
       "      <td>5</td>\n",
       "      <td>0.5</td>\n",
       "      <td>11.92</td>\n",
       "      <td>Medium</td>\n",
       "    </tr>\n",
       "    <tr>\n",
       "      <th>1</th>\n",
       "      <td>IZ-2017-4680</td>\n",
       "      <td>2017-01-03</td>\n",
       "      <td>2017-01-07</td>\n",
       "      <td>Standard Class</td>\n",
       "      <td>66</td>\n",
       "      <td>FUR-NOV-10002791</td>\n",
       "      <td>Furniture</td>\n",
       "      <td>Chairs</td>\n",
       "      <td>Novimex Swivel Stool, Set of Two</td>\n",
       "      <td>166.71</td>\n",
       "      <td>4</td>\n",
       "      <td>0.6</td>\n",
       "      <td>9.81</td>\n",
       "      <td>High</td>\n",
       "    </tr>\n",
       "    <tr>\n",
       "      <th>2</th>\n",
       "      <td>ID-2017-80230</td>\n",
       "      <td>2017-01-03</td>\n",
       "      <td>2017-01-09</td>\n",
       "      <td>Standard Class</td>\n",
       "      <td>64</td>\n",
       "      <td>FUR-CH-10000666</td>\n",
       "      <td>Furniture</td>\n",
       "      <td>Chairs</td>\n",
       "      <td>SAFCO Chairmat, Black</td>\n",
       "      <td>57.39</td>\n",
       "      <td>2</td>\n",
       "      <td>0.2</td>\n",
       "      <td>8.30</td>\n",
       "      <td>Low</td>\n",
       "    </tr>\n",
       "    <tr>\n",
       "      <th>3</th>\n",
       "      <td>ID-2017-80230</td>\n",
       "      <td>2017-01-03</td>\n",
       "      <td>2017-01-09</td>\n",
       "      <td>Standard Class</td>\n",
       "      <td>64</td>\n",
       "      <td>FUR-CH-10000214</td>\n",
       "      <td>Furniture</td>\n",
       "      <td>Chairs</td>\n",
       "      <td>Hon Rocking Chair, Set of Two</td>\n",
       "      <td>132.87</td>\n",
       "      <td>2</td>\n",
       "      <td>0.0</td>\n",
       "      <td>9.63</td>\n",
       "      <td>Low</td>\n",
       "    </tr>\n",
       "    <tr>\n",
       "      <th>4</th>\n",
       "      <td>ES-2017-4869686</td>\n",
       "      <td>2017-01-03</td>\n",
       "      <td>2017-01-07</td>\n",
       "      <td>Standard Class</td>\n",
       "      <td>63</td>\n",
       "      <td>FUR-BO-10000728</td>\n",
       "      <td>Furniture</td>\n",
       "      <td>Bookcases</td>\n",
       "      <td>Dania Corner Shelving, Traditional</td>\n",
       "      <td>122.07</td>\n",
       "      <td>7</td>\n",
       "      <td>0.6</td>\n",
       "      <td>12.56</td>\n",
       "      <td>Medium</td>\n",
       "    </tr>\n",
       "  </tbody>\n",
       "</table>\n",
       "</div>"
      ],
      "text/plain": [
       "  SalesOrderNumber  OrderDate DeliveryDate        ShipMode  CustomerKey  \\\n",
       "0    IN-2017-47883 2017-01-01   2017-01-08  Standard Class           56   \n",
       "1     IZ-2017-4680 2017-01-03   2017-01-07  Standard Class           66   \n",
       "2    ID-2017-80230 2017-01-03   2017-01-09  Standard Class           64   \n",
       "3    ID-2017-80230 2017-01-03   2017-01-09  Standard Class           64   \n",
       "4  ES-2017-4869686 2017-01-03   2017-01-07  Standard Class           63   \n",
       "\n",
       "         ProductKey CategoryName SubcategoryName  \\\n",
       "0   FUR-FU-10003447    Furniture     Furnishings   \n",
       "1  FUR-NOV-10002791    Furniture          Chairs   \n",
       "2   FUR-CH-10000666    Furniture          Chairs   \n",
       "3   FUR-CH-10000214    Furniture          Chairs   \n",
       "4   FUR-BO-10000728    Furniture       Bookcases   \n",
       "\n",
       "                          ProductName  UnitPrice  OrderQuantity  Discount %  \\\n",
       "0          Eldon Light Bulb, Duo Pack      25.26              5         0.5   \n",
       "1    Novimex Swivel Stool, Set of Two     166.71              4         0.6   \n",
       "2               SAFCO Chairmat, Black      57.39              2         0.2   \n",
       "3       Hon Rocking Chair, Set of Two     132.87              2         0.0   \n",
       "4  Dania Corner Shelving, Traditional     122.07              7         0.6   \n",
       "\n",
       "   ShippingCost OrderPriority  \n",
       "0         11.92        Medium  \n",
       "1          9.81          High  \n",
       "2          8.30           Low  \n",
       "3          9.63           Low  \n",
       "4         12.56        Medium  "
      ]
     },
     "execution_count": 235,
     "metadata": {},
     "output_type": "execute_result"
    }
   ],
   "source": [
    "sales.head()"
   ]
  },
  {
   "cell_type": "code",
   "execution_count": 236,
   "id": "4dd89bd3",
   "metadata": {},
   "outputs": [
    {
     "name": "stdout",
     "output_type": "stream",
     "text": [
      "<class 'pandas.core.frame.DataFrame'>\n",
      "RangeIndex: 29999 entries, 0 to 29998\n",
      "Data columns (total 14 columns):\n",
      " #   Column            Non-Null Count  Dtype         \n",
      "---  ------            --------------  -----         \n",
      " 0   SalesOrderNumber  29999 non-null  object        \n",
      " 1   OrderDate         29999 non-null  datetime64[ns]\n",
      " 2   DeliveryDate      29829 non-null  datetime64[ns]\n",
      " 3   ShipMode          29999 non-null  object        \n",
      " 4   CustomerKey       29999 non-null  int64         \n",
      " 5   ProductKey        29999 non-null  object        \n",
      " 6   CategoryName      29999 non-null  object        \n",
      " 7   SubcategoryName   29999 non-null  object        \n",
      " 8   ProductName       29999 non-null  object        \n",
      " 9   UnitPrice         29999 non-null  float64       \n",
      " 10  OrderQuantity     29999 non-null  int64         \n",
      " 11  Discount %        29999 non-null  float64       \n",
      " 12  ShippingCost      29999 non-null  float64       \n",
      " 13  OrderPriority     29999 non-null  object        \n",
      "dtypes: datetime64[ns](2), float64(3), int64(2), object(7)\n",
      "memory usage: 3.2+ MB\n"
     ]
    }
   ],
   "source": [
    "sales.info()"
   ]
  },
  {
   "cell_type": "code",
   "execution_count": 237,
   "id": "28e23ade",
   "metadata": {},
   "outputs": [
    {
     "data": {
      "text/plain": [
       "SalesOrderNumber      0\n",
       "OrderDate             0\n",
       "DeliveryDate        170\n",
       "ShipMode              0\n",
       "CustomerKey           0\n",
       "ProductKey            0\n",
       "CategoryName          0\n",
       "SubcategoryName       0\n",
       "ProductName           0\n",
       "UnitPrice             0\n",
       "OrderQuantity         0\n",
       "Discount %            0\n",
       "ShippingCost          0\n",
       "OrderPriority         0\n",
       "dtype: int64"
      ]
     },
     "execution_count": 237,
     "metadata": {},
     "output_type": "execute_result"
    }
   ],
   "source": [
    "sales.isnull().sum()"
   ]
  },
  {
   "cell_type": "code",
   "execution_count": 238,
   "id": "4e2beddf",
   "metadata": {},
   "outputs": [
    {
     "data": {
      "text/html": [
       "<div>\n",
       "<style scoped>\n",
       "    .dataframe tbody tr th:only-of-type {\n",
       "        vertical-align: middle;\n",
       "    }\n",
       "\n",
       "    .dataframe tbody tr th {\n",
       "        vertical-align: top;\n",
       "    }\n",
       "\n",
       "    .dataframe thead th {\n",
       "        text-align: right;\n",
       "    }\n",
       "</style>\n",
       "<table border=\"1\" class=\"dataframe\">\n",
       "  <thead>\n",
       "    <tr style=\"text-align: right;\">\n",
       "      <th></th>\n",
       "      <th>CustomerKey</th>\n",
       "      <th>Customer</th>\n",
       "      <th>StateName</th>\n",
       "      <th>Country</th>\n",
       "      <th>Region</th>\n",
       "      <th>Market</th>\n",
       "      <th>BusinessType</th>\n",
       "    </tr>\n",
       "  </thead>\n",
       "  <tbody>\n",
       "    <tr>\n",
       "      <th>0</th>\n",
       "      <td>56</td>\n",
       "      <td>Joseph Holt</td>\n",
       "      <td>New South Wales</td>\n",
       "      <td>Australia</td>\n",
       "      <td>Oceania</td>\n",
       "      <td>APAC</td>\n",
       "      <td>Consumer</td>\n",
       "    </tr>\n",
       "    <tr>\n",
       "      <th>1</th>\n",
       "      <td>57</td>\n",
       "      <td>Eugene Moren</td>\n",
       "      <td>Stockholm</td>\n",
       "      <td>Sweden</td>\n",
       "      <td>North</td>\n",
       "      <td>EU</td>\n",
       "      <td>Home Office</td>\n",
       "    </tr>\n",
       "    <tr>\n",
       "      <th>2</th>\n",
       "      <td>58</td>\n",
       "      <td>Annie Thurman</td>\n",
       "      <td>Budapest</td>\n",
       "      <td>Hungary</td>\n",
       "      <td>EMEA</td>\n",
       "      <td>EMEA</td>\n",
       "      <td>Consumer</td>\n",
       "    </tr>\n",
       "    <tr>\n",
       "      <th>3</th>\n",
       "      <td>59</td>\n",
       "      <td>Toby Braunhardt</td>\n",
       "      <td>Constantine</td>\n",
       "      <td>Algeria</td>\n",
       "      <td>Africa</td>\n",
       "      <td>Africa</td>\n",
       "      <td>Consumer</td>\n",
       "    </tr>\n",
       "    <tr>\n",
       "      <th>4</th>\n",
       "      <td>60</td>\n",
       "      <td>Nat Gilpin</td>\n",
       "      <td>Razavi Khorasan</td>\n",
       "      <td>Iran</td>\n",
       "      <td>EMEA</td>\n",
       "      <td>EMEA</td>\n",
       "      <td>Corporate</td>\n",
       "    </tr>\n",
       "  </tbody>\n",
       "</table>\n",
       "</div>"
      ],
      "text/plain": [
       "   CustomerKey         Customer        StateName    Country   Region  Market  \\\n",
       "0           56      Joseph Holt  New South Wales  Australia  Oceania    APAC   \n",
       "1           57     Eugene Moren        Stockholm     Sweden    North      EU   \n",
       "2           58    Annie Thurman         Budapest    Hungary     EMEA    EMEA   \n",
       "3           59  Toby Braunhardt      Constantine    Algeria   Africa  Africa   \n",
       "4           60       Nat Gilpin  Razavi Khorasan       Iran     EMEA    EMEA   \n",
       "\n",
       "  BusinessType  \n",
       "0     Consumer  \n",
       "1  Home Office  \n",
       "2     Consumer  \n",
       "3     Consumer  \n",
       "4    Corporate  "
      ]
     },
     "execution_count": 238,
     "metadata": {},
     "output_type": "execute_result"
    }
   ],
   "source": [
    "customers.head()"
   ]
  },
  {
   "cell_type": "code",
   "execution_count": 239,
   "id": "b891e4ec",
   "metadata": {},
   "outputs": [
    {
     "name": "stdout",
     "output_type": "stream",
     "text": [
      "<class 'pandas.core.frame.DataFrame'>\n",
      "RangeIndex: 18804 entries, 0 to 18803\n",
      "Data columns (total 7 columns):\n",
      " #   Column        Non-Null Count  Dtype \n",
      "---  ------        --------------  ----- \n",
      " 0   CustomerKey   18804 non-null  int64 \n",
      " 1   Customer      18804 non-null  object\n",
      " 2   StateName     18804 non-null  object\n",
      " 3   Country       18804 non-null  object\n",
      " 4   Region        18804 non-null  object\n",
      " 5   Market        18804 non-null  object\n",
      " 6   BusinessType  18804 non-null  object\n",
      "dtypes: int64(1), object(6)\n",
      "memory usage: 1.0+ MB\n"
     ]
    }
   ],
   "source": [
    "customers.info()"
   ]
  },
  {
   "cell_type": "markdown",
   "id": "eb8d2334",
   "metadata": {},
   "source": [
    "#### <span style=\"color: green\">The dataset has 2 sheets named Sales and Customer.</span> \n",
    "\n",
    "The Sales worksheet has 29,999 rows and 14 columns, and there are 170 null values in the DeliveryDate column. We have data containing sales of Furniture and Office Supplies from 01/01/2017 to 12/31/2020 based on OrderDate. The data contains the Order date, the products and their respective Unit price, shipping cost, and discounts.\n",
    "\n",
    "The Customer worksheet includes customer information matching each sold item with 18,804 rows and 7 columns.\n",
    "\n",
    "---\n",
    "\n",
    "##### <span style=\"color: green\"> *Bộ dữ liệu có 2 sheet tên là Sales và Customer.*</span>\n",
    "\n",
    "*Trong sheet 'Sales' có 29.999 hàng và 14 cột, và có 170 giá trị rỗng trong cột DeliveryDate. Dữ liệu chứa doanh số bán Đồ nội thất và Đồ dùng văn phòng từ ngày 01/01/2017 đến 31/12/2020 dựa trên Ngày đặt hàng. Dữ liệu cũng chứa ngày đặt hàng, sản phẩm và đơn giá, chi phí vận chuyển và chiết khấu tương ứng của chúng.*\n",
    "\n",
    "*Trong sheet 'Customer' bao gồm thông tin khách hàng khớp với từng mặt hàng đã bán, với 18.804 hàng và 7 cột.*"
   ]
  },
  {
   "cell_type": "markdown",
   "id": "57fe20dc",
   "metadata": {},
   "source": [
    "## <span style=\"color: green\">Analyzing Sales status</span> \n",
    "\n",
    "We're going to start our analysis by examining the distribution of the data.\n",
    "\n",
    "\n",
    "### <span style=\"color: green\">Phân tích tình hình kinh doanh</span> \n",
    "\n",
    "*Chúng tôi sẽ bắt đầu việc phân tích của mình bằng cách kiểm tra sự phân phối dữ liệu.*\n"
   ]
  },
  {
   "cell_type": "code",
   "execution_count": 266,
   "id": "aa658636",
   "metadata": {},
   "outputs": [],
   "source": [
    "# create new columns to analysis \n",
    "sales['Sales']=sales['UnitPrice'] * sales['OrderQuantity'] * (100-sales['Discount %'])/100\n",
    "sales['OrderMonth']=sales.OrderDate.dt.month\n",
    "sales['OrderQuarter']=sales.OrderDate.dt.quarter\n",
    "sales['OrderYear']=sales.OrderDate.dt.year.astype(str)\n",
    "sales['CatSub'] = sales['CategoryName'] + ', ' + sales['SubcategoryName']\n",
    "#merge two sheets by left join on Customer\n",
    "data_mix = pd.merge(sales, customers, how='left', on='CustomerKey')"
   ]
  },
  {
   "cell_type": "code",
   "execution_count": 267,
   "id": "6feabe8a",
   "metadata": {},
   "outputs": [
    {
     "data": {
      "text/html": [
       "<div>\n",
       "<style scoped>\n",
       "    .dataframe tbody tr th:only-of-type {\n",
       "        vertical-align: middle;\n",
       "    }\n",
       "\n",
       "    .dataframe tbody tr th {\n",
       "        vertical-align: top;\n",
       "    }\n",
       "\n",
       "    .dataframe thead th {\n",
       "        text-align: right;\n",
       "    }\n",
       "</style>\n",
       "<table border=\"1\" class=\"dataframe\">\n",
       "  <thead>\n",
       "    <tr style=\"text-align: right;\">\n",
       "      <th></th>\n",
       "      <th>SalesOrderNumber</th>\n",
       "      <th>OrderDate</th>\n",
       "      <th>DeliveryDate</th>\n",
       "      <th>ShipMode</th>\n",
       "      <th>CustomerKey</th>\n",
       "      <th>ProductKey</th>\n",
       "      <th>CategoryName</th>\n",
       "      <th>SubcategoryName</th>\n",
       "      <th>ProductName</th>\n",
       "      <th>UnitPrice</th>\n",
       "      <th>...</th>\n",
       "      <th>OrderMonth</th>\n",
       "      <th>OrderQuarter</th>\n",
       "      <th>OrderYear</th>\n",
       "      <th>CatSub</th>\n",
       "      <th>Customer</th>\n",
       "      <th>StateName</th>\n",
       "      <th>Country</th>\n",
       "      <th>Region</th>\n",
       "      <th>Market</th>\n",
       "      <th>BusinessType</th>\n",
       "    </tr>\n",
       "  </thead>\n",
       "  <tbody>\n",
       "    <tr>\n",
       "      <th>0</th>\n",
       "      <td>IN-2017-47883</td>\n",
       "      <td>2017-01-01</td>\n",
       "      <td>2017-01-08</td>\n",
       "      <td>Standard Class</td>\n",
       "      <td>56</td>\n",
       "      <td>FUR-FU-10003447</td>\n",
       "      <td>Furniture</td>\n",
       "      <td>Furnishings</td>\n",
       "      <td>Eldon Light Bulb, Duo Pack</td>\n",
       "      <td>25.26</td>\n",
       "      <td>...</td>\n",
       "      <td>1</td>\n",
       "      <td>1</td>\n",
       "      <td>2017</td>\n",
       "      <td>Furniture, Furnishings</td>\n",
       "      <td>Joseph Holt</td>\n",
       "      <td>New South Wales</td>\n",
       "      <td>Australia</td>\n",
       "      <td>Oceania</td>\n",
       "      <td>APAC</td>\n",
       "      <td>Consumer</td>\n",
       "    </tr>\n",
       "    <tr>\n",
       "      <th>1</th>\n",
       "      <td>IZ-2017-4680</td>\n",
       "      <td>2017-01-03</td>\n",
       "      <td>2017-01-07</td>\n",
       "      <td>Standard Class</td>\n",
       "      <td>66</td>\n",
       "      <td>FUR-NOV-10002791</td>\n",
       "      <td>Furniture</td>\n",
       "      <td>Chairs</td>\n",
       "      <td>Novimex Swivel Stool, Set of Two</td>\n",
       "      <td>166.71</td>\n",
       "      <td>...</td>\n",
       "      <td>1</td>\n",
       "      <td>1</td>\n",
       "      <td>2017</td>\n",
       "      <td>Furniture, Chairs</td>\n",
       "      <td>Lindsay Williams</td>\n",
       "      <td>Ninawa</td>\n",
       "      <td>Iraq</td>\n",
       "      <td>EMEA</td>\n",
       "      <td>EMEA</td>\n",
       "      <td>Corporate</td>\n",
       "    </tr>\n",
       "    <tr>\n",
       "      <th>2</th>\n",
       "      <td>ID-2017-80230</td>\n",
       "      <td>2017-01-03</td>\n",
       "      <td>2017-01-09</td>\n",
       "      <td>Standard Class</td>\n",
       "      <td>64</td>\n",
       "      <td>FUR-CH-10000666</td>\n",
       "      <td>Furniture</td>\n",
       "      <td>Chairs</td>\n",
       "      <td>SAFCO Chairmat, Black</td>\n",
       "      <td>57.39</td>\n",
       "      <td>...</td>\n",
       "      <td>1</td>\n",
       "      <td>1</td>\n",
       "      <td>2017</td>\n",
       "      <td>Furniture, Chairs</td>\n",
       "      <td>Ken Lonsdale</td>\n",
       "      <td>Auckland</td>\n",
       "      <td>New Zealand</td>\n",
       "      <td>Oceania</td>\n",
       "      <td>APAC</td>\n",
       "      <td>Consumer</td>\n",
       "    </tr>\n",
       "    <tr>\n",
       "      <th>3</th>\n",
       "      <td>ID-2017-80230</td>\n",
       "      <td>2017-01-03</td>\n",
       "      <td>2017-01-09</td>\n",
       "      <td>Standard Class</td>\n",
       "      <td>64</td>\n",
       "      <td>FUR-CH-10000214</td>\n",
       "      <td>Furniture</td>\n",
       "      <td>Chairs</td>\n",
       "      <td>Hon Rocking Chair, Set of Two</td>\n",
       "      <td>132.87</td>\n",
       "      <td>...</td>\n",
       "      <td>1</td>\n",
       "      <td>1</td>\n",
       "      <td>2017</td>\n",
       "      <td>Furniture, Chairs</td>\n",
       "      <td>Ken Lonsdale</td>\n",
       "      <td>Auckland</td>\n",
       "      <td>New Zealand</td>\n",
       "      <td>Oceania</td>\n",
       "      <td>APAC</td>\n",
       "      <td>Consumer</td>\n",
       "    </tr>\n",
       "    <tr>\n",
       "      <th>4</th>\n",
       "      <td>ES-2017-4869686</td>\n",
       "      <td>2017-01-03</td>\n",
       "      <td>2017-01-07</td>\n",
       "      <td>Standard Class</td>\n",
       "      <td>63</td>\n",
       "      <td>FUR-BO-10000728</td>\n",
       "      <td>Furniture</td>\n",
       "      <td>Bookcases</td>\n",
       "      <td>Dania Corner Shelving, Traditional</td>\n",
       "      <td>122.07</td>\n",
       "      <td>...</td>\n",
       "      <td>1</td>\n",
       "      <td>1</td>\n",
       "      <td>2017</td>\n",
       "      <td>Furniture, Bookcases</td>\n",
       "      <td>Dorothy Dickinson</td>\n",
       "      <td>England</td>\n",
       "      <td>United Kingdom</td>\n",
       "      <td>North</td>\n",
       "      <td>EU</td>\n",
       "      <td>Consumer</td>\n",
       "    </tr>\n",
       "  </tbody>\n",
       "</table>\n",
       "<p>5 rows × 25 columns</p>\n",
       "</div>"
      ],
      "text/plain": [
       "  SalesOrderNumber  OrderDate DeliveryDate        ShipMode  CustomerKey  \\\n",
       "0    IN-2017-47883 2017-01-01   2017-01-08  Standard Class           56   \n",
       "1     IZ-2017-4680 2017-01-03   2017-01-07  Standard Class           66   \n",
       "2    ID-2017-80230 2017-01-03   2017-01-09  Standard Class           64   \n",
       "3    ID-2017-80230 2017-01-03   2017-01-09  Standard Class           64   \n",
       "4  ES-2017-4869686 2017-01-03   2017-01-07  Standard Class           63   \n",
       "\n",
       "         ProductKey CategoryName SubcategoryName  \\\n",
       "0   FUR-FU-10003447    Furniture     Furnishings   \n",
       "1  FUR-NOV-10002791    Furniture          Chairs   \n",
       "2   FUR-CH-10000666    Furniture          Chairs   \n",
       "3   FUR-CH-10000214    Furniture          Chairs   \n",
       "4   FUR-BO-10000728    Furniture       Bookcases   \n",
       "\n",
       "                          ProductName  UnitPrice  ...  OrderMonth  \\\n",
       "0          Eldon Light Bulb, Duo Pack      25.26  ...           1   \n",
       "1    Novimex Swivel Stool, Set of Two     166.71  ...           1   \n",
       "2               SAFCO Chairmat, Black      57.39  ...           1   \n",
       "3       Hon Rocking Chair, Set of Two     132.87  ...           1   \n",
       "4  Dania Corner Shelving, Traditional     122.07  ...           1   \n",
       "\n",
       "   OrderQuarter  OrderYear                  CatSub           Customer  \\\n",
       "0             1       2017  Furniture, Furnishings        Joseph Holt   \n",
       "1             1       2017       Furniture, Chairs   Lindsay Williams   \n",
       "2             1       2017       Furniture, Chairs       Ken Lonsdale   \n",
       "3             1       2017       Furniture, Chairs       Ken Lonsdale   \n",
       "4             1       2017    Furniture, Bookcases  Dorothy Dickinson   \n",
       "\n",
       "         StateName         Country   Region Market BusinessType  \n",
       "0  New South Wales       Australia  Oceania   APAC     Consumer  \n",
       "1           Ninawa            Iraq     EMEA   EMEA    Corporate  \n",
       "2         Auckland     New Zealand  Oceania   APAC     Consumer  \n",
       "3         Auckland     New Zealand  Oceania   APAC     Consumer  \n",
       "4          England  United Kingdom    North     EU     Consumer  \n",
       "\n",
       "[5 rows x 25 columns]"
      ]
     },
     "execution_count": 267,
     "metadata": {},
     "output_type": "execute_result"
    }
   ],
   "source": [
    "data_mix.head()"
   ]
  },
  {
   "cell_type": "markdown",
   "id": "56785bc9",
   "metadata": {},
   "source": [
    "## <span style=\"color: green\">Firstly, we analyze the Order and Sales from 2017 to 2020</span> \n",
    "### *<span style=\"color: green\">Đầu tiên, chúng tôi phân tích Đơn hàng và Doanh số từ năm 2017 đến năm 2020</span>*"
   ]
  },
  {
   "cell_type": "markdown",
   "id": "4e0f7b08",
   "metadata": {},
   "source": [
    "### <span style=\"color: green\">Sales - Orders performance in the years between 2017 to 2020</span> \n",
    "#### <span style=\"color: green\">*Hoạt động bán hàng và đơn đặt hàng qua từng năm từ 2017 đến 2020*</span> "
   ]
  },
  {
   "cell_type": "code",
   "execution_count": 280,
   "id": "76fa5cb0",
   "metadata": {},
   "outputs": [
    {
     "data": {
      "image/png": "[encoded data removed]",
      "text/plain": [
       "<Figure size 1080x360 with 2 Axes>"
      ]
     },
     "metadata": {
      "needs_background": "light"
     },
     "output_type": "display_data"
    }
   ],
   "source": [
    "#create figure objects and axis\n",
    "fig = plt.figure(figsize=(15,5))\n",
    "ax = fig.add_subplot(111)\n",
    "ax2 = ax.twinx()\n",
    "\n",
    "#create the results between Total Order Number and Sales by Months of Years\n",
    "df=data_mix.groupby([\"OrderYear\",\"OrderMonth\"]).agg({'SalesOrderNumber': 'nunique', 'Sales': sum})[['SalesOrderNumber','Sales']] \n",
    "\n",
    "#create basic bar plot\n",
    "df['Sales'].plot(kind='bar', color='#B22222', ax=ax, width=0.6, legend=True)\n",
    "\n",
    "#add line to plot\n",
    "df['SalesOrderNumber'].plot(kind='line', color='#4682B4', ax=ax2, linewidth=2.5, marker=\"o\", ls='--', legend=True)\n",
    "\n",
    "#specify axis colors\n",
    "ax.tick_params(axis='y', colors='#B22222')\n",
    "ax2.tick_params(axis='y', colors='#4682B4')\n",
    "\n",
    "#get the labels of the axis in the legend\n",
    "ax_bar, label = ax.get_legend_handles_labels()\n",
    "ax2_line, label2 = ax2.get_legend_handles_labels()\n",
    "ax2.legend(ax_bar + ax2_line, label + label2, loc=0)\n",
    "\n",
    "#specify the axis property\n",
    "ax.set_ylabel('Sales')\n",
    "ax2.set_ylabel('OrderNumber')\n",
    "ax.set_xlabel(\"Date\")\n",
    "ax.tick_params(axis='x', rotation = 300)\n",
    "plt.title(\"Sales - Orders performance in the years 2017-2020\",size=16, weight='bold')\n",
    "\n",
    "plt.show()"
   ]
  },
  {
   "cell_type": "code",
   "execution_count": 270,
   "id": "b98f56f5",
   "metadata": {},
   "outputs": [
    {
     "data": {
      "application/vnd.plotly.v1+json": {
       "config": {
        "plotlyServerURL": "https://plot.ly"
       },
       "data": [
        {
         "marker": {
          "color": "blue",
          "line": {
           "color": "blue",
           "width": 0.05
          }
         },
         "name": "Quarter 4",
         "type": "bar",
         "x": [
          "2017",
          "2018",
          "2019",
          "2020"
         ],
         "y": [
          35.6,
          33.88,
          31.2,
          33.62
         ]
        },
        {
         "marker": {
          "color": "yellowgreen",
          "line": {
           "color": "yellowgreen",
           "width": 0.05
          }
         },
         "name": "Quarter 3",
         "type": "bar",
         "x": [
          "2017",
          "2018",
          "2019",
          "2020"
         ],
         "y": [
          26.99,
          27.3,
          28.74,
          27.32
         ]
        },
        {
         "marker": {
          "color": "violet",
          "line": {
           "color": "violet",
           "width": 0.05
          }
         },
         "name": "Quarter 2",
         "type": "bar",
         "x": [
          "2017",
          "2018",
          "2019",
          "2020"
         ],
         "y": [
          22.55,
          23.59,
          24.37,
          23.47
         ]
        },
        {
         "marker": {
          "color": "turquoise",
          "line": {
           "color": "turquoise",
           "width": 0.05
          }
         },
         "name": "Quarter 1",
         "type": "bar",
         "x": [
          "2017",
          "2018",
          "2019",
          "2020"
         ],
         "y": [
          14.86,
          15.23,
          15.69,
          15.58
         ]
        }
       ],
       "layout": {
        "barmode": "stack",
        "height": 400,
        "paper_bgcolor": "white",
        "plot_bgcolor": "white",
        "template": {
         "data": {
          "bar": [
           {
            "error_x": {
             "color": "#2a3f5f"
            },
            "error_y": {
             "color": "#2a3f5f"
            },
            "marker": {
             "line": {
              "color": "#E5ECF6",
              "width": 0.5
             },
             "pattern": {
              "fillmode": "overlay",
              "size": 10,
              "solidity": 0.2
             }
            },
            "type": "bar"
           }
          ],
          "barpolar": [
           {
            "marker": {
             "line": {
              "color": "#E5ECF6",
              "width": 0.5
             },
             "pattern": {
              "fillmode": "overlay",
              "size": 10,
              "solidity": 0.2
             }
            },
            "type": "barpolar"
           }
          ],
          "carpet": [
           {
            "aaxis": {
             "endlinecolor": "#2a3f5f",
             "gridcolor": "white",
             "linecolor": "white",
             "minorgridcolor": "white",
             "startlinecolor": "#2a3f5f"
            },
            "baxis": {
             "endlinecolor": "#2a3f5f",
             "gridcolor": "white",
             "linecolor": "white",
             "minorgridcolor": "white",
             "startlinecolor": "#2a3f5f"
            },
            "type": "carpet"
           }
          ],
          "choropleth": [
           {
            "colorbar": {
             "outlinewidth": 0,
             "ticks": ""
            },
            "type": "choropleth"
           }
          ],
          "contour": [
           {
            "colorbar": {
             "outlinewidth": 0,
             "ticks": ""
            },
            "colorscale": [
             [
              0,
              "#0d0887"
             ],
             [
              0.1111111111111111,
              "#46039f"
             ],
             [
              0.2222222222222222,
              "#7201a8"
             ],
             [
              0.3333333333333333,
              "#9c179e"
             ],
             [
              0.4444444444444444,
              "#bd3786"
             ],
             [
              0.5555555555555556,
              "#d8576b"
             ],
             [
              0.6666666666666666,
              "#ed7953"
             ],
             [
              0.7777777777777778,
              "#fb9f3a"
             ],
             [
              0.8888888888888888,
              "#fdca26"
             ],
             [
              1,
              "#f0f921"
             ]
            ],
            "type": "contour"
           }
          ],
          "contourcarpet": [
           {
            "colorbar": {
             "outlinewidth": 0,
             "ticks": ""
            },
            "type": "contourcarpet"
           }
          ],
          "heatmap": [
           {
            "colorbar": {
             "outlinewidth": 0,
             "ticks": ""
            },
            "colorscale": [
             [
              0,
              "#0d0887"
             ],
             [
              0.1111111111111111,
              "#46039f"
             ],
             [
              0.2222222222222222,
              "#7201a8"
             ],
             [
              0.3333333333333333,
              "#9c179e"
             ],
             [
              0.4444444444444444,
              "#bd3786"
             ],
             [
              0.5555555555555556,
              "#d8576b"
             ],
             [
              0.6666666666666666,
              "#ed7953"
             ],
             [
              0.7777777777777778,
              "#fb9f3a"
             ],
             [
              0.8888888888888888,
              "#fdca26"
             ],
             [
              1,
              "#f0f921"
             ]
            ],
            "type": "heatmap"
           }
          ],
          "heatmapgl": [
           {
            "colorbar": {
             "outlinewidth": 0,
             "ticks": ""
            },
            "colorscale": [
             [
              0,
              "#0d0887"
             ],
             [
              0.1111111111111111,
              "#46039f"
             ],
             [
              0.2222222222222222,
              "#7201a8"
             ],
             [
              0.3333333333333333,
              "#9c179e"
             ],
             [
              0.4444444444444444,
              "#bd3786"
             ],
             [
              0.5555555555555556,
              "#d8576b"
             ],
             [
              0.6666666666666666,
              "#ed7953"
             ],
             [
              0.7777777777777778,
              "#fb9f3a"
             ],
             [
              0.8888888888888888,
              "#fdca26"
             ],
             [
              1,
              "#f0f921"
             ]
            ],
            "type": "heatmapgl"
           }
          ],
          "histogram": [
           {
            "marker": {
             "pattern": {
              "fillmode": "overlay",
              "size": 10,
              "solidity": 0.2
             }
            },
            "type": "histogram"
           }
          ],
          "histogram2d": [
           {
            "colorbar": {
             "outlinewidth": 0,
             "ticks": ""
            },
            "colorscale": [
             [
              0,
              "#0d0887"
             ],
             [
              0.1111111111111111,
              "#46039f"
             ],
             [
              0.2222222222222222,
              "#7201a8"
             ],
             [
              0.3333333333333333,
              "#9c179e"
             ],
             [
              0.4444444444444444,
              "#bd3786"
             ],
             [
              0.5555555555555556,
              "#d8576b"
             ],
             [
              0.6666666666666666,
              "#ed7953"
             ],
             [
              0.7777777777777778,
              "#fb9f3a"
             ],
             [
              0.8888888888888888,
              "#fdca26"
             ],
             [
              1,
              "#f0f921"
             ]
            ],
            "type": "histogram2d"
           }
          ],
          "histogram2dcontour": [
           {
            "colorbar": {
             "outlinewidth": 0,
             "ticks": ""
            },
            "colorscale": [
             [
              0,
              "#0d0887"
             ],
             [
              0.1111111111111111,
              "#46039f"
             ],
             [
              0.2222222222222222,
              "#7201a8"
             ],
             [
              0.3333333333333333,
              "#9c179e"
             ],
             [
              0.4444444444444444,
              "#bd3786"
             ],
             [
              0.5555555555555556,
              "#d8576b"
             ],
             [
              0.6666666666666666,
              "#ed7953"
             ],
             [
              0.7777777777777778,
              "#fb9f3a"
             ],
             [
              0.8888888888888888,
              "#fdca26"
             ],
             [
              1,
              "#f0f921"
             ]
            ],
            "type": "histogram2dcontour"
           }
          ],
          "mesh3d": [
           {
            "colorbar": {
             "outlinewidth": 0,
             "ticks": ""
            },
            "type": "mesh3d"
           }
          ],
          "parcoords": [
           {
            "line": {
             "colorbar": {
              "outlinewidth": 0,
              "ticks": ""
             }
            },
            "type": "parcoords"
           }
          ],
          "pie": [
           {
            "automargin": true,
            "type": "pie"
           }
          ],
          "scatter": [
           {
            "fillpattern": {
             "fillmode": "overlay",
             "size": 10,
             "solidity": 0.2
            },
            "type": "scatter"
           }
          ],
          "scatter3d": [
           {
            "line": {
             "colorbar": {
              "outlinewidth": 0,
              "ticks": ""
             }
            },
            "marker": {
             "colorbar": {
              "outlinewidth": 0,
              "ticks": ""
             }
            },
            "type": "scatter3d"
           }
          ],
          "scattercarpet": [
           {
            "marker": {
             "colorbar": {
              "outlinewidth": 0,
              "ticks": ""
             }
            },
            "type": "scattercarpet"
           }
          ],
          "scattergeo": [
           {
            "marker": {
             "colorbar": {
              "outlinewidth": 0,
              "ticks": ""
             }
            },
            "type": "scattergeo"
           }
          ],
          "scattergl": [
           {
            "marker": {
             "colorbar": {
              "outlinewidth": 0,
              "ticks": ""
             }
            },
            "type": "scattergl"
           }
          ],
          "scattermapbox": [
           {
            "marker": {
             "colorbar": {
              "outlinewidth": 0,
              "ticks": ""
             }
            },
            "type": "scattermapbox"
           }
          ],
          "scatterpolar": [
           {
            "marker": {
             "colorbar": {
              "outlinewidth": 0,
              "ticks": ""
             }
            },
            "type": "scatterpolar"
           }
          ],
          "scatterpolargl": [
           {
            "marker": {
             "colorbar": {
              "outlinewidth": 0,
              "ticks": ""
             }
            },
            "type": "scatterpolargl"
           }
          ],
          "scatterternary": [
           {
            "marker": {
             "colorbar": {
              "outlinewidth": 0,
              "ticks": ""
             }
            },
            "type": "scatterternary"
           }
          ],
          "surface": [
           {
            "colorbar": {
             "outlinewidth": 0,
             "ticks": ""
            },
            "colorscale": [
             [
              0,
              "#0d0887"
             ],
             [
              0.1111111111111111,
              "#46039f"
             ],
             [
              0.2222222222222222,
              "#7201a8"
             ],
             [
              0.3333333333333333,
              "#9c179e"
             ],
             [
              0.4444444444444444,
              "#bd3786"
             ],
             [
              0.5555555555555556,
              "#d8576b"
             ],
             [
              0.6666666666666666,
              "#ed7953"
             ],
             [
              0.7777777777777778,
              "#fb9f3a"
             ],
             [
              0.8888888888888888,
              "#fdca26"
             ],
             [
              1,
              "#f0f921"
             ]
            ],
            "type": "surface"
           }
          ],
          "table": [
           {
            "cells": {
             "fill": {
              "color": "#EBF0F8"
             },
             "line": {
              "color": "white"
             }
            },
            "header": {
             "fill": {
              "color": "#C8D4E3"
             },
             "line": {
              "color": "white"
             }
            },
            "type": "table"
           }
          ]
         },
         "layout": {
          "annotationdefaults": {
           "arrowcolor": "#2a3f5f",
           "arrowhead": 0,
           "arrowwidth": 1
          },
          "autotypenumbers": "strict",
          "coloraxis": {
           "colorbar": {
            "outlinewidth": 0,
            "ticks": ""
           }
          },
          "colorscale": {
           "diverging": [
            [
             0,
             "#8e0152"
            ],
            [
             0.1,
             "#c51b7d"
            ],
            [
             0.2,
             "#de77ae"
            ],
            [
             0.3,
             "#f1b6da"
            ],
            [
             0.4,
             "#fde0ef"
            ],
            [
             0.5,
             "#f7f7f7"
            ],
            [
             0.6,
             "#e6f5d0"
            ],
            [
             0.7,
             "#b8e186"
            ],
            [
             0.8,
             "#7fbc41"
            ],
            [
             0.9,
             "#4d9221"
            ],
            [
             1,
             "#276419"
            ]
           ],
           "sequential": [
            [
             0,
             "#0d0887"
            ],
            [
             0.1111111111111111,
             "#46039f"
            ],
            [
             0.2222222222222222,
             "#7201a8"
            ],
            [
             0.3333333333333333,
             "#9c179e"
            ],
            [
             0.4444444444444444,
             "#bd3786"
            ],
            [
             0.5555555555555556,
             "#d8576b"
            ],
            [
             0.6666666666666666,
             "#ed7953"
            ],
            [
             0.7777777777777778,
             "#fb9f3a"
            ],
            [
             0.8888888888888888,
             "#fdca26"
            ],
            [
             1,
             "#f0f921"
            ]
           ],
           "sequentialminus": [
            [
             0,
             "#0d0887"
            ],
            [
             0.1111111111111111,
             "#46039f"
            ],
            [
             0.2222222222222222,
             "#7201a8"
            ],
            [
             0.3333333333333333,
             "#9c179e"
            ],
            [
             0.4444444444444444,
             "#bd3786"
            ],
            [
             0.5555555555555556,
             "#d8576b"
            ],
            [
             0.6666666666666666,
             "#ed7953"
            ],
            [
             0.7777777777777778,
             "#fb9f3a"
            ],
            [
             0.8888888888888888,
             "#fdca26"
            ],
            [
             1,
             "#f0f921"
            ]
           ]
          },
          "colorway": [
           "#636efa",
           "#EF553B",
           "#00cc96",
           "#ab63fa",
           "#FFA15A",
           "#19d3f3",
           "#FF6692",
           "#B6E880",
           "#FF97FF",
           "#FECB52"
          ],
          "font": {
           "color": "#2a3f5f"
          },
          "geo": {
           "bgcolor": "white",
           "lakecolor": "white",
           "landcolor": "#E5ECF6",
           "showlakes": true,
           "showland": true,
           "subunitcolor": "white"
          },
          "hoverlabel": {
           "align": "left"
          },
          "hovermode": "closest",
          "mapbox": {
           "style": "light"
          },
          "paper_bgcolor": "white",
          "plot_bgcolor": "#E5ECF6",
          "polar": {
           "angularaxis": {
            "gridcolor": "white",
            "linecolor": "white",
            "ticks": ""
           },
           "bgcolor": "#E5ECF6",
           "radialaxis": {
            "gridcolor": "white",
            "linecolor": "white",
            "ticks": ""
           }
          },
          "scene": {
           "xaxis": {
            "backgroundcolor": "#E5ECF6",
            "gridcolor": "white",
            "gridwidth": 2,
            "linecolor": "white",
            "showbackground": true,
            "ticks": "",
            "zerolinecolor": "white"
           },
           "yaxis": {
            "backgroundcolor": "#E5ECF6",
            "gridcolor": "white",
            "gridwidth": 2,
            "linecolor": "white",
            "showbackground": true,
            "ticks": "",
            "zerolinecolor": "white"
           },
           "zaxis": {
            "backgroundcolor": "#E5ECF6",
            "gridcolor": "white",
            "gridwidth": 2,
            "linecolor": "white",
            "showbackground": true,
            "ticks": "",
            "zerolinecolor": "white"
           }
          },
          "shapedefaults": {
           "line": {
            "color": "#2a3f5f"
           }
          },
          "ternary": {
           "aaxis": {
            "gridcolor": "white",
            "linecolor": "white",
            "ticks": ""
           },
           "baxis": {
            "gridcolor": "white",
            "linecolor": "white",
            "ticks": ""
           },
           "bgcolor": "#E5ECF6",
           "caxis": {
            "gridcolor": "white",
            "linecolor": "white",
            "ticks": ""
           }
          },
          "title": {
           "x": 0.05
          },
          "xaxis": {
           "automargin": true,
           "gridcolor": "white",
           "linecolor": "white",
           "ticks": "",
           "title": {
            "standoff": 15
           },
           "zerolinecolor": "white",
           "zerolinewidth": 2
          },
          "yaxis": {
           "automargin": true,
           "gridcolor": "white",
           "linecolor": "white",
           "ticks": "",
           "title": {
            "standoff": 15
           },
           "zerolinecolor": "white",
           "zerolinewidth": 2
          }
         }
        },
        "title": {
         "font": {
          "size": 16
         },
         "text": "% Number of Orders by Quarters in Years",
         "x": 0.5,
         "xanchor": "center",
         "y": 0.9,
         "yanchor": "top"
        },
        "width": 920,
        "xaxis": {
         "title": {
          "font": {
           "size": 10
          },
          "text": "Year"
         }
        },
        "yaxis": {
         "tickmode": "array",
         "ticktext": [
          "0%",
          "20%",
          "40%",
          "60%",
          "80%",
          "100%"
         ],
         "tickvals": [
          0,
          20,
          40,
          60,
          80,
          100
         ],
         "title": {
          "font": {
           "size": 10
          },
          "text": "Number of Order %"
         }
        }
       }
      }
     },
     "metadata": {},
     "output_type": "display_data"
    }
   ],
   "source": [
    "#create DataFrame by Number of Order and Order Date\n",
    "orderdateO=data_mix.pivot_table(values='SalesOrderNumber', index='OrderYear',columns='OrderQuarter', aggfunc='nunique')\n",
    "orderdateO[5] = orderdateO.sum(axis=1)\n",
    "#change data to percentage\n",
    "for i in range(1,5):\n",
    "    orderdateO[i] = round(orderdateO[i]/orderdateO[5]*100,2)\n",
    "\n",
    "#create 100% stack bar plot Total Order Number by Quarters of Years\n",
    "import plotly.graph_objs as go\n",
    "fig = go.Figure()\n",
    "fig.add_trace(go.Bar(y=orderdateO[4],x=orderdateO.index,name=\"Quarter 4\",marker=dict(color='blue', line=dict(color='blue', width=0.05))))\n",
    "fig.add_trace(go.Bar(y=orderdateO[3],x=orderdateO.index,name=\"Quarter 3\",marker=dict(color='yellowgreen', line=dict(color='yellowgreen', width=0.05))))\n",
    "fig.add_trace(go.Bar(y=orderdateO[2],x=orderdateO.index,name=\"Quarter 2\",marker=dict(color='violet', line=dict(color='violet', width=0.05))))\n",
    "fig.add_trace(go.Bar(y=orderdateO[1],x=orderdateO.index,name=\"Quarter 1\",marker=dict(color='turquoise', line=dict(color='turquoise', width=0.05))))\n",
    "fig.update_layout(xaxis=dict(title_text=\"Year\",titlefont=dict(size=10)),\n",
    "    yaxis=dict(title_text=\"Number of Order %\",ticktext=[\"0%\", \"20%\", \"40%\", \"60%\",\"80%\",\"100%\"],tickvals=[0, 20, 40, 60, 80, 100],tickmode=\"array\",titlefont=dict(size=10)),\n",
    "    barmode='stack',width=920,height=400,paper_bgcolor='white',plot_bgcolor='white',title_font_size=16,\n",
    "    title={'text': \"% Number of Orders by Quarters in Years\",'x':0.5,'y':0.9,'xanchor': 'center','yanchor': 'top'})\n",
    "\n"
   ]
  },
  {
   "cell_type": "code",
   "execution_count": 282,
   "id": "10bbc02c",
   "metadata": {},
   "outputs": [
    {
     "data": {
      "image/png": "[encoded data removed]",
      "text/plain": [
       "<Figure size 1245.6x360 with 2 Axes>"
      ]
     },
     "metadata": {
      "needs_background": "light"
     },
     "output_type": "display_data"
    },
    {
     "data": {
      "image/png": "[encoded data removed]",
      "text/plain": [
       "<Figure size 936x576 with 4 Axes>"
      ]
     },
     "metadata": {
      "needs_background": "light"
     },
     "output_type": "display_data"
    }
   ],
   "source": [
    "#create the pivot table to view Sales results by Month of Year\n",
    "pvsales = data_mix.pivot_table(values='Sales',index='OrderMonth',columns='OrderYear', aggfunc='sum')\n",
    "\n",
    "### co the se bo luon heatmap nay\n",
    "#create basic heatmap\n",
    "fig, ax = plt.subplots(figsize=(17.3,5))\n",
    "sns.heatmap(pvsales,cmap='Oranges',linecolor='white',linewidths=5)\n",
    "#specify the axis content\n",
    "ax.set_ylabel('Month')\n",
    "ax.set_xlabel(\"Year\")\n",
    "plt.title(\"Sales performance by month in the years 2017-2020\",size=16, weight='bold')\n",
    "\n",
    "\n",
    "#create basic clustermap\n",
    "c=sns.clustermap(pvsales,cmap='coolwarm',standard_scale=1,figsize=(13,8))\n",
    "#specify the axis content\n",
    "c.ax_col_dendrogram.set_title(\"Sales performance by month in the years 2017-2020\",size=16, weight='bold')\n",
    "\n",
    "plt.show()"
   ]
  },
  {
   "cell_type": "markdown",
   "id": "9d11b82d",
   "metadata": {},
   "source": [
    "#### <span style=\"color: blue\">**Comment:**</span>\n",
    "\n",
    "Sales and orders performances over the period of 4 years since 2017:\n",
    "\n",
    "- Sales and number of orders were positive correlation.    \n",
    "\n",
    "- Sales had steadily increased over the years. In addition, we can see that the quarterly composition of sales in each year had almost unchanged over the period.\n",
    "\n",
    "- Q4s were always the best quarter of the years, especially in month Nov and Dec.\n",
    "\n",
    "- However, Febs in each year were the least and Seps were always better than Octs.\n",
    "\n",
    "\n",
    "#### <span style=\"color: blue\">*Nhận xét:*</span>\n",
    "\n",
    "*Hoạt động bán hàng và đơn đặt hàng trong 4 năm kể từ năm 2017:*\n",
    "\n",
    "- *Doanh số và số lượng đơn đặt hàng có mối tương quan thuận.*\n",
    "\n",
    "- *Doanh số bán hàng tăng đều qua các năm. Ngoài ra, chúng ta có thể thấy rằng cấu phần doanh thu theo quý trong mỗi năm hầu như không thay đổi so với cùng kỳ.*\n",
    "\n",
    "- *Quý 4 luôn là quý tốt nhất trong các năm, đặc biệt là vào tháng 11 và tháng 12 mỗi năm.*\n",
    "\n",
    "- *Tuy nhiên, tháng 2 trong mỗi năm doanh số luôn thấp nhất và doanh số tháng 9 luôn tốt hơn tháng 10.*\n"
   ]
  },
  {
   "cell_type": "markdown",
   "id": "aae07126",
   "metadata": {},
   "source": [
    "## <span style=\"color: green\">Secondly, we carry out the business performance analysis</span>\n",
    "### *<span style=\"color: green\">Tiếp theo, chúng tôi thực hiện phân tích hoạt động kinh doanh </span>*"
   ]
  },
  {
   "cell_type": "markdown",
   "id": "15ffd240",
   "metadata": {},
   "source": [
    "### <span style=\"color: green\">The efficiency of each product in 2017-2020</span> \n",
    "#### *<span style=\"color: green\">Hiệu quả của từng sản phẩm trong giai đoạn 2017-2020*</span>"
   ]
  },
  {
   "cell_type": "code",
   "execution_count": 273,
   "id": "c142f369",
   "metadata": {},
   "outputs": [
    {
     "data": {
      "image/png": "[encoded data removed]",
      "text/plain": [
       "<Figure size 1080x360 with 1 Axes>"
      ]
     },
     "metadata": {
      "needs_background": "light"
     },
     "output_type": "display_data"
    }
   ],
   "source": [
    "#create DataFrame between Product Name and Order Quantity\n",
    "product = data_mix.groupby(['SubcategoryName']).agg({'OrderQuantity': sum}).sort_values(by='OrderQuantity', ascending=False)\n",
    "\n",
    "#create a bar plot with the first 5 index and specify the axis content\n",
    "product[:10].plot(kind='barh',xlabel='Order Quantity',figsize=(15,5), color=['#5F9EA0'])\n",
    "plt.title('Top 10 Sold Subcategories',size=16, weight='bold')\n",
    "plt.show()"
   ]
  },
  {
   "cell_type": "code",
   "execution_count": null,
   "id": "010bbfbd",
   "metadata": {},
   "outputs": [],
   "source": [
    "\n",
    "#find the correlation coefficient between two variables\n",
    "sub=sales.pivot_table(values=['Sales','ShippingCost'], index='OrderYear',aggfunc='sum')\n",
    "sub.corr()\n",
    "\n",
    "Vẽ graph mô tả"
   ]
  },
  {
   "cell_type": "code",
   "execution_count": 284,
   "id": "cbe95967",
   "metadata": {},
   "outputs": [
    {
     "data": {
      "image/png": "[encoded data removed]",
      "text/plain": [
       "<Figure size 1080x360 with 1 Axes>"
      ]
     },
     "metadata": {
      "needs_background": "light"
     },
     "output_type": "display_data"
    }
   ],
   "source": [
    "#create figure objects and axis\n",
    "fig = plt.figure(figsize=(15,5))\n",
    "ax = fig.add_subplot(111)\n",
    "\n",
    "#create DataFrame between Order and Sales by the products segments\n",
    "SubcatQty = round(sales.groupby(['CatSub']).agg({'ShippingCost': sum, 'Sales': sum})[['ShippingCost', 'Sales']],2)\n",
    "\n",
    "#sort DataFrame by count descending\n",
    "SubcatQty = SubcatQty.sort_values('ShippingCost', ascending=False)\n",
    "SubcatQty['percShip'] = round(SubcatQty['ShippingCost']/SubcatQty['ShippingCost'].sum()*100, 2)\n",
    "#create basic bar plot\n",
    "bar=ax.bar(SubcatQty.index, SubcatQty['ShippingCost'], color='#808000', label = 'Shipping Cost')\n",
    "ax.tick_params(axis='x', rotation = 30)\n",
    "#get the content of the bar\n",
    "for i, p in enumerate(bar):\n",
    "    x,y = p.get_xy()\n",
    "    width = p.get_width()\n",
    "    height = p.get_height()\n",
    "    plt.text(x=x+width/2,y=height,s=str(SubcatQty['percShip'][SubcatQty.index[i]])+'%', ha='center')\n",
    "\n",
    "\n",
    "#specify axis colors\n",
    "ax.tick_params(axis='y', colors='#4682B4')\n",
    "\n",
    "\n",
    "#specify the axis content\n",
    "ax.set_ylabel('Shipping Cost')\n",
    "ax.set_xlabel(\"Subcategory\")\n",
    "plt.title(\"Subcategory\\'s performance by Shipping Cost in the year 2017-2020\",size=16, weight='bold')\n",
    "\n",
    "plt.show()"
   ]
  },
  {
   "cell_type": "code",
   "execution_count": 286,
   "id": "57db8b86",
   "metadata": {},
   "outputs": [
    {
     "data": {
      "image/png": "[encoded data removed]",
      "text/plain": [
       "<Figure size 1080x360 with 2 Axes>"
      ]
     },
     "metadata": {
      "needs_background": "light"
     },
     "output_type": "display_data"
    }
   ],
   "source": [
    "#import member of the module name\n",
    "from matplotlib.ticker import PercentFormatter\n",
    "\n",
    "#create figure objects and axis\n",
    "fig = plt.figure(figsize=(15,5))\n",
    "ax = fig.add_subplot(111)\n",
    "ax2 = ax.twinx()\n",
    "\n",
    "#create a new column \n",
    "sales['CatSub'] = sales['CategoryName'] + ', ' + sales['SubcategoryName']\n",
    "#create DataFrame between Order and Sales by the products segments\n",
    "SubcatQty = sales.groupby(['CatSub']).agg({'OrderQuantity': sum, 'Sales': sum})[['OrderQuantity', 'Sales']]\n",
    "\n",
    "#sort DataFrame by count descending\n",
    "SubcatQty = SubcatQty.sort_values('OrderQuantity', ascending=False)\n",
    "#add column to display cumulative percentage\n",
    "SubcatQty['cumpercOrder'] = round(SubcatQty['OrderQuantity'].cumsum()/SubcatQty['OrderQuantity'].sum()*100,2)\n",
    "SubcatQty['percOrder'] = round(SubcatQty['OrderQuantity']/SubcatQty['OrderQuantity'].sum()*100,2)\n",
    "\n",
    "#create basic bar plot\n",
    "bar=ax.bar(SubcatQty.index, SubcatQty['OrderQuantity'], color='#4682B4', label = 'Order Quantity')\n",
    "ax.tick_params(axis='x', rotation = 30)\n",
    "#get the content of the bar\n",
    "for i, p in enumerate(bar):\n",
    "    x,y = p.get_xy()\n",
    "    width = p.get_width()\n",
    "    height = p.get_height()\n",
    "    plt.text(x=x+width/2,y=20,s=str(SubcatQty['percOrder'][SubcatQty.index[i]])+'%', ha='center')\n",
    "\n",
    "#add cumulative percentage line to plot\n",
    "line=ax2.plot(SubcatQty.index, SubcatQty['cumpercOrder'], color='#FF4500', linewidth=2.5, marker=\"o\", ls='--',label = 'Order Cumulative Percentage')\n",
    "ax2.yaxis.set_major_formatter(PercentFormatter())\n",
    "\n",
    "#specify axis colors\n",
    "ax.tick_params(axis='y', colors='#4682B4')\n",
    "ax2.tick_params(axis='y', colors='#FF4500')\n",
    "\n",
    "#get the labels of the axis in the legend\n",
    "ax_bar, label = ax.get_legend_handles_labels()\n",
    "ax2_line, label2 = ax2.get_legend_handles_labels()\n",
    "ax2.legend(ax_bar + ax2_line, label + label2, loc= 'upper center')\n",
    "\n",
    "#specify the axis content\n",
    "ax.set_ylabel('OrderQuantity')\n",
    "ax2.set_ylabel('Cumulative Percentage')\n",
    "ax.set_xlabel(\"Subcategory\")\n",
    "plt.title(\"Subcategory\\'s performance by Order Quantity in the years 2017-2020\",size=16, weight='bold')\n",
    "\n",
    "plt.show()"
   ]
  },
  {
   "cell_type": "code",
   "execution_count": 287,
   "id": "23b3df21",
   "metadata": {},
   "outputs": [
    {
     "data": {
      "image/png": "[encoded data removed]",
      "text/plain": [
       "<Figure size 1080x360 with 2 Axes>"
      ]
     },
     "metadata": {
      "needs_background": "light"
     },
     "output_type": "display_data"
    }
   ],
   "source": [
    "#create figure objects and axis\n",
    "fig = plt.figure(figsize=(15,5))\n",
    "ax = fig.add_subplot(111)\n",
    "ax2 = ax.twinx()\n",
    "\n",
    "#create a new column \n",
    "sales['CatSub'] = sales['CategoryName'] + ', ' + sales['SubcategoryName']\n",
    "#create DataFrame between Order and Sales by the products segments\n",
    "SubcatQty = sales.groupby(['CatSub']).agg({'OrderQuantity': sum, 'Sales': sum})[['OrderQuantity', 'Sales']]\n",
    "#sort DataFrame by count descending\n",
    "SubcatQty = SubcatQty.sort_values('Sales', ascending=False)\n",
    "\n",
    "#add column to display cumulative percentage\n",
    "SubcatQty['cumpercSales'] = round(SubcatQty['Sales'].cumsum()/SubcatQty['Sales'].sum()*100,2)\n",
    "SubcatQty['percSales'] = round(SubcatQty['Sales']/SubcatQty['Sales'].sum()*100,2)\n",
    "\n",
    "#create basic bar plot\n",
    "bar=ax.bar(SubcatQty.index, SubcatQty['Sales'], color='#1E90FF', label = 'Sales')\n",
    "ax.tick_params(axis='x', rotation = 30)\n",
    "#get the content of the bar\n",
    "for i, p in enumerate(bar):\n",
    "    x,y = p.get_xy()\n",
    "    width = p.get_width()\n",
    "    height = p.get_height()\n",
    "    plt.text(x=x+width/2,y=21,s=str(SubcatQty['percSales'][SubcatQty.index[i]])+'%', ha='center')\n",
    "\n",
    "#add cumulative percentage line to plot\n",
    "ax2.plot(SubcatQty.index, SubcatQty['cumpercSales'], color='#FF4500', linewidth=2.5, marker=\"s\", ls='-.',label = 'Sales Cumulative Percentage')\n",
    "ax2.yaxis.set_major_formatter(PercentFormatter())\n",
    "\n",
    "#specify axis colors\n",
    "ax.tick_params(axis='y', colors='#1E90FF')\n",
    "ax2.tick_params(axis='y', colors='#FF4500')\n",
    "\n",
    "#get the labels of the axis in the legend\n",
    "ax_bar, label = ax.get_legend_handles_labels()\n",
    "ax2_line, label2 = ax2.get_legend_handles_labels()\n",
    "ax2.legend(ax_bar + ax2_line, label + label2, loc= 'upper center')\n",
    "\n",
    "#specify the axis content\n",
    "ax.set_ylabel('Sales')\n",
    "ax2.set_ylabel('Cumulative Percentage')\n",
    "ax.set_xlabel(\"Subcategory\")\n",
    "plt.title(\"Subcategory\\'s performance by Sales in the years 2017-2020\",size=16, weight='bold')\n",
    "\n",
    "plt.show()"
   ]
  },
  {
   "cell_type": "markdown",
   "id": "d7a9fbb8",
   "metadata": {},
   "source": [
    "### <span style=\"color: blue\">Comment:</span>\n",
    "\n",
    "- There was a positive correlation between sales and shipping costs.\n",
    "\n",
    "- There were the highest shipping costs at over 15% in  Chairs, Bookcases of Furniture and Storage of Office Supplies respectively.\n",
    "\n",
    "- The Office Supplies category had the highest rate of order quantity, at about 71%, while the Furniture segment took more than 54% of sales in the category of business.\n",
    "\n",
    "- Furthermore, Chairs and Bookcases of Furniture subcategory accounted for about more than 38% of Sales, while 33% of Order Quantity of Office Supplies subcategory were Binders, Storage and Art. \n",
    "\n",
    "\n",
    "### *<span style=\"color: blue\">Nhận xét:</span>*\n",
    "\n",
    "- *Có mối tương quan thuận giữa doanh thu và chi phí vận chuyển.*\n",
    "\n",
    "- *Chairs, Bookcases thuộc danh mục Furniture và Storage thuộc danh mục Office Supplies có chi phí vận chuyển cao nhất, đều trên 15% tổng chi phí.*\n",
    "\n",
    "- *Hạng mục Office Supplies có tỷ lệ số lượng đặt hàng cao nhất khoảng 71%, trong khi mảng Furniture chiếm hơn 54% doanh số trong nhóm hàng kinh doanh.*\n",
    "\n",
    "- *Ngoài ra, Chairs và Bookcases của danh mục Furniture chiếm khoảng hơn 38% doanh số bán hàng, trong khi 33% Số lượng đặt hàng là của danh mục phụ Office Supplies gồm Binders, Storage and Art.*"
   ]
  },
  {
   "cell_type": "markdown",
   "id": "43af3b2f",
   "metadata": {},
   "source": [
    "## <span style=\"color: green\">Next, we explore the business activities of each region</span>\n",
    "\n",
    "### *<span style=\"color: green\">Tiếp sau đó, chúng tôi tìm hiểu các hoạt động kinh doanh của từng khu vực </span>*"
   ]
  },
  {
   "cell_type": "code",
   "execution_count": 290,
   "id": "d482585a",
   "metadata": {},
   "outputs": [
    {
     "data": {
      "image/png": "[encoded data removed]",
      "text/plain": [
       "<Figure size 1080x360 with 2 Axes>"
      ]
     },
     "metadata": {
      "needs_background": "light"
     },
     "output_type": "display_data"
    }
   ],
   "source": [
    "#create figure objects and axis\n",
    "fig = plt.figure(figsize=(15,5))\n",
    "ax = fig.add_subplot(111)\n",
    "ax2 = ax.twinx()\n",
    "\n",
    "#create a new column \n",
    "data_mix['MarReg']= data_mix['Market'] + ', ' + data_mix['Region']\n",
    "#create DataFrame between Order and Sales by Market/Region\n",
    "market = data_mix.groupby(['MarReg']).agg({'OrderQuantity': sum, 'Sales': sum})[['OrderQuantity', 'Sales']]\n",
    "\n",
    "#sort DataFrame by count descending\n",
    "market = market.sort_values('OrderQuantity', ascending=False)\n",
    "#add column to display cumulative percentage\n",
    "market['cumpercOrder'] = round(market['OrderQuantity'].cumsum()/market['OrderQuantity'].sum()*100,2)\n",
    "market['percOrder'] = round(market['OrderQuantity']/market['OrderQuantity'].sum()*100,2)\n",
    "\n",
    "#create basic bar plot\n",
    "bar=ax.bar(market.index, market['OrderQuantity'], color='#808000', label = 'Order Quantity')\n",
    "ax.tick_params(axis='x', rotation = 60)\n",
    "\n",
    "#get the content of the bar\n",
    "for i, p in enumerate(bar):\n",
    "    x,y = p.get_xy()\n",
    "    width = p.get_width()\n",
    "    height = p.get_height()\n",
    "    plt.text(x=x+width/2,y=11,s=str(market['percOrder'][market.index[i]])+'%', ha='center')\n",
    "\n",
    "#add cumulative percentage line to plot\n",
    "ax2.plot(market.index, market['cumpercOrder'], color='#FF4500', linewidth=2.5, marker=\"o\", ls='-.',label = 'Order Cumulative Percentage')\n",
    "ax2.yaxis.set_major_formatter(PercentFormatter())\n",
    "\n",
    "#specify axis colors\n",
    "ax.tick_params(axis='y', colors='#808000')\n",
    "ax2.tick_params(axis='y', colors='#FF4500')\n",
    "\n",
    "#get the labels of the axis in the legend\n",
    "ax_bar, label = ax.get_legend_handles_labels()\n",
    "ax2_line, label2 = ax2.get_legend_handles_labels()\n",
    "ax2.legend(ax_bar + ax2_line, label + label2, loc= 'upper center')\n",
    "\n",
    "#specify the axis content\n",
    "ax.set_ylabel('OrderQuantity')\n",
    "ax2.set_ylabel('Cumulative Percentage')\n",
    "ax.set_xlabel('Region')\n",
    "plt.title('Order Quantity\\'s result by Region from 2017 to 2020',size=16, weight='bold')\n",
    "\n",
    "plt.show()"
   ]
  },
  {
   "cell_type": "code",
   "execution_count": 291,
   "id": "1f20e705",
   "metadata": {},
   "outputs": [
    {
     "data": {
      "image/png": "[encoded data removed]",
      "text/plain": [
       "<Figure size 1080x360 with 2 Axes>"
      ]
     },
     "metadata": {
      "needs_background": "light"
     },
     "output_type": "display_data"
    }
   ],
   "source": [
    "#create figure objects and axis\n",
    "fig = plt.figure(figsize=(15,5))\n",
    "ax = fig.add_subplot(111)\n",
    "ax2 = ax.twinx()\n",
    "\n",
    "#sort DataFrame by count descending\n",
    "market = market.sort_values('Sales', ascending=False)\n",
    "\n",
    "#add column to display cumulative percentage\n",
    "market['cumpercSales'] = round(market['Sales'].cumsum()/market['Sales'].sum()*100,2)\n",
    "market['percSales'] = round(market['Sales']/market['Sales'].sum()*100,2)\n",
    "\n",
    "#create basic bar plot\n",
    "bar=ax.bar(market.index, market['Sales'], color='#6B8E23', label = 'Sales')\n",
    "ax.tick_params(axis='x', rotation = 60)\n",
    "#get the content of the bar\n",
    "for i, p in enumerate(bar):\n",
    "    x,y = p.get_xy()\n",
    "    width = p.get_width()\n",
    "    height = p.get_height()\n",
    "    plt.text(x=x+width/2,y=11,s=str(market['percSales'][market.index[i]])+'%', ha='center')\n",
    "    \n",
    "#add cumulative percentage line to plot\n",
    "ax2.plot(market.index, market['cumpercSales'], color='#FF4500', linewidth=2.5, marker=\"s\", ls='-.',label = 'Sales Cumulative Percentage')\n",
    "ax2.yaxis.set_major_formatter(PercentFormatter())\n",
    "\n",
    "#specify axis colors\n",
    "ax.tick_params(axis='y', colors='#6B8E23')\n",
    "ax2.tick_params(axis='y', colors='#FF4500')\n",
    "\n",
    "#get the labels of the axis in the legend\n",
    "ax_bar, label = ax.get_legend_handles_labels()\n",
    "ax2_line, label2 = ax2.get_legend_handles_labels()\n",
    "ax2.legend(ax_bar + ax2_line, label + label2, loc= 'upper center')\n",
    "\n",
    "#specify the axis content\n",
    "ax.set_ylabel('Sales')\n",
    "ax2.set_ylabel('Cumulative Percentage')\n",
    "ax.set_xlabel('Region')\n",
    "plt.title('Sales\\' results by Region from 2017 to 2020',size=16, weight='bold')\n",
    "\n",
    "plt.show()"
   ]
  },
  {
   "cell_type": "code",
   "execution_count": 293,
   "id": "604f7fe8",
   "metadata": {},
   "outputs": [
    {
     "data": {
      "image/png": "[encoded data removed]",
      "text/plain": [
       "<Figure size 1029.6x360 with 1 Axes>"
      ]
     },
     "metadata": {
      "needs_background": "light"
     },
     "output_type": "display_data"
    },
    {
     "data": {
      "image/png": "[encoded data removed]",
      "text/plain": [
       "<Figure size 1080x360 with 1 Axes>"
      ]
     },
     "metadata": {
      "needs_background": "light"
     },
     "output_type": "display_data"
    }
   ],
   "source": [
    "#create DataFrame between Sales with Market/Region\n",
    "country = data_mix.pivot_table('Sales','MarReg', aggfunc=sum).sort_values('Sales', ascending=False)\n",
    "#create a bar plot with the first 5 index and specify the axis content\n",
    "country[:5].plot(kind='barh',xlabel='Total Sales',ylabel='Region',figsize=(14.3,5), color=['#4682B4'])\n",
    "plt.title('Top 5 Sales by Region',size=16, weight='bold')\n",
    "\n",
    "#create DataFrame between Sales with Country\n",
    "country = data_mix.pivot_table('Sales','Country', aggfunc=sum).sort_values('Sales', ascending=False)\n",
    "#create a bar plot with the first 5 index and specify the axis content\n",
    "country[:5].plot(kind='barh',xlabel='Total Sales',figsize=(15,5), color=['#5F9EA0'])\n",
    "plt.title('Top 5 Sales by Country',size=16, weight='bold')\n",
    "\n",
    "plt.show()"
   ]
  },
  {
   "cell_type": "markdown",
   "id": "14855471",
   "metadata": {},
   "source": [
    "### <span style=\"color: blue\">Comment:</span>\n",
    "    \n",
    "- Central EU, Oceania APAC, West US and Southeast Asia APAC were the four best performance regions. They contributed approxiamtely 36% of order quantity and more than 38% of sales. Canada, on the other hand, was the worst region in term of performance. \n",
    "\n",
    "- Furthermore, the US took total sales more many times than the countries in the top 5 highest total sales countries in 4 years.\n",
    "\n",
    "\n",
    "#### *<span style=\"color: blue\">Nhận xét:</span>*\n",
    "    \n",
    "- *Central EU, Oceania APAC, West US và Southeast Asia APAC là bốn khu vực có hiệu suất kinh doanh tốt nhất về doanh thu và đơn hàng. Họ đóng góp khoảng 36% số lượng đặt hàng và hơn 38% doanh số bán hàng. Ngược lại, Canada là khu vực kém nhất về hiệu suất.*\n",
    "\n",
    "- *Hơn nữa, nước Mỹ có doanh số bán hàng cao gấp nhiều lần so với các nước khác nằm trong top 5 quốc gia có tổng doanh thu cao nhất trong 4 năm.*\n"
   ]
  },
  {
   "cell_type": "markdown",
   "id": "e3705fc4",
   "metadata": {},
   "source": [
    "## <span style=\"color: green\">Finally, we deeply consider the effectiveness of each category in the years 2017 - 2020</span>\n",
    "\n",
    "### *<span style=\"color: green\">Cuối cùng, chúng tôi xem xét kỹ về hiệu quả của từng ngành hàng qua các năm 2017 - 2020</span>*\n",
    "\n"
   ]
  },
  {
   "cell_type": "markdown",
   "id": "6026c1d9",
   "metadata": {},
   "source": [
    "### <span style=\"color: green\">Hierarchical structure for Categories by Order Quantity and Sales</span>\n",
    "\n",
    "#### *<span style=\"color: green\">Cấu trúc phân cấp cho từng ngành hàng theo số lượng đặt hàng và doanh số bán hàng</span>*"
   ]
  },
  {
   "cell_type": "code",
   "execution_count": 294,
   "id": "5be31f57",
   "metadata": {},
   "outputs": [
    {
     "data": {
      "application/vnd.plotly.v1+json": {
       "config": {
        "plotlyServerURL": "https://plot.ly"
       },
       "data": [
        {
         "branchvalues": "total",
         "customdata": [
          [
           "Appliances",
           5417
          ],
          [
           "Art",
           14967
          ],
          [
           "Binders",
           19191
          ],
          [
           "Bookcases",
           7356
          ],
          [
           "Chairs",
           10739
          ],
          [
           "Furnishings",
           9727
          ],
          [
           "Paper",
           11322
          ],
          [
           "Storage",
           15336
          ],
          [
           "Supplies",
           7734
          ],
          [
           "Tables",
           2515
          ],
          [
           "(?)",
           8912.437320763423
          ],
          [
           "(?)",
           14125.82361052902
          ],
          [
           "(?)",
           12609.501131308483
          ]
         ],
         "domain": {
          "x": [
           0,
           1
          ],
          "y": [
           0,
           1
          ]
         },
         "hovertemplate": "labels=%{label}<br>OrderQuantity_sum=%{value}<br>parent=%{parent}<br>id=%{id}<br>SubcategoryName=%{customdata[0]}<br>OrderQuantity=%{color}<extra></extra>",
         "ids": [
          "CategoryName/Office Supplies/Appliances",
          "CategoryName/Office Supplies/Art",
          "CategoryName/Office Supplies/Binders",
          "CategoryName/Furniture/Bookcases",
          "CategoryName/Furniture/Chairs",
          "CategoryName/Furniture/Furnishings",
          "CategoryName/Office Supplies/Paper",
          "CategoryName/Office Supplies/Storage",
          "CategoryName/Office Supplies/Supplies",
          "CategoryName/Furniture/Tables",
          "CategoryName/Furniture",
          "CategoryName/Office Supplies",
          "CategoryName"
         ],
         "labels": [
          "Appliances",
          "Art",
          "Binders",
          "Bookcases",
          "Chairs",
          "Furnishings",
          "Paper",
          "Storage",
          "Supplies",
          "Tables",
          "Furniture",
          "Office Supplies",
          "CategoryName"
         ],
         "marker": {
          "coloraxis": "coloraxis",
          "colors": [
           5417,
           14967,
           19191,
           7356,
           10739,
           9727,
           11322,
           15336,
           7734,
           2515,
           8912.437320763423,
           14125.82361052902,
           12609.501131308483
          ]
         },
         "name": "",
         "parents": [
          "CategoryName/Office Supplies",
          "CategoryName/Office Supplies",
          "CategoryName/Office Supplies",
          "CategoryName/Furniture",
          "CategoryName/Furniture",
          "CategoryName/Furniture",
          "CategoryName/Office Supplies",
          "CategoryName/Office Supplies",
          "CategoryName/Office Supplies",
          "CategoryName/Furniture",
          "CategoryName",
          "CategoryName",
          ""
         ],
         "type": "treemap",
         "values": [
          5417,
          14967,
          19191,
          7356,
          10739,
          9727,
          11322,
          15336,
          7734,
          2515,
          30337,
          73967,
          104304
         ]
        }
       ],
       "layout": {
        "coloraxis": {
         "colorbar": {
          "title": {
           "text": "OrderQuantity"
          }
         },
         "colorscale": [
          [
           0,
           "rgb(103,0,31)"
          ],
          [
           0.1,
           "rgb(178,24,43)"
          ],
          [
           0.2,
           "rgb(214,96,77)"
          ],
          [
           0.3,
           "rgb(244,165,130)"
          ],
          [
           0.4,
           "rgb(253,219,199)"
          ],
          [
           0.5,
           "rgb(247,247,247)"
          ],
          [
           0.6,
           "rgb(209,229,240)"
          ],
          [
           0.7,
           "rgb(146,197,222)"
          ],
          [
           0.8,
           "rgb(67,147,195)"
          ],
          [
           0.9,
           "rgb(33,102,172)"
          ],
          [
           1,
           "rgb(5,48,97)"
          ]
         ]
        },
        "legend": {
         "tracegroupgap": 0
        },
        "margin": {
         "b": 25,
         "l": 25,
         "r": 25,
         "t": 50
        },
        "template": {
         "data": {
          "bar": [
           {
            "error_x": {
             "color": "#2a3f5f"
            },
            "error_y": {
             "color": "#2a3f5f"
            },
            "marker": {
             "line": {
              "color": "#E5ECF6",
              "width": 0.5
             },
             "pattern": {
              "fillmode": "overlay",
              "size": 10,
              "solidity": 0.2
             }
            },
            "type": "bar"
           }
          ],
          "barpolar": [
           {
            "marker": {
             "line": {
              "color": "#E5ECF6",
              "width": 0.5
             },
             "pattern": {
              "fillmode": "overlay",
              "size": 10,
              "solidity": 0.2
             }
            },
            "type": "barpolar"
           }
          ],
          "carpet": [
           {
            "aaxis": {
             "endlinecolor": "#2a3f5f",
             "gridcolor": "white",
             "linecolor": "white",
             "minorgridcolor": "white",
             "startlinecolor": "#2a3f5f"
            },
            "baxis": {
             "endlinecolor": "#2a3f5f",
             "gridcolor": "white",
             "linecolor": "white",
             "minorgridcolor": "white",
             "startlinecolor": "#2a3f5f"
            },
            "type": "carpet"
           }
          ],
          "choropleth": [
           {
            "colorbar": {
             "outlinewidth": 0,
             "ticks": ""
            },
            "type": "choropleth"
           }
          ],
          "contour": [
           {
            "colorbar": {
             "outlinewidth": 0,
             "ticks": ""
            },
            "colorscale": [
             [
              0,
              "#0d0887"
             ],
             [
              0.1111111111111111,
              "#46039f"
             ],
             [
              0.2222222222222222,
              "#7201a8"
             ],
             [
              0.3333333333333333,
              "#9c179e"
             ],
             [
              0.4444444444444444,
              "#bd3786"
             ],
             [
              0.5555555555555556,
              "#d8576b"
             ],
             [
              0.6666666666666666,
              "#ed7953"
             ],
             [
              0.7777777777777778,
              "#fb9f3a"
             ],
             [
              0.8888888888888888,
              "#fdca26"
             ],
             [
              1,
              "#f0f921"
             ]
            ],
            "type": "contour"
           }
          ],
          "contourcarpet": [
           {
            "colorbar": {
             "outlinewidth": 0,
             "ticks": ""
            },
            "type": "contourcarpet"
           }
          ],
          "heatmap": [
           {
            "colorbar": {
             "outlinewidth": 0,
             "ticks": ""
            },
            "colorscale": [
             [
              0,
              "#0d0887"
             ],
             [
              0.1111111111111111,
              "#46039f"
             ],
             [
              0.2222222222222222,
              "#7201a8"
             ],
             [
              0.3333333333333333,
              "#9c179e"
             ],
             [
              0.4444444444444444,
              "#bd3786"
             ],
             [
              0.5555555555555556,
              "#d8576b"
             ],
             [
              0.6666666666666666,
              "#ed7953"
             ],
             [
              0.7777777777777778,
              "#fb9f3a"
             ],
             [
              0.8888888888888888,
              "#fdca26"
             ],
             [
              1,
              "#f0f921"
             ]
            ],
            "type": "heatmap"
           }
          ],
          "heatmapgl": [
           {
            "colorbar": {
             "outlinewidth": 0,
             "ticks": ""
            },
            "colorscale": [
             [
              0,
              "#0d0887"
             ],
             [
              0.1111111111111111,
              "#46039f"
             ],
             [
              0.2222222222222222,
              "#7201a8"
             ],
             [
              0.3333333333333333,
              "#9c179e"
             ],
             [
              0.4444444444444444,
              "#bd3786"
             ],
             [
              0.5555555555555556,
              "#d8576b"
             ],
             [
              0.6666666666666666,
              "#ed7953"
             ],
             [
              0.7777777777777778,
              "#fb9f3a"
             ],
             [
              0.8888888888888888,
              "#fdca26"
             ],
             [
              1,
              "#f0f921"
             ]
            ],
            "type": "heatmapgl"
           }
          ],
          "histogram": [
           {
            "marker": {
             "pattern": {
              "fillmode": "overlay",
              "size": 10,
              "solidity": 0.2
             }
            },
            "type": "histogram"
           }
          ],
          "histogram2d": [
           {
            "colorbar": {
             "outlinewidth": 0,
             "ticks": ""
            },
            "colorscale": [
             [
              0,
              "#0d0887"
             ],
             [
              0.1111111111111111,
              "#46039f"
             ],
             [
              0.2222222222222222,
              "#7201a8"
             ],
             [
              0.3333333333333333,
              "#9c179e"
             ],
             [
              0.4444444444444444,
              "#bd3786"
             ],
             [
              0.5555555555555556,
              "#d8576b"
             ],
             [
              0.6666666666666666,
              "#ed7953"
             ],
             [
              0.7777777777777778,
              "#fb9f3a"
             ],
             [
              0.8888888888888888,
              "#fdca26"
             ],
             [
              1,
              "#f0f921"
             ]
            ],
            "type": "histogram2d"
           }
          ],
          "histogram2dcontour": [
           {
            "colorbar": {
             "outlinewidth": 0,
             "ticks": ""
            },
            "colorscale": [
             [
              0,
              "#0d0887"
             ],
             [
              0.1111111111111111,
              "#46039f"
             ],
             [
              0.2222222222222222,
              "#7201a8"
             ],
             [
              0.3333333333333333,
              "#9c179e"
             ],
             [
              0.4444444444444444,
              "#bd3786"
             ],
             [
              0.5555555555555556,
              "#d8576b"
             ],
             [
              0.6666666666666666,
              "#ed7953"
             ],
             [
              0.7777777777777778,
              "#fb9f3a"
             ],
             [
              0.8888888888888888,
              "#fdca26"
             ],
             [
              1,
              "#f0f921"
             ]
            ],
            "type": "histogram2dcontour"
           }
          ],
          "mesh3d": [
           {
            "colorbar": {
             "outlinewidth": 0,
             "ticks": ""
            },
            "type": "mesh3d"
           }
          ],
          "parcoords": [
           {
            "line": {
             "colorbar": {
              "outlinewidth": 0,
              "ticks": ""
             }
            },
            "type": "parcoords"
           }
          ],
          "pie": [
           {
            "automargin": true,
            "type": "pie"
           }
          ],
          "scatter": [
           {
            "fillpattern": {
             "fillmode": "overlay",
             "size": 10,
             "solidity": 0.2
            },
            "type": "scatter"
           }
          ],
          "scatter3d": [
           {
            "line": {
             "colorbar": {
              "outlinewidth": 0,
              "ticks": ""
             }
            },
            "marker": {
             "colorbar": {
              "outlinewidth": 0,
              "ticks": ""
             }
            },
            "type": "scatter3d"
           }
          ],
          "scattercarpet": [
           {
            "marker": {
             "colorbar": {
              "outlinewidth": 0,
              "ticks": ""
             }
            },
            "type": "scattercarpet"
           }
          ],
          "scattergeo": [
           {
            "marker": {
             "colorbar": {
              "outlinewidth": 0,
              "ticks": ""
             }
            },
            "type": "scattergeo"
           }
          ],
          "scattergl": [
           {
            "marker": {
             "colorbar": {
              "outlinewidth": 0,
              "ticks": ""
             }
            },
            "type": "scattergl"
           }
          ],
          "scattermapbox": [
           {
            "marker": {
             "colorbar": {
              "outlinewidth": 0,
              "ticks": ""
             }
            },
            "type": "scattermapbox"
           }
          ],
          "scatterpolar": [
           {
            "marker": {
             "colorbar": {
              "outlinewidth": 0,
              "ticks": ""
             }
            },
            "type": "scatterpolar"
           }
          ],
          "scatterpolargl": [
           {
            "marker": {
             "colorbar": {
              "outlinewidth": 0,
              "ticks": ""
             }
            },
            "type": "scatterpolargl"
           }
          ],
          "scatterternary": [
           {
            "marker": {
             "colorbar": {
              "outlinewidth": 0,
              "ticks": ""
             }
            },
            "type": "scatterternary"
           }
          ],
          "surface": [
           {
            "colorbar": {
             "outlinewidth": 0,
             "ticks": ""
            },
            "colorscale": [
             [
              0,
              "#0d0887"
             ],
             [
              0.1111111111111111,
              "#46039f"
             ],
             [
              0.2222222222222222,
              "#7201a8"
             ],
             [
              0.3333333333333333,
              "#9c179e"
             ],
             [
              0.4444444444444444,
              "#bd3786"
             ],
             [
              0.5555555555555556,
              "#d8576b"
             ],
             [
              0.6666666666666666,
              "#ed7953"
             ],
             [
              0.7777777777777778,
              "#fb9f3a"
             ],
             [
              0.8888888888888888,
              "#fdca26"
             ],
             [
              1,
              "#f0f921"
             ]
            ],
            "type": "surface"
           }
          ],
          "table": [
           {
            "cells": {
             "fill": {
              "color": "#EBF0F8"
             },
             "line": {
              "color": "white"
             }
            },
            "header": {
             "fill": {
              "color": "#C8D4E3"
             },
             "line": {
              "color": "white"
             }
            },
            "type": "table"
           }
          ]
         },
         "layout": {
          "annotationdefaults": {
           "arrowcolor": "#2a3f5f",
           "arrowhead": 0,
           "arrowwidth": 1
          },
          "autotypenumbers": "strict",
          "coloraxis": {
           "colorbar": {
            "outlinewidth": 0,
            "ticks": ""
           }
          },
          "colorscale": {
           "diverging": [
            [
             0,
             "#8e0152"
            ],
            [
             0.1,
             "#c51b7d"
            ],
            [
             0.2,
             "#de77ae"
            ],
            [
             0.3,
             "#f1b6da"
            ],
            [
             0.4,
             "#fde0ef"
            ],
            [
             0.5,
             "#f7f7f7"
            ],
            [
             0.6,
             "#e6f5d0"
            ],
            [
             0.7,
             "#b8e186"
            ],
            [
             0.8,
             "#7fbc41"
            ],
            [
             0.9,
             "#4d9221"
            ],
            [
             1,
             "#276419"
            ]
           ],
           "sequential": [
            [
             0,
             "#0d0887"
            ],
            [
             0.1111111111111111,
             "#46039f"
            ],
            [
             0.2222222222222222,
             "#7201a8"
            ],
            [
             0.3333333333333333,
             "#9c179e"
            ],
            [
             0.4444444444444444,
             "#bd3786"
            ],
            [
             0.5555555555555556,
             "#d8576b"
            ],
            [
             0.6666666666666666,
             "#ed7953"
            ],
            [
             0.7777777777777778,
             "#fb9f3a"
            ],
            [
             0.8888888888888888,
             "#fdca26"
            ],
            [
             1,
             "#f0f921"
            ]
           ],
           "sequentialminus": [
            [
             0,
             "#0d0887"
            ],
            [
             0.1111111111111111,
             "#46039f"
            ],
            [
             0.2222222222222222,
             "#7201a8"
            ],
            [
             0.3333333333333333,
             "#9c179e"
            ],
            [
             0.4444444444444444,
             "#bd3786"
            ],
            [
             0.5555555555555556,
             "#d8576b"
            ],
            [
             0.6666666666666666,
             "#ed7953"
            ],
            [
             0.7777777777777778,
             "#fb9f3a"
            ],
            [
             0.8888888888888888,
             "#fdca26"
            ],
            [
             1,
             "#f0f921"
            ]
           ]
          },
          "colorway": [
           "#636efa",
           "#EF553B",
           "#00cc96",
           "#ab63fa",
           "#FFA15A",
           "#19d3f3",
           "#FF6692",
           "#B6E880",
           "#FF97FF",
           "#FECB52"
          ],
          "font": {
           "color": "#2a3f5f"
          },
          "geo": {
           "bgcolor": "white",
           "lakecolor": "white",
           "landcolor": "#E5ECF6",
           "showlakes": true,
           "showland": true,
           "subunitcolor": "white"
          },
          "hoverlabel": {
           "align": "left"
          },
          "hovermode": "closest",
          "mapbox": {
           "style": "light"
          },
          "paper_bgcolor": "white",
          "plot_bgcolor": "#E5ECF6",
          "polar": {
           "angularaxis": {
            "gridcolor": "white",
            "linecolor": "white",
            "ticks": ""
           },
           "bgcolor": "#E5ECF6",
           "radialaxis": {
            "gridcolor": "white",
            "linecolor": "white",
            "ticks": ""
           }
          },
          "scene": {
           "xaxis": {
            "backgroundcolor": "#E5ECF6",
            "gridcolor": "white",
            "gridwidth": 2,
            "linecolor": "white",
            "showbackground": true,
            "ticks": "",
            "zerolinecolor": "white"
           },
           "yaxis": {
            "backgroundcolor": "#E5ECF6",
            "gridcolor": "white",
            "gridwidth": 2,
            "linecolor": "white",
            "showbackground": true,
            "ticks": "",
            "zerolinecolor": "white"
           },
           "zaxis": {
            "backgroundcolor": "#E5ECF6",
            "gridcolor": "white",
            "gridwidth": 2,
            "linecolor": "white",
            "showbackground": true,
            "ticks": "",
            "zerolinecolor": "white"
           }
          },
          "shapedefaults": {
           "line": {
            "color": "#2a3f5f"
           }
          },
          "ternary": {
           "aaxis": {
            "gridcolor": "white",
            "linecolor": "white",
            "ticks": ""
           },
           "baxis": {
            "gridcolor": "white",
            "linecolor": "white",
            "ticks": ""
           },
           "bgcolor": "#E5ECF6",
           "caxis": {
            "gridcolor": "white",
            "linecolor": "white",
            "ticks": ""
           }
          },
          "title": {
           "x": 0.05
          },
          "xaxis": {
           "automargin": true,
           "gridcolor": "white",
           "linecolor": "white",
           "ticks": "",
           "title": {
            "standoff": 15
           },
           "zerolinecolor": "white",
           "zerolinewidth": 2
          },
          "yaxis": {
           "automargin": true,
           "gridcolor": "white",
           "linecolor": "white",
           "ticks": "",
           "title": {
            "standoff": 15
           },
           "zerolinecolor": "white",
           "zerolinewidth": 2
          }
         }
        },
        "title": {
         "font": {
          "size": 16
         },
         "text": "Hierarchical structure for Categories by Order Quantity",
         "x": 0.5,
         "xanchor": "center",
         "y": 0.97,
         "yanchor": "top"
        }
       }
      }
     },
     "metadata": {},
     "output_type": "display_data"
    },
    {
     "data": {
      "application/vnd.plotly.v1+json": {
       "config": {
        "plotlyServerURL": "https://plot.ly"
       },
       "data": [
        {
         "branchvalues": "total",
         "customdata": [
          [
           "Appliances",
           1086366.74818
          ],
          [
           "Art",
           393645.2213699999
          ],
          [
           "Binders",
           539988.65652
          ],
          [
           "Bookcases",
           1550422.31986
          ],
          [
           "Chairs",
           1608397.6930500001
          ],
          [
           "Furnishings",
           399118.73573
          ],
          [
           "Paper",
           262572.41802
          ],
          [
           "Storage",
           1197724.59653
          ],
          [
           "Supplies",
           253619.47226
          ],
          [
           "Tables",
           905677.7924800001
          ],
          [
           "(?)",
           1337547.8119437054
          ],
          [
           "(?)",
           855548.8097356772
          ],
          [
           "(?)",
           1118000.7629532504
          ]
         ],
         "domain": {
          "x": [
           0,
           1
          ],
          "y": [
           0,
           1
          ]
         },
         "hovertemplate": "labels=%{label}<br>Sales_sum=%{value}<br>parent=%{parent}<br>id=%{id}<br>SubcategoryName=%{customdata[0]}<br>Sales=%{color}<extra></extra>",
         "ids": [
          "CategoryName/Office Supplies/Appliances",
          "CategoryName/Office Supplies/Art",
          "CategoryName/Office Supplies/Binders",
          "CategoryName/Furniture/Bookcases",
          "CategoryName/Furniture/Chairs",
          "CategoryName/Furniture/Furnishings",
          "CategoryName/Office Supplies/Paper",
          "CategoryName/Office Supplies/Storage",
          "CategoryName/Office Supplies/Supplies",
          "CategoryName/Furniture/Tables",
          "CategoryName/Furniture",
          "CategoryName/Office Supplies",
          "CategoryName"
         ],
         "labels": [
          "Appliances",
          "Art",
          "Binders",
          "Bookcases",
          "Chairs",
          "Furnishings",
          "Paper",
          "Storage",
          "Supplies",
          "Tables",
          "Furniture",
          "Office Supplies",
          "CategoryName"
         ],
         "marker": {
          "coloraxis": "coloraxis",
          "colors": [
           1086366.74818,
           393645.2213699999,
           539988.65652,
           1550422.31986,
           1608397.6930500001,
           399118.73573,
           262572.41802,
           1197724.59653,
           253619.47226,
           905677.7924800001,
           1337547.8119437054,
           855548.8097356772,
           1118000.7629532504
          ]
         },
         "name": "",
         "parents": [
          "CategoryName/Office Supplies",
          "CategoryName/Office Supplies",
          "CategoryName/Office Supplies",
          "CategoryName/Furniture",
          "CategoryName/Furniture",
          "CategoryName/Furniture",
          "CategoryName/Office Supplies",
          "CategoryName/Office Supplies",
          "CategoryName/Office Supplies",
          "CategoryName/Furniture",
          "CategoryName",
          "CategoryName",
          ""
         ],
         "type": "treemap",
         "values": [
          1086366.74818,
          393645.22137,
          539988.65652,
          1550422.31986,
          1608397.6930500001,
          399118.73573,
          262572.41802,
          1197724.59653,
          253619.47226,
          905677.7924800001,
          4463616.54112,
          3733917.11288,
          8197533.654
         ]
        }
       ],
       "layout": {
        "coloraxis": {
         "colorbar": {
          "title": {
           "text": "Sales"
          }
         },
         "colorscale": [
          [
           0,
           "rgb(103,0,31)"
          ],
          [
           0.1,
           "rgb(178,24,43)"
          ],
          [
           0.2,
           "rgb(214,96,77)"
          ],
          [
           0.3,
           "rgb(244,165,130)"
          ],
          [
           0.4,
           "rgb(253,219,199)"
          ],
          [
           0.5,
           "rgb(247,247,247)"
          ],
          [
           0.6,
           "rgb(209,229,240)"
          ],
          [
           0.7,
           "rgb(146,197,222)"
          ],
          [
           0.8,
           "rgb(67,147,195)"
          ],
          [
           0.9,
           "rgb(33,102,172)"
          ],
          [
           1,
           "rgb(5,48,97)"
          ]
         ]
        },
        "legend": {
         "tracegroupgap": 0
        },
        "margin": {
         "b": 25,
         "l": 25,
         "r": 25,
         "t": 50
        },
        "template": {
         "data": {
          "bar": [
           {
            "error_x": {
             "color": "#2a3f5f"
            },
            "error_y": {
             "color": "#2a3f5f"
            },
            "marker": {
             "line": {
              "color": "#E5ECF6",
              "width": 0.5
             },
             "pattern": {
              "fillmode": "overlay",
              "size": 10,
              "solidity": 0.2
             }
            },
            "type": "bar"
           }
          ],
          "barpolar": [
           {
            "marker": {
             "line": {
              "color": "#E5ECF6",
              "width": 0.5
             },
             "pattern": {
              "fillmode": "overlay",
              "size": 10,
              "solidity": 0.2
             }
            },
            "type": "barpolar"
           }
          ],
          "carpet": [
           {
            "aaxis": {
             "endlinecolor": "#2a3f5f",
             "gridcolor": "white",
             "linecolor": "white",
             "minorgridcolor": "white",
             "startlinecolor": "#2a3f5f"
            },
            "baxis": {
             "endlinecolor": "#2a3f5f",
             "gridcolor": "white",
             "linecolor": "white",
             "minorgridcolor": "white",
             "startlinecolor": "#2a3f5f"
            },
            "type": "carpet"
           }
          ],
          "choropleth": [
           {
            "colorbar": {
             "outlinewidth": 0,
             "ticks": ""
            },
            "type": "choropleth"
           }
          ],
          "contour": [
           {
            "colorbar": {
             "outlinewidth": 0,
             "ticks": ""
            },
            "colorscale": [
             [
              0,
              "#0d0887"
             ],
             [
              0.1111111111111111,
              "#46039f"
             ],
             [
              0.2222222222222222,
              "#7201a8"
             ],
             [
              0.3333333333333333,
              "#9c179e"
             ],
             [
              0.4444444444444444,
              "#bd3786"
             ],
             [
              0.5555555555555556,
              "#d8576b"
             ],
             [
              0.6666666666666666,
              "#ed7953"
             ],
             [
              0.7777777777777778,
              "#fb9f3a"
             ],
             [
              0.8888888888888888,
              "#fdca26"
             ],
             [
              1,
              "#f0f921"
             ]
            ],
            "type": "contour"
           }
          ],
          "contourcarpet": [
           {
            "colorbar": {
             "outlinewidth": 0,
             "ticks": ""
            },
            "type": "contourcarpet"
           }
          ],
          "heatmap": [
           {
            "colorbar": {
             "outlinewidth": 0,
             "ticks": ""
            },
            "colorscale": [
             [
              0,
              "#0d0887"
             ],
             [
              0.1111111111111111,
              "#46039f"
             ],
             [
              0.2222222222222222,
              "#7201a8"
             ],
             [
              0.3333333333333333,
              "#9c179e"
             ],
             [
              0.4444444444444444,
              "#bd3786"
             ],
             [
              0.5555555555555556,
              "#d8576b"
             ],
             [
              0.6666666666666666,
              "#ed7953"
             ],
             [
              0.7777777777777778,
              "#fb9f3a"
             ],
             [
              0.8888888888888888,
              "#fdca26"
             ],
             [
              1,
              "#f0f921"
             ]
            ],
            "type": "heatmap"
           }
          ],
          "heatmapgl": [
           {
            "colorbar": {
             "outlinewidth": 0,
             "ticks": ""
            },
            "colorscale": [
             [
              0,
              "#0d0887"
             ],
             [
              0.1111111111111111,
              "#46039f"
             ],
             [
              0.2222222222222222,
              "#7201a8"
             ],
             [
              0.3333333333333333,
              "#9c179e"
             ],
             [
              0.4444444444444444,
              "#bd3786"
             ],
             [
              0.5555555555555556,
              "#d8576b"
             ],
             [
              0.6666666666666666,
              "#ed7953"
             ],
             [
              0.7777777777777778,
              "#fb9f3a"
             ],
             [
              0.8888888888888888,
              "#fdca26"
             ],
             [
              1,
              "#f0f921"
             ]
            ],
            "type": "heatmapgl"
           }
          ],
          "histogram": [
           {
            "marker": {
             "pattern": {
              "fillmode": "overlay",
              "size": 10,
              "solidity": 0.2
             }
            },
            "type": "histogram"
           }
          ],
          "histogram2d": [
           {
            "colorbar": {
             "outlinewidth": 0,
             "ticks": ""
            },
            "colorscale": [
             [
              0,
              "#0d0887"
             ],
             [
              0.1111111111111111,
              "#46039f"
             ],
             [
              0.2222222222222222,
              "#7201a8"
             ],
             [
              0.3333333333333333,
              "#9c179e"
             ],
             [
              0.4444444444444444,
              "#bd3786"
             ],
             [
              0.5555555555555556,
              "#d8576b"
             ],
             [
              0.6666666666666666,
              "#ed7953"
             ],
             [
              0.7777777777777778,
              "#fb9f3a"
             ],
             [
              0.8888888888888888,
              "#fdca26"
             ],
             [
              1,
              "#f0f921"
             ]
            ],
            "type": "histogram2d"
           }
          ],
          "histogram2dcontour": [
           {
            "colorbar": {
             "outlinewidth": 0,
             "ticks": ""
            },
            "colorscale": [
             [
              0,
              "#0d0887"
             ],
             [
              0.1111111111111111,
              "#46039f"
             ],
             [
              0.2222222222222222,
              "#7201a8"
             ],
             [
              0.3333333333333333,
              "#9c179e"
             ],
             [
              0.4444444444444444,
              "#bd3786"
             ],
             [
              0.5555555555555556,
              "#d8576b"
             ],
             [
              0.6666666666666666,
              "#ed7953"
             ],
             [
              0.7777777777777778,
              "#fb9f3a"
             ],
             [
              0.8888888888888888,
              "#fdca26"
             ],
             [
              1,
              "#f0f921"
             ]
            ],
            "type": "histogram2dcontour"
           }
          ],
          "mesh3d": [
           {
            "colorbar": {
             "outlinewidth": 0,
             "ticks": ""
            },
            "type": "mesh3d"
           }
          ],
          "parcoords": [
           {
            "line": {
             "colorbar": {
              "outlinewidth": 0,
              "ticks": ""
             }
            },
            "type": "parcoords"
           }
          ],
          "pie": [
           {
            "automargin": true,
            "type": "pie"
           }
          ],
          "scatter": [
           {
            "fillpattern": {
             "fillmode": "overlay",
             "size": 10,
             "solidity": 0.2
            },
            "type": "scatter"
           }
          ],
          "scatter3d": [
           {
            "line": {
             "colorbar": {
              "outlinewidth": 0,
              "ticks": ""
             }
            },
            "marker": {
             "colorbar": {
              "outlinewidth": 0,
              "ticks": ""
             }
            },
            "type": "scatter3d"
           }
          ],
          "scattercarpet": [
           {
            "marker": {
             "colorbar": {
              "outlinewidth": 0,
              "ticks": ""
             }
            },
            "type": "scattercarpet"
           }
          ],
          "scattergeo": [
           {
            "marker": {
             "colorbar": {
              "outlinewidth": 0,
              "ticks": ""
             }
            },
            "type": "scattergeo"
           }
          ],
          "scattergl": [
           {
            "marker": {
             "colorbar": {
              "outlinewidth": 0,
              "ticks": ""
             }
            },
            "type": "scattergl"
           }
          ],
          "scattermapbox": [
           {
            "marker": {
             "colorbar": {
              "outlinewidth": 0,
              "ticks": ""
             }
            },
            "type": "scattermapbox"
           }
          ],
          "scatterpolar": [
           {
            "marker": {
             "colorbar": {
              "outlinewidth": 0,
              "ticks": ""
             }
            },
            "type": "scatterpolar"
           }
          ],
          "scatterpolargl": [
           {
            "marker": {
             "colorbar": {
              "outlinewidth": 0,
              "ticks": ""
             }
            },
            "type": "scatterpolargl"
           }
          ],
          "scatterternary": [
           {
            "marker": {
             "colorbar": {
              "outlinewidth": 0,
              "ticks": ""
             }
            },
            "type": "scatterternary"
           }
          ],
          "surface": [
           {
            "colorbar": {
             "outlinewidth": 0,
             "ticks": ""
            },
            "colorscale": [
             [
              0,
              "#0d0887"
             ],
             [
              0.1111111111111111,
              "#46039f"
             ],
             [
              0.2222222222222222,
              "#7201a8"
             ],
             [
              0.3333333333333333,
              "#9c179e"
             ],
             [
              0.4444444444444444,
              "#bd3786"
             ],
             [
              0.5555555555555556,
              "#d8576b"
             ],
             [
              0.6666666666666666,
              "#ed7953"
             ],
             [
              0.7777777777777778,
              "#fb9f3a"
             ],
             [
              0.8888888888888888,
              "#fdca26"
             ],
             [
              1,
              "#f0f921"
             ]
            ],
            "type": "surface"
           }
          ],
          "table": [
           {
            "cells": {
             "fill": {
              "color": "#EBF0F8"
             },
             "line": {
              "color": "white"
             }
            },
            "header": {
             "fill": {
              "color": "#C8D4E3"
             },
             "line": {
              "color": "white"
             }
            },
            "type": "table"
           }
          ]
         },
         "layout": {
          "annotationdefaults": {
           "arrowcolor": "#2a3f5f",
           "arrowhead": 0,
           "arrowwidth": 1
          },
          "autotypenumbers": "strict",
          "coloraxis": {
           "colorbar": {
            "outlinewidth": 0,
            "ticks": ""
           }
          },
          "colorscale": {
           "diverging": [
            [
             0,
             "#8e0152"
            ],
            [
             0.1,
             "#c51b7d"
            ],
            [
             0.2,
             "#de77ae"
            ],
            [
             0.3,
             "#f1b6da"
            ],
            [
             0.4,
             "#fde0ef"
            ],
            [
             0.5,
             "#f7f7f7"
            ],
            [
             0.6,
             "#e6f5d0"
            ],
            [
             0.7,
             "#b8e186"
            ],
            [
             0.8,
             "#7fbc41"
            ],
            [
             0.9,
             "#4d9221"
            ],
            [
             1,
             "#276419"
            ]
           ],
           "sequential": [
            [
             0,
             "#0d0887"
            ],
            [
             0.1111111111111111,
             "#46039f"
            ],
            [
             0.2222222222222222,
             "#7201a8"
            ],
            [
             0.3333333333333333,
             "#9c179e"
            ],
            [
             0.4444444444444444,
             "#bd3786"
            ],
            [
             0.5555555555555556,
             "#d8576b"
            ],
            [
             0.6666666666666666,
             "#ed7953"
            ],
            [
             0.7777777777777778,
             "#fb9f3a"
            ],
            [
             0.8888888888888888,
             "#fdca26"
            ],
            [
             1,
             "#f0f921"
            ]
           ],
           "sequentialminus": [
            [
             0,
             "#0d0887"
            ],
            [
             0.1111111111111111,
             "#46039f"
            ],
            [
             0.2222222222222222,
             "#7201a8"
            ],
            [
             0.3333333333333333,
             "#9c179e"
            ],
            [
             0.4444444444444444,
             "#bd3786"
            ],
            [
             0.5555555555555556,
             "#d8576b"
            ],
            [
             0.6666666666666666,
             "#ed7953"
            ],
            [
             0.7777777777777778,
             "#fb9f3a"
            ],
            [
             0.8888888888888888,
             "#fdca26"
            ],
            [
             1,
             "#f0f921"
            ]
           ]
          },
          "colorway": [
           "#636efa",
           "#EF553B",
           "#00cc96",
           "#ab63fa",
           "#FFA15A",
           "#19d3f3",
           "#FF6692",
           "#B6E880",
           "#FF97FF",
           "#FECB52"
          ],
          "font": {
           "color": "#2a3f5f"
          },
          "geo": {
           "bgcolor": "white",
           "lakecolor": "white",
           "landcolor": "#E5ECF6",
           "showlakes": true,
           "showland": true,
           "subunitcolor": "white"
          },
          "hoverlabel": {
           "align": "left"
          },
          "hovermode": "closest",
          "mapbox": {
           "style": "light"
          },
          "paper_bgcolor": "white",
          "plot_bgcolor": "#E5ECF6",
          "polar": {
           "angularaxis": {
            "gridcolor": "white",
            "linecolor": "white",
            "ticks": ""
           },
           "bgcolor": "#E5ECF6",
           "radialaxis": {
            "gridcolor": "white",
            "linecolor": "white",
            "ticks": ""
           }
          },
          "scene": {
           "xaxis": {
            "backgroundcolor": "#E5ECF6",
            "gridcolor": "white",
            "gridwidth": 2,
            "linecolor": "white",
            "showbackground": true,
            "ticks": "",
            "zerolinecolor": "white"
           },
           "yaxis": {
            "backgroundcolor": "#E5ECF6",
            "gridcolor": "white",
            "gridwidth": 2,
            "linecolor": "white",
            "showbackground": true,
            "ticks": "",
            "zerolinecolor": "white"
           },
           "zaxis": {
            "backgroundcolor": "#E5ECF6",
            "gridcolor": "white",
            "gridwidth": 2,
            "linecolor": "white",
            "showbackground": true,
            "ticks": "",
            "zerolinecolor": "white"
           }
          },
          "shapedefaults": {
           "line": {
            "color": "#2a3f5f"
           }
          },
          "ternary": {
           "aaxis": {
            "gridcolor": "white",
            "linecolor": "white",
            "ticks": ""
           },
           "baxis": {
            "gridcolor": "white",
            "linecolor": "white",
            "ticks": ""
           },
           "bgcolor": "#E5ECF6",
           "caxis": {
            "gridcolor": "white",
            "linecolor": "white",
            "ticks": ""
           }
          },
          "title": {
           "x": 0.05
          },
          "xaxis": {
           "automargin": true,
           "gridcolor": "white",
           "linecolor": "white",
           "ticks": "",
           "title": {
            "standoff": 15
           },
           "zerolinecolor": "white",
           "zerolinewidth": 2
          },
          "yaxis": {
           "automargin": true,
           "gridcolor": "white",
           "linecolor": "white",
           "ticks": "",
           "title": {
            "standoff": 15
           },
           "zerolinecolor": "white",
           "zerolinewidth": 2
          }
         }
        },
        "title": {
         "font": {
          "size": 16
         },
         "text": "Hierarchical structure for Categories by Sales",
         "x": 0.5,
         "xanchor": "center",
         "y": 0.97,
         "yanchor": "top"
        }
       }
      }
     },
     "metadata": {},
     "output_type": "display_data"
    }
   ],
   "source": [
    "#create DataFrame between OrderQuantity and Sales by Category\n",
    "df = data_mix.groupby(['CategoryName','SubcategoryName']).agg({'OrderQuantity': sum, 'Sales': sum})[['OrderQuantity','Sales']].reset_index()\n",
    "\n",
    "#create treemap for Category by Order Quantity\n",
    "import plotly.express as px\n",
    "import numpy as np\n",
    "fig = px.treemap(df, path=[px.Constant('CategoryName'),'CategoryName','SubcategoryName'], values='OrderQuantity',  \n",
    "                 color=\"OrderQuantity\", hover_data=['SubcategoryName'],color_continuous_scale='RdBu')\n",
    "fig.update_layout(margin = dict(t=50, l=25, r=25, b=25),title_font_size=16,\n",
    "    title={'text': \"Hierarchical structure for Categories by Order Quantity\",'x':0.5,'y':0.97,'xanchor': 'center','yanchor': 'top'})\n",
    "fig.show()\n",
    "\n",
    "\n",
    "#create treemap for Category by Sales\n",
    "import plotly.express as px\n",
    "import numpy as np\n",
    "fig = px.treemap(df, path=[px.Constant('CategoryName'),'CategoryName','SubcategoryName'], values='Sales',  \n",
    "                 color=\"Sales\", hover_data=['SubcategoryName'],color_continuous_scale='RdBu')\n",
    "fig.update_layout(margin = dict(t=50, l=25, r=25, b=25),title_font_size=16,\n",
    "    title={'text': \"Hierarchical structure for Categories by Sales\",'x':0.5,'y':0.97,'xanchor': 'center','yanchor': 'top'})\n",
    "fig.show()"
   ]
  },
  {
   "cell_type": "markdown",
   "id": "a79942b5",
   "metadata": {},
   "source": [
    "### <span style=\"color: blue\">Comment:</span>\n",
    "\n",
    "- In the Office Supplies category, Binders accounted for more than 19000 Order Quantity, Storage and Art reached about 15000 one, while Chairs and Furnishings in Furniture category had approximately 10,000 orders.\n",
    "\n",
    "- Chairs and Bookcases in the Furniture segment were the highest sales, at about 1.6 million. At the same time, Storage accounted for the highest sales in the Office Supplies category at about 1.2 million.\n",
    "\n",
    "\n",
    "#### *<span style=\"color: blue\">Nhận xét:</span>*\n",
    "\n",
    "- *Trong ngành hàng Office Supplies, mặt hàng Binders chiếm hơn 19000 số lượng đặt hàng, mặt hàng Storage và Art đạt khoảng 15000 lần đặt, trong khi Chairs và Furnishings thuộc ngành hàng Furniture có lượng đặt hàng xấp xỉ 10000 lần.*\n",
    "\n",
    "- *Chairs và Bookcases có doanh số bán hàng cao nhất trong ngành hàng Furniture khoảng 1,6 triệu, đồng thời, Storage chiếm doanh số cao nhất trong ngành hàng Office Supplies khoảng 1,2 triệu*"
   ]
  },
  {
   "cell_type": "markdown",
   "id": "ca207cfd",
   "metadata": {},
   "source": [
    "### <span style=\"color: green\">Hierarchical structure for Order Quantity and Sales by each Market</span>\n",
    "\n",
    "#### *<span style=\"color: green\">Cấu trúc phân cấp cho số lượng đặt hàng và doanh số bán hàng theo từng thị trường kinh doanh</span>*"
   ]
  },
  {
   "cell_type": "code",
   "execution_count": 296,
   "id": "eb64774e",
   "metadata": {},
   "outputs": [
    {
     "data": {
      "application/vnd.plotly.v1+json": {
       "config": {
        "plotlyServerURL": "https://plot.ly"
       },
       "data": [
        {
         "branchvalues": "total",
         "customdata": [
          [
           "Afghanistan",
           148
          ],
          [
           "Albania",
           23
          ],
          [
           "Algeria",
           306
          ],
          [
           "Angola",
           177
          ],
          [
           "Argentina",
           128
          ],
          [
           "Armenia",
           3
          ],
          [
           "Australia",
           6352
          ],
          [
           "Austria",
           685
          ],
          [
           "Austria",
           102
          ],
          [
           "Azerbaijan",
           39
          ],
          [
           "Bangladesh",
           445
          ],
          [
           "Barbados",
           40
          ],
          [
           "Belarus",
           131
          ],
          [
           "Belgium",
           393
          ],
          [
           "Benin",
           30
          ],
          [
           "Bolivia",
           111
          ],
          [
           "Bosnia and Herzegovina",
           35
          ],
          [
           "Brazil",
           2760
          ],
          [
           "Bulgaria",
           108
          ],
          [
           "Burundi",
           4
          ],
          [
           "Cambodia",
           90
          ],
          [
           "Cameroon",
           153
          ],
          [
           "Canada",
           582
          ],
          [
           "Central African Republic",
           10
          ],
          [
           "Chad",
           11
          ],
          [
           "Chile",
           350
          ],
          [
           "China",
           4295
          ],
          [
           "Colombia",
           831
          ],
          [
           "Cote d'Ivoire",
           170
          ],
          [
           "Croatia",
           60
          ],
          [
           "Cuba",
           1638
          ],
          [
           "Czech Republic",
           129
          ],
          [
           "Democratic Republic of the Congo",
           578
          ],
          [
           "Denmark",
           141
          ],
          [
           "Djibouti",
           30
          ],
          [
           "Dominican Republic",
           919
          ],
          [
           "Ecuador",
           109
          ],
          [
           "Egypt",
           794
          ],
          [
           "El Salvador",
           1738
          ],
          [
           "Eritrea",
           2
          ],
          [
           "Estonia",
           21
          ],
          [
           "Ethiopia",
           17
          ],
          [
           "Finland",
           152
          ],
          [
           "France",
           7369
          ],
          [
           "Gabon",
           32
          ],
          [
           "Georgia",
           51
          ],
          [
           "Germany",
           5204
          ],
          [
           "Ghana",
           153
          ],
          [
           "Guadeloupe",
           17
          ],
          [
           "Guatemala",
           1077
          ],
          [
           "Guinea",
           25
          ],
          [
           "Guinea-Bissau",
           6
          ],
          [
           "Haiti",
           75
          ],
          [
           "Honduras",
           271
          ],
          [
           "Hong Kong",
           47
          ],
          [
           "Hungary",
           106
          ],
          [
           "India",
           3365
          ],
          [
           "Indonesia",
           3100
          ],
          [
           "Iran",
           925
          ],
          [
           "Iraq",
           638
          ],
          [
           "Ireland",
           270
          ],
          [
           "Israel",
           146
          ],
          [
           "Italy",
           2815
          ],
          [
           "Jamaica",
           72
          ],
          [
           "Japan",
           576
          ],
          [
           "Jordan",
           70
          ],
          [
           "Kazakhstan",
           125
          ],
          [
           "Kenya",
           165
          ],
          [
           "Kyrgyzstan",
           43
          ],
          [
           "Lebanon",
           8
          ],
          [
           "Lesotho",
           1
          ],
          [
           "Liberia",
           27
          ],
          [
           "Libya",
           69
          ],
          [
           "Lithuania",
           107
          ],
          [
           "Macedonia",
           4
          ],
          [
           "Madagascar",
           88
          ],
          [
           "Malaysia",
           373
          ],
          [
           "Mali",
           55
          ],
          [
           "Martinique",
           65
          ],
          [
           "Mauritania",
           15
          ],
          [
           "Mexico",
           5302
          ],
          [
           "Moldova",
           67
          ],
          [
           "Mongolia",
           51
          ],
          [
           "Montenegro",
           13
          ],
          [
           "Morocco",
           710
          ],
          [
           "Mozambique",
           151
          ],
          [
           "Myanmar (Burma)",
           319
          ],
          [
           "Nepal",
           46
          ],
          [
           "Netherlands",
           1173
          ],
          [
           "New Zealand",
           1197
          ],
          [
           "Nicaragua",
           1357
          ],
          [
           "Niger",
           66
          ],
          [
           "Nigeria",
           1401
          ],
          [
           "Norway",
           164
          ],
          [
           "Pakistan",
           585
          ],
          [
           "Panama",
           151
          ],
          [
           "Papua New Guinea",
           49
          ],
          [
           "Paraguay",
           28
          ],
          [
           "Peru",
           59
          ],
          [
           "Philippines",
           1599
          ],
          [
           "Poland",
           381
          ],
          [
           "Portugal",
           214
          ],
          [
           "Qatar",
           34
          ],
          [
           "Republic of the Congo",
           30
          ],
          [
           "Romania",
           236
          ],
          [
           "Russia",
           659
          ],
          [
           "Rwanda",
           50
          ],
          [
           "Saudi Arabia",
           507
          ],
          [
           "Senegal",
           178
          ],
          [
           "Sierra Leone",
           22
          ],
          [
           "Singapore",
           335
          ],
          [
           "Slovakia",
           16
          ],
          [
           "Slovenia",
           8
          ],
          [
           "Somalia",
           68
          ],
          [
           "South Africa",
           660
          ],
          [
           "South Korea",
           381
          ],
          [
           "Spain",
           2297
          ],
          [
           "Sri Lanka",
           21
          ],
          [
           "Sudan",
           128
          ],
          [
           "Sweden",
           522
          ],
          [
           "Switzerland",
           194
          ],
          [
           "Syria",
           31
          ],
          [
           "Taiwan",
           43
          ],
          [
           "Thailand",
           708
          ],
          [
           "Togo",
           64
          ],
          [
           "Trinidad and Tobago",
           57
          ],
          [
           "Tunisia",
           18
          ],
          [
           "Turkey",
           1739
          ],
          [
           "United Arab Emirates",
           24
          ],
          [
           "United Kingdom",
           4035
          ],
          [
           "United States",
           5188
          ],
          [
           "United States",
           6420
          ],
          [
           "United States",
           3786
          ],
          [
           "United States",
           7592
          ],
          [
           "Uruguay",
           70
          ],
          [
           "Venezuela",
           109
          ],
          [
           "Vietnam",
           596
          ],
          [
           "(?)",
           650.3066212871287
          ],
          [
           "Canada",
           582
          ],
          [
           "(?)",
           1230.5851543531044
          ],
          [
           "(?)",
           5554.73538420562
          ],
          [
           "(?)",
           1331.7945145842402
          ],
          [
           "United States",
           5188
          ],
          [
           "(?)",
           2578.727982646421
          ],
          [
           "(?)",
           801.4307228915662
          ],
          [
           "United States",
           6420
          ],
          [
           "(?)",
           3159.820211960636
          ],
          [
           "Mexico",
           5302
          ],
          [
           "(?)",
           3543.2459752901536
          ],
          [
           "(?)",
           5499.225322453277
          ],
          [
           "(?)",
           2487.087870822381
          ],
          [
           "(?)",
           1864.38924259056
          ],
          [
           "United States",
           3786
          ],
          [
           "(?)",
           1879.8449438202247
          ],
          [
           "United States",
           7592
          ],
          [
           "(?)",
           3485.3492501013375
          ],
          [
           "(?)",
           650.3066212871287
          ],
          [
           "Canada",
           582
          ],
          [
           "(?)",
           801.4307228915662
          ],
          [
           "(?)",
           4423.432807866396
          ],
          [
           "(?)",
           2669.293757932387
          ],
          [
           "United States",
           6095.188549551901
          ],
          [
           "(?)",
           3792.6124597330877
          ]
         ],
         "domain": {
          "x": [
           0,
           1
          ],
          "y": [
           0,
           1
          ]
         },
         "hovertemplate": "labels=%{label}<br>OrderQuantity_sum=%{value}<br>parent=%{parent}<br>id=%{id}<br>Country=%{customdata[0]}<br>OrderQuantity=%{color}<extra></extra>",
         "ids": [
          "Market/APAC/Central Asia/Afghanistan",
          "Market/EMEA/EMEA/Albania",
          "Market/Africa/Africa/Algeria",
          "Market/Africa/Africa/Angola",
          "Market/LATAM/South/Argentina",
          "Market/EMEA/EMEA/Armenia",
          "Market/APAC/Oceania/Australia",
          "Market/EU/Central/Austria",
          "Market/EMEA/EMEA/Austria",
          "Market/EMEA/EMEA/Azerbaijan",
          "Market/APAC/Central Asia/Bangladesh",
          "Market/LATAM/Caribbean/Barbados",
          "Market/EMEA/EMEA/Belarus",
          "Market/EU/Central/Belgium",
          "Market/Africa/Africa/Benin",
          "Market/LATAM/South/Bolivia",
          "Market/EMEA/EMEA/Bosnia and Herzegovina",
          "Market/LATAM/South/Brazil",
          "Market/EMEA/EMEA/Bulgaria",
          "Market/Africa/Africa/Burundi",
          "Market/APAC/Southeast Asia/Cambodia",
          "Market/Africa/Africa/Cameroon",
          "Market/Canada/Canada/Canada",
          "Market/Africa/Africa/Central African Republic",
          "Market/Africa/Africa/Chad",
          "Market/LATAM/South/Chile",
          "Market/APAC/North Asia/China",
          "Market/LATAM/South/Colombia",
          "Market/Africa/Africa/Cote d'Ivoire",
          "Market/EMEA/EMEA/Croatia",
          "Market/LATAM/Caribbean/Cuba",
          "Market/EMEA/EMEA/Czech Republic",
          "Market/Africa/Africa/Democratic Republic of the Congo",
          "Market/EU/North/Denmark",
          "Market/Africa/Africa/Djibouti",
          "Market/LATAM/Caribbean/Dominican Republic",
          "Market/LATAM/South/Ecuador",
          "Market/Africa/Africa/Egypt",
          "Market/LATAM/Central/El Salvador",
          "Market/Africa/Africa/Eritrea",
          "Market/EMEA/EMEA/Estonia",
          "Market/Africa/Africa/Ethiopia",
          "Market/EU/North/Finland",
          "Market/EU/Central/France",
          "Market/Africa/Africa/Gabon",
          "Market/EMEA/EMEA/Georgia",
          "Market/EU/Central/Germany",
          "Market/Africa/Africa/Ghana",
          "Market/LATAM/Caribbean/Guadeloupe",
          "Market/LATAM/Central/Guatemala",
          "Market/Africa/Africa/Guinea",
          "Market/Africa/Africa/Guinea-Bissau",
          "Market/LATAM/Caribbean/Haiti",
          "Market/LATAM/Central/Honduras",
          "Market/APAC/North Asia/Hong Kong",
          "Market/EMEA/EMEA/Hungary",
          "Market/APAC/Central Asia/India",
          "Market/APAC/Southeast Asia/Indonesia",
          "Market/EMEA/EMEA/Iran",
          "Market/EMEA/EMEA/Iraq",
          "Market/EU/North/Ireland",
          "Market/EMEA/EMEA/Israel",
          "Market/EU/South/Italy",
          "Market/LATAM/Caribbean/Jamaica",
          "Market/APAC/North Asia/Japan",
          "Market/EMEA/EMEA/Jordan",
          "Market/EMEA/EMEA/Kazakhstan",
          "Market/Africa/Africa/Kenya",
          "Market/EMEA/EMEA/Kyrgyzstan",
          "Market/EMEA/EMEA/Lebanon",
          "Market/Africa/Africa/Lesotho",
          "Market/Africa/Africa/Liberia",
          "Market/Africa/Africa/Libya",
          "Market/EMEA/EMEA/Lithuania",
          "Market/EMEA/EMEA/Macedonia",
          "Market/Africa/Africa/Madagascar",
          "Market/APAC/Southeast Asia/Malaysia",
          "Market/Africa/Africa/Mali",
          "Market/LATAM/Caribbean/Martinique",
          "Market/Africa/Africa/Mauritania",
          "Market/LATAM/North/Mexico",
          "Market/EMEA/EMEA/Moldova",
          "Market/EMEA/EMEA/Mongolia",
          "Market/EMEA/EMEA/Montenegro",
          "Market/Africa/Africa/Morocco",
          "Market/Africa/Africa/Mozambique",
          "Market/APAC/Southeast Asia/Myanmar (Burma)",
          "Market/APAC/Central Asia/Nepal",
          "Market/EU/Central/Netherlands",
          "Market/APAC/Oceania/New Zealand",
          "Market/LATAM/Central/Nicaragua",
          "Market/Africa/Africa/Niger",
          "Market/Africa/Africa/Nigeria",
          "Market/EU/North/Norway",
          "Market/APAC/Central Asia/Pakistan",
          "Market/LATAM/Central/Panama",
          "Market/APAC/Oceania/Papua New Guinea",
          "Market/LATAM/South/Paraguay",
          "Market/LATAM/South/Peru",
          "Market/APAC/Southeast Asia/Philippines",
          "Market/EMEA/EMEA/Poland",
          "Market/EU/South/Portugal",
          "Market/EMEA/EMEA/Qatar",
          "Market/Africa/Africa/Republic of the Congo",
          "Market/EMEA/EMEA/Romania",
          "Market/EMEA/EMEA/Russia",
          "Market/Africa/Africa/Rwanda",
          "Market/EMEA/EMEA/Saudi Arabia",
          "Market/Africa/Africa/Senegal",
          "Market/Africa/Africa/Sierra Leone",
          "Market/APAC/Southeast Asia/Singapore",
          "Market/EMEA/EMEA/Slovakia",
          "Market/EMEA/EMEA/Slovenia",
          "Market/Africa/Africa/Somalia",
          "Market/Africa/Africa/South Africa",
          "Market/APAC/North Asia/South Korea",
          "Market/EU/South/Spain",
          "Market/APAC/Central Asia/Sri Lanka",
          "Market/Africa/Africa/Sudan",
          "Market/EU/North/Sweden",
          "Market/EU/Central/Switzerland",
          "Market/EMEA/EMEA/Syria",
          "Market/APAC/North Asia/Taiwan",
          "Market/APAC/Southeast Asia/Thailand",
          "Market/Africa/Africa/Togo",
          "Market/LATAM/Caribbean/Trinidad and Tobago",
          "Market/Africa/Africa/Tunisia",
          "Market/EMEA/EMEA/Turkey",
          "Market/EMEA/EMEA/United Arab Emirates",
          "Market/EU/North/United Kingdom",
          "Market/US/Central/United States",
          "Market/US/East/United States",
          "Market/US/South/United States",
          "Market/US/West/United States",
          "Market/LATAM/South/Uruguay",
          "Market/LATAM/South/Venezuela",
          "Market/APAC/Southeast Asia/Vietnam",
          "Market/Africa/Africa",
          "Market/Canada/Canada",
          "Market/LATAM/Caribbean",
          "Market/EU/Central",
          "Market/LATAM/Central",
          "Market/US/Central",
          "Market/APAC/Central Asia",
          "Market/EMEA/EMEA",
          "Market/US/East",
          "Market/EU/North",
          "Market/LATAM/North",
          "Market/APAC/North Asia",
          "Market/APAC/Oceania",
          "Market/EU/South",
          "Market/LATAM/South",
          "Market/US/South",
          "Market/APAC/Southeast Asia",
          "Market/US/West",
          "Market/APAC",
          "Market/Africa",
          "Market/Canada",
          "Market/EMEA",
          "Market/EU",
          "Market/LATAM",
          "Market/US",
          "Market"
         ],
         "labels": [
          "Afghanistan",
          "Albania",
          "Algeria",
          "Angola",
          "Argentina",
          "Armenia",
          "Australia",
          "Austria",
          "Austria",
          "Azerbaijan",
          "Bangladesh",
          "Barbados",
          "Belarus",
          "Belgium",
          "Benin",
          "Bolivia",
          "Bosnia and Herzegovina",
          "Brazil",
          "Bulgaria",
          "Burundi",
          "Cambodia",
          "Cameroon",
          "Canada",
          "Central African Republic",
          "Chad",
          "Chile",
          "China",
          "Colombia",
          "Cote d'Ivoire",
          "Croatia",
          "Cuba",
          "Czech Republic",
          "Democratic Republic of the Congo",
          "Denmark",
          "Djibouti",
          "Dominican Republic",
          "Ecuador",
          "Egypt",
          "El Salvador",
          "Eritrea",
          "Estonia",
          "Ethiopia",
          "Finland",
          "France",
          "Gabon",
          "Georgia",
          "Germany",
          "Ghana",
          "Guadeloupe",
          "Guatemala",
          "Guinea",
          "Guinea-Bissau",
          "Haiti",
          "Honduras",
          "Hong Kong",
          "Hungary",
          "India",
          "Indonesia",
          "Iran",
          "Iraq",
          "Ireland",
          "Israel",
          "Italy",
          "Jamaica",
          "Japan",
          "Jordan",
          "Kazakhstan",
          "Kenya",
          "Kyrgyzstan",
          "Lebanon",
          "Lesotho",
          "Liberia",
          "Libya",
          "Lithuania",
          "Macedonia",
          "Madagascar",
          "Malaysia",
          "Mali",
          "Martinique",
          "Mauritania",
          "Mexico",
          "Moldova",
          "Mongolia",
          "Montenegro",
          "Morocco",
          "Mozambique",
          "Myanmar (Burma)",
          "Nepal",
          "Netherlands",
          "New Zealand",
          "Nicaragua",
          "Niger",
          "Nigeria",
          "Norway",
          "Pakistan",
          "Panama",
          "Papua New Guinea",
          "Paraguay",
          "Peru",
          "Philippines",
          "Poland",
          "Portugal",
          "Qatar",
          "Republic of the Congo",
          "Romania",
          "Russia",
          "Rwanda",
          "Saudi Arabia",
          "Senegal",
          "Sierra Leone",
          "Singapore",
          "Slovakia",
          "Slovenia",
          "Somalia",
          "South Africa",
          "South Korea",
          "Spain",
          "Sri Lanka",
          "Sudan",
          "Sweden",
          "Switzerland",
          "Syria",
          "Taiwan",
          "Thailand",
          "Togo",
          "Trinidad and Tobago",
          "Tunisia",
          "Turkey",
          "United Arab Emirates",
          "United Kingdom",
          "United States",
          "United States",
          "United States",
          "United States",
          "Uruguay",
          "Venezuela",
          "Vietnam",
          "Africa",
          "Canada",
          "Caribbean",
          "Central",
          "Central",
          "Central",
          "Central Asia",
          "EMEA",
          "East",
          "North",
          "North",
          "North Asia",
          "Oceania",
          "South",
          "South",
          "South",
          "Southeast Asia",
          "West",
          "APAC",
          "Africa",
          "Canada",
          "EMEA",
          "EU",
          "LATAM",
          "US",
          "Market"
         ],
         "marker": {
          "coloraxis": "coloraxis",
          "colors": [
           148,
           23,
           306,
           177,
           128,
           3,
           6352,
           685,
           102,
           39,
           445,
           40,
           131,
           393,
           30,
           111,
           35,
           2760,
           108,
           4,
           90,
           153,
           582,
           10,
           11,
           350,
           4295,
           831,
           170,
           60,
           1638,
           129,
           578,
           141,
           30,
           919,
           109,
           794,
           1738,
           2,
           21,
           17,
           152,
           7369,
           32,
           51,
           5204,
           153,
           17,
           1077,
           25,
           6,
           75,
           271,
           47,
           106,
           3365,
           3100,
           925,
           638,
           270,
           146,
           2815,
           72,
           576,
           70,
           125,
           165,
           43,
           8,
           1,
           27,
           69,
           107,
           4,
           88,
           373,
           55,
           65,
           15,
           5302,
           67,
           51,
           13,
           710,
           151,
           319,
           46,
           1173,
           1197,
           1357,
           66,
           1401,
           164,
           585,
           151,
           49,
           28,
           59,
           1599,
           381,
           214,
           34,
           30,
           236,
           659,
           50,
           507,
           178,
           22,
           335,
           16,
           8,
           68,
           660,
           381,
           2297,
           21,
           128,
           522,
           194,
           31,
           43,
           708,
           64,
           57,
           18,
           1739,
           24,
           4035,
           5188,
           6420,
           3786,
           7592,
           70,
           109,
           596,
           650.3066212871287,
           582,
           1230.5851543531044,
           5554.73538420562,
           1331.7945145842402,
           5188,
           2578.727982646421,
           801.4307228915662,
           6420,
           3159.820211960636,
           5302,
           3543.2459752901536,
           5499.225322453277,
           2487.087870822381,
           1864.38924259056,
           3786,
           1879.8449438202247,
           7592,
           3485.3492501013375,
           650.3066212871287,
           582,
           801.4307228915662,
           4423.432807866396,
           2669.293757932387,
           6095.188549551901,
           3792.6124597330877
          ]
         },
         "name": "",
         "parents": [
          "Market/APAC/Central Asia",
          "Market/EMEA/EMEA",
          "Market/Africa/Africa",
          "Market/Africa/Africa",
          "Market/LATAM/South",
          "Market/EMEA/EMEA",
          "Market/APAC/Oceania",
          "Market/EU/Central",
          "Market/EMEA/EMEA",
          "Market/EMEA/EMEA",
          "Market/APAC/Central Asia",
          "Market/LATAM/Caribbean",
          "Market/EMEA/EMEA",
          "Market/EU/Central",
          "Market/Africa/Africa",
          "Market/LATAM/South",
          "Market/EMEA/EMEA",
          "Market/LATAM/South",
          "Market/EMEA/EMEA",
          "Market/Africa/Africa",
          "Market/APAC/Southeast Asia",
          "Market/Africa/Africa",
          "Market/Canada/Canada",
          "Market/Africa/Africa",
          "Market/Africa/Africa",
          "Market/LATAM/South",
          "Market/APAC/North Asia",
          "Market/LATAM/South",
          "Market/Africa/Africa",
          "Market/EMEA/EMEA",
          "Market/LATAM/Caribbean",
          "Market/EMEA/EMEA",
          "Market/Africa/Africa",
          "Market/EU/North",
          "Market/Africa/Africa",
          "Market/LATAM/Caribbean",
          "Market/LATAM/South",
          "Market/Africa/Africa",
          "Market/LATAM/Central",
          "Market/Africa/Africa",
          "Market/EMEA/EMEA",
          "Market/Africa/Africa",
          "Market/EU/North",
          "Market/EU/Central",
          "Market/Africa/Africa",
          "Market/EMEA/EMEA",
          "Market/EU/Central",
          "Market/Africa/Africa",
          "Market/LATAM/Caribbean",
          "Market/LATAM/Central",
          "Market/Africa/Africa",
          "Market/Africa/Africa",
          "Market/LATAM/Caribbean",
          "Market/LATAM/Central",
          "Market/APAC/North Asia",
          "Market/EMEA/EMEA",
          "Market/APAC/Central Asia",
          "Market/APAC/Southeast Asia",
          "Market/EMEA/EMEA",
          "Market/EMEA/EMEA",
          "Market/EU/North",
          "Market/EMEA/EMEA",
          "Market/EU/South",
          "Market/LATAM/Caribbean",
          "Market/APAC/North Asia",
          "Market/EMEA/EMEA",
          "Market/EMEA/EMEA",
          "Market/Africa/Africa",
          "Market/EMEA/EMEA",
          "Market/EMEA/EMEA",
          "Market/Africa/Africa",
          "Market/Africa/Africa",
          "Market/Africa/Africa",
          "Market/EMEA/EMEA",
          "Market/EMEA/EMEA",
          "Market/Africa/Africa",
          "Market/APAC/Southeast Asia",
          "Market/Africa/Africa",
          "Market/LATAM/Caribbean",
          "Market/Africa/Africa",
          "Market/LATAM/North",
          "Market/EMEA/EMEA",
          "Market/EMEA/EMEA",
          "Market/EMEA/EMEA",
          "Market/Africa/Africa",
          "Market/Africa/Africa",
          "Market/APAC/Southeast Asia",
          "Market/APAC/Central Asia",
          "Market/EU/Central",
          "Market/APAC/Oceania",
          "Market/LATAM/Central",
          "Market/Africa/Africa",
          "Market/Africa/Africa",
          "Market/EU/North",
          "Market/APAC/Central Asia",
          "Market/LATAM/Central",
          "Market/APAC/Oceania",
          "Market/LATAM/South",
          "Market/LATAM/South",
          "Market/APAC/Southeast Asia",
          "Market/EMEA/EMEA",
          "Market/EU/South",
          "Market/EMEA/EMEA",
          "Market/Africa/Africa",
          "Market/EMEA/EMEA",
          "Market/EMEA/EMEA",
          "Market/Africa/Africa",
          "Market/EMEA/EMEA",
          "Market/Africa/Africa",
          "Market/Africa/Africa",
          "Market/APAC/Southeast Asia",
          "Market/EMEA/EMEA",
          "Market/EMEA/EMEA",
          "Market/Africa/Africa",
          "Market/Africa/Africa",
          "Market/APAC/North Asia",
          "Market/EU/South",
          "Market/APAC/Central Asia",
          "Market/Africa/Africa",
          "Market/EU/North",
          "Market/EU/Central",
          "Market/EMEA/EMEA",
          "Market/APAC/North Asia",
          "Market/APAC/Southeast Asia",
          "Market/Africa/Africa",
          "Market/LATAM/Caribbean",
          "Market/Africa/Africa",
          "Market/EMEA/EMEA",
          "Market/EMEA/EMEA",
          "Market/EU/North",
          "Market/US/Central",
          "Market/US/East",
          "Market/US/South",
          "Market/US/West",
          "Market/LATAM/South",
          "Market/LATAM/South",
          "Market/APAC/Southeast Asia",
          "Market/Africa",
          "Market/Canada",
          "Market/LATAM",
          "Market/EU",
          "Market/LATAM",
          "Market/US",
          "Market/APAC",
          "Market/EMEA",
          "Market/US",
          "Market/EU",
          "Market/LATAM",
          "Market/APAC",
          "Market/APAC",
          "Market/EU",
          "Market/LATAM",
          "Market/US",
          "Market/APAC",
          "Market/US",
          "Market",
          "Market",
          "Market",
          "Market",
          "Market",
          "Market",
          "Market",
          ""
         ],
         "type": "treemap",
         "values": [
          148,
          23,
          306,
          177,
          128,
          3,
          6352,
          685,
          102,
          39,
          445,
          40,
          131,
          393,
          30,
          111,
          35,
          2760,
          108,
          4,
          90,
          153,
          582,
          10,
          11,
          350,
          4295,
          831,
          170,
          60,
          1638,
          129,
          578,
          141,
          30,
          919,
          109,
          794,
          1738,
          2,
          21,
          17,
          152,
          7369,
          32,
          51,
          5204,
          153,
          17,
          1077,
          25,
          6,
          75,
          271,
          47,
          106,
          3365,
          3100,
          925,
          638,
          270,
          146,
          2815,
          72,
          576,
          70,
          125,
          165,
          43,
          8,
          1,
          27,
          69,
          107,
          4,
          88,
          373,
          55,
          65,
          15,
          5302,
          67,
          51,
          13,
          710,
          151,
          319,
          46,
          1173,
          1197,
          1357,
          66,
          1401,
          164,
          585,
          151,
          49,
          28,
          59,
          1599,
          381,
          214,
          34,
          30,
          236,
          659,
          50,
          507,
          178,
          22,
          335,
          16,
          8,
          68,
          660,
          381,
          2297,
          21,
          128,
          522,
          194,
          31,
          43,
          708,
          64,
          57,
          18,
          1739,
          24,
          4035,
          5188,
          6420,
          3786,
          7592,
          70,
          109,
          596,
          6464,
          582,
          2883,
          15018,
          4594,
          5188,
          4610,
          6640,
          6420,
          5284,
          5302,
          5342,
          7598,
          5326,
          4555,
          3786,
          7120,
          7592,
          24670,
          6464,
          582,
          6640,
          25628,
          17334,
          22986,
          104304
         ]
        }
       ],
       "layout": {
        "coloraxis": {
         "colorbar": {
          "title": {
           "text": "OrderQuantity"
          }
         },
         "colorscale": [
          [
           0,
           "rgb(103,0,31)"
          ],
          [
           0.1,
           "rgb(178,24,43)"
          ],
          [
           0.2,
           "rgb(214,96,77)"
          ],
          [
           0.3,
           "rgb(244,165,130)"
          ],
          [
           0.4,
           "rgb(253,219,199)"
          ],
          [
           0.5,
           "rgb(247,247,247)"
          ],
          [
           0.6,
           "rgb(209,229,240)"
          ],
          [
           0.7,
           "rgb(146,197,222)"
          ],
          [
           0.8,
           "rgb(67,147,195)"
          ],
          [
           0.9,
           "rgb(33,102,172)"
          ],
          [
           1,
           "rgb(5,48,97)"
          ]
         ]
        },
        "legend": {
         "tracegroupgap": 0
        },
        "margin": {
         "b": 25,
         "l": 25,
         "r": 25,
         "t": 50
        },
        "template": {
         "data": {
          "bar": [
           {
            "error_x": {
             "color": "#2a3f5f"
            },
            "error_y": {
             "color": "#2a3f5f"
            },
            "marker": {
             "line": {
              "color": "#E5ECF6",
              "width": 0.5
             },
             "pattern": {
              "fillmode": "overlay",
              "size": 10,
              "solidity": 0.2
             }
            },
            "type": "bar"
           }
          ],
          "barpolar": [
           {
            "marker": {
             "line": {
              "color": "#E5ECF6",
              "width": 0.5
             },
             "pattern": {
              "fillmode": "overlay",
              "size": 10,
              "solidity": 0.2
             }
            },
            "type": "barpolar"
           }
          ],
          "carpet": [
           {
            "aaxis": {
             "endlinecolor": "#2a3f5f",
             "gridcolor": "white",
             "linecolor": "white",
             "minorgridcolor": "white",
             "startlinecolor": "#2a3f5f"
            },
            "baxis": {
             "endlinecolor": "#2a3f5f",
             "gridcolor": "white",
             "linecolor": "white",
             "minorgridcolor": "white",
             "startlinecolor": "#2a3f5f"
            },
            "type": "carpet"
           }
          ],
          "choropleth": [
           {
            "colorbar": {
             "outlinewidth": 0,
             "ticks": ""
            },
            "type": "choropleth"
           }
          ],
          "contour": [
           {
            "colorbar": {
             "outlinewidth": 0,
             "ticks": ""
            },
            "colorscale": [
             [
              0,
              "#0d0887"
             ],
             [
              0.1111111111111111,
              "#46039f"
             ],
             [
              0.2222222222222222,
              "#7201a8"
             ],
             [
              0.3333333333333333,
              "#9c179e"
             ],
             [
              0.4444444444444444,
              "#bd3786"
             ],
             [
              0.5555555555555556,
              "#d8576b"
             ],
             [
              0.6666666666666666,
              "#ed7953"
             ],
             [
              0.7777777777777778,
              "#fb9f3a"
             ],
             [
              0.8888888888888888,
              "#fdca26"
             ],
             [
              1,
              "#f0f921"
             ]
            ],
            "type": "contour"
           }
          ],
          "contourcarpet": [
           {
            "colorbar": {
             "outlinewidth": 0,
             "ticks": ""
            },
            "type": "contourcarpet"
           }
          ],
          "heatmap": [
           {
            "colorbar": {
             "outlinewidth": 0,
             "ticks": ""
            },
            "colorscale": [
             [
              0,
              "#0d0887"
             ],
             [
              0.1111111111111111,
              "#46039f"
             ],
             [
              0.2222222222222222,
              "#7201a8"
             ],
             [
              0.3333333333333333,
              "#9c179e"
             ],
             [
              0.4444444444444444,
              "#bd3786"
             ],
             [
              0.5555555555555556,
              "#d8576b"
             ],
             [
              0.6666666666666666,
              "#ed7953"
             ],
             [
              0.7777777777777778,
              "#fb9f3a"
             ],
             [
              0.8888888888888888,
              "#fdca26"
             ],
             [
              1,
              "#f0f921"
             ]
            ],
            "type": "heatmap"
           }
          ],
          "heatmapgl": [
           {
            "colorbar": {
             "outlinewidth": 0,
             "ticks": ""
            },
            "colorscale": [
             [
              0,
              "#0d0887"
             ],
             [
              0.1111111111111111,
              "#46039f"
             ],
             [
              0.2222222222222222,
              "#7201a8"
             ],
             [
              0.3333333333333333,
              "#9c179e"
             ],
             [
              0.4444444444444444,
              "#bd3786"
             ],
             [
              0.5555555555555556,
              "#d8576b"
             ],
             [
              0.6666666666666666,
              "#ed7953"
             ],
             [
              0.7777777777777778,
              "#fb9f3a"
             ],
             [
              0.8888888888888888,
              "#fdca26"
             ],
             [
              1,
              "#f0f921"
             ]
            ],
            "type": "heatmapgl"
           }
          ],
          "histogram": [
           {
            "marker": {
             "pattern": {
              "fillmode": "overlay",
              "size": 10,
              "solidity": 0.2
             }
            },
            "type": "histogram"
           }
          ],
          "histogram2d": [
           {
            "colorbar": {
             "outlinewidth": 0,
             "ticks": ""
            },
            "colorscale": [
             [
              0,
              "#0d0887"
             ],
             [
              0.1111111111111111,
              "#46039f"
             ],
             [
              0.2222222222222222,
              "#7201a8"
             ],
             [
              0.3333333333333333,
              "#9c179e"
             ],
             [
              0.4444444444444444,
              "#bd3786"
             ],
             [
              0.5555555555555556,
              "#d8576b"
             ],
             [
              0.6666666666666666,
              "#ed7953"
             ],
             [
              0.7777777777777778,
              "#fb9f3a"
             ],
             [
              0.8888888888888888,
              "#fdca26"
             ],
             [
              1,
              "#f0f921"
             ]
            ],
            "type": "histogram2d"
           }
          ],
          "histogram2dcontour": [
           {
            "colorbar": {
             "outlinewidth": 0,
             "ticks": ""
            },
            "colorscale": [
             [
              0,
              "#0d0887"
             ],
             [
              0.1111111111111111,
              "#46039f"
             ],
             [
              0.2222222222222222,
              "#7201a8"
             ],
             [
              0.3333333333333333,
              "#9c179e"
             ],
             [
              0.4444444444444444,
              "#bd3786"
             ],
             [
              0.5555555555555556,
              "#d8576b"
             ],
             [
              0.6666666666666666,
              "#ed7953"
             ],
             [
              0.7777777777777778,
              "#fb9f3a"
             ],
             [
              0.8888888888888888,
              "#fdca26"
             ],
             [
              1,
              "#f0f921"
             ]
            ],
            "type": "histogram2dcontour"
           }
          ],
          "mesh3d": [
           {
            "colorbar": {
             "outlinewidth": 0,
             "ticks": ""
            },
            "type": "mesh3d"
           }
          ],
          "parcoords": [
           {
            "line": {
             "colorbar": {
              "outlinewidth": 0,
              "ticks": ""
             }
            },
            "type": "parcoords"
           }
          ],
          "pie": [
           {
            "automargin": true,
            "type": "pie"
           }
          ],
          "scatter": [
           {
            "fillpattern": {
             "fillmode": "overlay",
             "size": 10,
             "solidity": 0.2
            },
            "type": "scatter"
           }
          ],
          "scatter3d": [
           {
            "line": {
             "colorbar": {
              "outlinewidth": 0,
              "ticks": ""
             }
            },
            "marker": {
             "colorbar": {
              "outlinewidth": 0,
              "ticks": ""
             }
            },
            "type": "scatter3d"
           }
          ],
          "scattercarpet": [
           {
            "marker": {
             "colorbar": {
              "outlinewidth": 0,
              "ticks": ""
             }
            },
            "type": "scattercarpet"
           }
          ],
          "scattergeo": [
           {
            "marker": {
             "colorbar": {
              "outlinewidth": 0,
              "ticks": ""
             }
            },
            "type": "scattergeo"
           }
          ],
          "scattergl": [
           {
            "marker": {
             "colorbar": {
              "outlinewidth": 0,
              "ticks": ""
             }
            },
            "type": "scattergl"
           }
          ],
          "scattermapbox": [
           {
            "marker": {
             "colorbar": {
              "outlinewidth": 0,
              "ticks": ""
             }
            },
            "type": "scattermapbox"
           }
          ],
          "scatterpolar": [
           {
            "marker": {
             "colorbar": {
              "outlinewidth": 0,
              "ticks": ""
             }
            },
            "type": "scatterpolar"
           }
          ],
          "scatterpolargl": [
           {
            "marker": {
             "colorbar": {
              "outlinewidth": 0,
              "ticks": ""
             }
            },
            "type": "scatterpolargl"
           }
          ],
          "scatterternary": [
           {
            "marker": {
             "colorbar": {
              "outlinewidth": 0,
              "ticks": ""
             }
            },
            "type": "scatterternary"
           }
          ],
          "surface": [
           {
            "colorbar": {
             "outlinewidth": 0,
             "ticks": ""
            },
            "colorscale": [
             [
              0,
              "#0d0887"
             ],
             [
              0.1111111111111111,
              "#46039f"
             ],
             [
              0.2222222222222222,
              "#7201a8"
             ],
             [
              0.3333333333333333,
              "#9c179e"
             ],
             [
              0.4444444444444444,
              "#bd3786"
             ],
             [
              0.5555555555555556,
              "#d8576b"
             ],
             [
              0.6666666666666666,
              "#ed7953"
             ],
             [
              0.7777777777777778,
              "#fb9f3a"
             ],
             [
              0.8888888888888888,
              "#fdca26"
             ],
             [
              1,
              "#f0f921"
             ]
            ],
            "type": "surface"
           }
          ],
          "table": [
           {
            "cells": {
             "fill": {
              "color": "#EBF0F8"
             },
             "line": {
              "color": "white"
             }
            },
            "header": {
             "fill": {
              "color": "#C8D4E3"
             },
             "line": {
              "color": "white"
             }
            },
            "type": "table"
           }
          ]
         },
         "layout": {
          "annotationdefaults": {
           "arrowcolor": "#2a3f5f",
           "arrowhead": 0,
           "arrowwidth": 1
          },
          "autotypenumbers": "strict",
          "coloraxis": {
           "colorbar": {
            "outlinewidth": 0,
            "ticks": ""
           }
          },
          "colorscale": {
           "diverging": [
            [
             0,
             "#8e0152"
            ],
            [
             0.1,
             "#c51b7d"
            ],
            [
             0.2,
             "#de77ae"
            ],
            [
             0.3,
             "#f1b6da"
            ],
            [
             0.4,
             "#fde0ef"
            ],
            [
             0.5,
             "#f7f7f7"
            ],
            [
             0.6,
             "#e6f5d0"
            ],
            [
             0.7,
             "#b8e186"
            ],
            [
             0.8,
             "#7fbc41"
            ],
            [
             0.9,
             "#4d9221"
            ],
            [
             1,
             "#276419"
            ]
           ],
           "sequential": [
            [
             0,
             "#0d0887"
            ],
            [
             0.1111111111111111,
             "#46039f"
            ],
            [
             0.2222222222222222,
             "#7201a8"
            ],
            [
             0.3333333333333333,
             "#9c179e"
            ],
            [
             0.4444444444444444,
             "#bd3786"
            ],
            [
             0.5555555555555556,
             "#d8576b"
            ],
            [
             0.6666666666666666,
             "#ed7953"
            ],
            [
             0.7777777777777778,
             "#fb9f3a"
            ],
            [
             0.8888888888888888,
             "#fdca26"
            ],
            [
             1,
             "#f0f921"
            ]
           ],
           "sequentialminus": [
            [
             0,
             "#0d0887"
            ],
            [
             0.1111111111111111,
             "#46039f"
            ],
            [
             0.2222222222222222,
             "#7201a8"
            ],
            [
             0.3333333333333333,
             "#9c179e"
            ],
            [
             0.4444444444444444,
             "#bd3786"
            ],
            [
             0.5555555555555556,
             "#d8576b"
            ],
            [
             0.6666666666666666,
             "#ed7953"
            ],
            [
             0.7777777777777778,
             "#fb9f3a"
            ],
            [
             0.8888888888888888,
             "#fdca26"
            ],
            [
             1,
             "#f0f921"
            ]
           ]
          },
          "colorway": [
           "#636efa",
           "#EF553B",
           "#00cc96",
           "#ab63fa",
           "#FFA15A",
           "#19d3f3",
           "#FF6692",
           "#B6E880",
           "#FF97FF",
           "#FECB52"
          ],
          "font": {
           "color": "#2a3f5f"
          },
          "geo": {
           "bgcolor": "white",
           "lakecolor": "white",
           "landcolor": "#E5ECF6",
           "showlakes": true,
           "showland": true,
           "subunitcolor": "white"
          },
          "hoverlabel": {
           "align": "left"
          },
          "hovermode": "closest",
          "mapbox": {
           "style": "light"
          },
          "paper_bgcolor": "white",
          "plot_bgcolor": "#E5ECF6",
          "polar": {
           "angularaxis": {
            "gridcolor": "white",
            "linecolor": "white",
            "ticks": ""
           },
           "bgcolor": "#E5ECF6",
           "radialaxis": {
            "gridcolor": "white",
            "linecolor": "white",
            "ticks": ""
           }
          },
          "scene": {
           "xaxis": {
            "backgroundcolor": "#E5ECF6",
            "gridcolor": "white",
            "gridwidth": 2,
            "linecolor": "white",
            "showbackground": true,
            "ticks": "",
            "zerolinecolor": "white"
           },
           "yaxis": {
            "backgroundcolor": "#E5ECF6",
            "gridcolor": "white",
            "gridwidth": 2,
            "linecolor": "white",
            "showbackground": true,
            "ticks": "",
            "zerolinecolor": "white"
           },
           "zaxis": {
            "backgroundcolor": "#E5ECF6",
            "gridcolor": "white",
            "gridwidth": 2,
            "linecolor": "white",
            "showbackground": true,
            "ticks": "",
            "zerolinecolor": "white"
           }
          },
          "shapedefaults": {
           "line": {
            "color": "#2a3f5f"
           }
          },
          "ternary": {
           "aaxis": {
            "gridcolor": "white",
            "linecolor": "white",
            "ticks": ""
           },
           "baxis": {
            "gridcolor": "white",
            "linecolor": "white",
            "ticks": ""
           },
           "bgcolor": "#E5ECF6",
           "caxis": {
            "gridcolor": "white",
            "linecolor": "white",
            "ticks": ""
           }
          },
          "title": {
           "x": 0.05
          },
          "xaxis": {
           "automargin": true,
           "gridcolor": "white",
           "linecolor": "white",
           "ticks": "",
           "title": {
            "standoff": 15
           },
           "zerolinecolor": "white",
           "zerolinewidth": 2
          },
          "yaxis": {
           "automargin": true,
           "gridcolor": "white",
           "linecolor": "white",
           "ticks": "",
           "title": {
            "standoff": 15
           },
           "zerolinecolor": "white",
           "zerolinewidth": 2
          }
         }
        },
        "title": {
         "font": {
          "size": 16
         },
         "text": "Hierarchical structure for Order Quantity by Market",
         "x": 0.5,
         "xanchor": "center",
         "y": 0.97,
         "yanchor": "top"
        }
       }
      }
     },
     "metadata": {},
     "output_type": "display_data"
    },
    {
     "data": {
      "application/vnd.plotly.v1+json": {
       "config": {
        "plotlyServerURL": "https://plot.ly"
       },
       "data": [
        {
         "branchvalues": "total",
         "customdata": [
          [
           "Afghanistan",
           14480.800290000001
          ],
          [
           "Albania",
           1435.64391
          ],
          [
           "Algeria",
           21271.32065
          ],
          [
           "Angola",
           15636.9961
          ],
          [
           "Argentina",
           6149.43666
          ],
          [
           "Armenia",
           158.48088
          ],
          [
           "Australia",
           663513.91816
          ],
          [
           "Austria",
           50825.867269999995
          ],
          [
           "Austria",
           6996.467070000001
          ],
          [
           "Azerbaijan",
           3869.05926
          ],
          [
           "Bangladesh",
           43338.45346
          ],
          [
           "Barbados",
           3578.5671200000006
          ],
          [
           "Belarus",
           8256.0006
          ],
          [
           "Belgium",
           34341.54127
          ],
          [
           "Benin",
           2291.1545300000002
          ],
          [
           "Bolivia",
           7980.151470000001
          ],
          [
           "Bosnia and Herzegovina",
           1124.55639
          ],
          [
           "Brazil",
           195470.83958
          ],
          [
           "Bulgaria",
           8133.46643
          ],
          [
           "Burundi",
           265.84596
          ],
          [
           "Cambodia",
           11807.152200000002
          ],
          [
           "Cameroon",
           12120.204269999998
          ],
          [
           "Canada",
           39135.65205
          ],
          [
           "Central African Republic",
           1221.72312
          ],
          [
           "Chad",
           1310.47308
          ],
          [
           "Chile",
           23340.43184
          ],
          [
           "China",
           437986.31908
          ],
          [
           "Colombia",
           53839.42187
          ],
          [
           "Cote d'Ivoire",
           12749.497770000002
          ],
          [
           "Croatia",
           2856.73659
          ],
          [
           "Cuba",
           91921.42704
          ],
          [
           "Czech Republic",
           6946.321849999999
          ],
          [
           "Democratic Republic of the Congo",
           44061.07266
          ],
          [
           "Denmark",
           10289.34909
          ],
          [
           "Djibouti",
           2079.0687
          ],
          [
           "Dominican Republic",
           58951.57288
          ],
          [
           "Ecuador",
           8571.48036
          ],
          [
           "Egypt",
           52390.19016
          ],
          [
           "El Salvador",
           118729.61198
          ],
          [
           "Eritrea",
           17.80218
          ],
          [
           "Estonia",
           3158.79138
          ],
          [
           "Ethiopia",
           728.1009
          ],
          [
           "Finland",
           15403.16828
          ],
          [
           "France",
           597673.87519
          ],
          [
           "Gabon",
           1027.74306
          ],
          [
           "Georgia",
           1807.6837
          ],
          [
           "Germany",
           403392.99917
          ],
          [
           "Ghana",
           10761.22086
          ],
          [
           "Guadeloupe",
           1158.15576
          ],
          [
           "Guatemala",
           67797.18306
          ],
          [
           "Guinea",
           2716.74318
          ],
          [
           "Guinea-Bissau",
           180.97696
          ],
          [
           "Haiti",
           3230.4473200000007
          ],
          [
           "Honduras",
           15253.7915
          ],
          [
           "Hong Kong",
           4659.36747
          ],
          [
           "Hungary",
           5011.91541
          ],
          [
           "India",
           336414.61578
          ],
          [
           "Indonesia",
           329758.66779
          ],
          [
           "Iran",
           64424.30471
          ],
          [
           "Iraq",
           46317.53118
          ],
          [
           "Ireland",
           18443.72779
          ],
          [
           "Israel",
           10246.42143
          ],
          [
           "Italy",
           223756.23059
          ],
          [
           "Jamaica",
           4920.0676
          ],
          [
           "Japan",
           62347.93797
          ],
          [
           "Jordan",
           5761.93827
          ],
          [
           "Kazakhstan",
           8244.71952
          ],
          [
           "Kenya",
           11624.86288
          ],
          [
           "Kyrgyzstan",
           3601.5444
          ],
          [
           "Lebanon",
           1632.7741499999997
          ],
          [
           "Lesotho",
           127.34304
          ],
          [
           "Liberia",
           1559.0036999999998
          ],
          [
           "Libya",
           5914.0428
          ],
          [
           "Lithuania",
           15325.204889999999
          ],
          [
           "Macedonia",
           150.73068
          ],
          [
           "Madagascar",
           7072.71894
          ],
          [
           "Malaysia",
           30653.062879999998
          ],
          [
           "Mali",
           5390.38044
          ],
          [
           "Martinique",
           4487.7874
          ],
          [
           "Mauritania",
           1857.30879
          ],
          [
           "Mexico",
           342895.40699
          ],
          [
           "Moldova",
           3072.10767
          ],
          [
           "Mongolia",
           5266.48383
          ],
          [
           "Montenegro",
           4003.3433999999997
          ],
          [
           "Morocco",
           48384.63421
          ],
          [
           "Mozambique",
           13361.25877
          ],
          [
           "Myanmar (Burma)",
           32873.75131
          ],
          [
           "Nepal",
           1601.21379
          ],
          [
           "Netherlands",
           101159.93779000001
          ],
          [
           "New Zealand",
           119797.94402
          ],
          [
           "Nicaragua",
           91593.21675
          ],
          [
           "Niger",
           3917.44467
          ],
          [
           "Nigeria",
           114159.28815000001
          ],
          [
           "Norway",
           9774.24354
          ],
          [
           "Pakistan",
           63419.48601
          ],
          [
           "Panama",
           11052.247850000002
          ],
          [
           "Papua New Guinea",
           3249.73784
          ],
          [
           "Paraguay",
           827.70382
          ],
          [
           "Peru",
           3348.71094
          ],
          [
           "Philippines",
           161186.61994
          ],
          [
           "Poland",
           29559.05163
          ],
          [
           "Portugal",
           19996.91118
          ],
          [
           "Qatar",
           1537.55626
          ],
          [
           "Republic of the Congo",
           2696.7003
          ],
          [
           "Romania",
           22246.12475
          ],
          [
           "Russia",
           52720.56321
          ],
          [
           "Rwanda",
           2531.9452
          ],
          [
           "Saudi Arabia",
           40992.82093
          ],
          [
           "Senegal",
           11510.002400000001
          ],
          [
           "Sierra Leone",
           1472.37726
          ],
          [
           "Singapore",
           23744.83292
          ],
          [
           "Slovakia",
           831.08655
          ],
          [
           "Slovenia",
           1328.2177199999999
          ],
          [
           "Somalia",
           2973.2655900000004
          ],
          [
           "South Africa",
           50452.79472
          ],
          [
           "South Korea",
           38701.96882
          ],
          [
           "Spain",
           189366.95945
          ],
          [
           "Sri Lanka",
           704.79984
          ],
          [
           "Sudan",
           10364.21457
          ],
          [
           "Sweden",
           48415.72284
          ],
          [
           "Switzerland",
           12175.27481
          ],
          [
           "Syria",
           1484.50364
          ],
          [
           "Taiwan",
           7316.69886
          ],
          [
           "Thailand",
           64680.40749
          ],
          [
           "Togo",
           3287.09149
          ],
          [
           "Trinidad and Tobago",
           3568.1647600000006
          ],
          [
           "Tunisia",
           1362.05055
          ],
          [
           "Turkey",
           145388.72766
          ],
          [
           "United Arab Emirates",
           1857.38148
          ],
          [
           "United Kingdom",
           318634.07403
          ],
          [
           "United States",
           357933.45617
          ],
          [
           "United States",
           400276.46671
          ],
          [
           "United States",
           251246.62603
          ],
          [
           "United States",
           458808.30947
          ],
          [
           "Uruguay",
           9273.7131
          ],
          [
           "Venezuela",
           3061.2737899999997
          ],
          [
           "Vietnam",
           56647.56988
          ],
          [
           "(?)",
           50900.20998530221
          ],
          [
           "Canada",
           39135.65205
          ],
          [
           "(?)",
           69879.9051501277
          ],
          [
           "(?)",
           445229.8557427946
          ],
          [
           "(?)",
           90128.05041264476
          ],
          [
           "United States",
           357933.45617
          ],
          [
           "(?)",
           259344.21313167835
          ],
          [
           "(?)",
           66076.62785573414
          ],
          [
           "United States",
           400276.46671
          ],
          [
           "(?)",
           248599.67594972087
          ],
          [
           "Mexico",
           342895.40699
          ],
          [
           "(?)",
           358054.38470457995
          ],
          [
           "(?)",
           577974.8563468183
          ],
          [
           "(?)",
           199313.24423124635
          ],
          [
           "(?)",
           134464.5790974581
          ],
          [
           "United States",
           251246.62603
          ],
          [
           "(?)",
           203609.34435386598
          ],
          [
           "United States",
           458808.30947
          ],
          [
           "(?)",
           365114.70401499845
          ],
          [
           "(?)",
           50900.20998530221
          ],
          [
           "Canada",
           39135.65205
          ],
          [
           "(?)",
           66076.62785573414
          ],
          [
           "(?)",
           353059.84860610357
          ],
          [
           "(?)",
           175911.13345381376
          ],
          [
           "United States",
           382742.62138090265
          ],
          [
           "(?)",
           300346.5837800485
          ]
         ],
         "domain": {
          "x": [
           0,
           1
          ],
          "y": [
           0,
           1
          ]
         },
         "hovertemplate": "labels=%{label}<br>Sales_sum=%{value}<br>parent=%{parent}<br>id=%{id}<br>Country=%{customdata[0]}<br>Sales=%{color}<extra></extra>",
         "ids": [
          "Market/APAC/Central Asia/Afghanistan",
          "Market/EMEA/EMEA/Albania",
          "Market/Africa/Africa/Algeria",
          "Market/Africa/Africa/Angola",
          "Market/LATAM/South/Argentina",
          "Market/EMEA/EMEA/Armenia",
          "Market/APAC/Oceania/Australia",
          "Market/EU/Central/Austria",
          "Market/EMEA/EMEA/Austria",
          "Market/EMEA/EMEA/Azerbaijan",
          "Market/APAC/Central Asia/Bangladesh",
          "Market/LATAM/Caribbean/Barbados",
          "Market/EMEA/EMEA/Belarus",
          "Market/EU/Central/Belgium",
          "Market/Africa/Africa/Benin",
          "Market/LATAM/South/Bolivia",
          "Market/EMEA/EMEA/Bosnia and Herzegovina",
          "Market/LATAM/South/Brazil",
          "Market/EMEA/EMEA/Bulgaria",
          "Market/Africa/Africa/Burundi",
          "Market/APAC/Southeast Asia/Cambodia",
          "Market/Africa/Africa/Cameroon",
          "Market/Canada/Canada/Canada",
          "Market/Africa/Africa/Central African Republic",
          "Market/Africa/Africa/Chad",
          "Market/LATAM/South/Chile",
          "Market/APAC/North Asia/China",
          "Market/LATAM/South/Colombia",
          "Market/Africa/Africa/Cote d'Ivoire",
          "Market/EMEA/EMEA/Croatia",
          "Market/LATAM/Caribbean/Cuba",
          "Market/EMEA/EMEA/Czech Republic",
          "Market/Africa/Africa/Democratic Republic of the Congo",
          "Market/EU/North/Denmark",
          "Market/Africa/Africa/Djibouti",
          "Market/LATAM/Caribbean/Dominican Republic",
          "Market/LATAM/South/Ecuador",
          "Market/Africa/Africa/Egypt",
          "Market/LATAM/Central/El Salvador",
          "Market/Africa/Africa/Eritrea",
          "Market/EMEA/EMEA/Estonia",
          "Market/Africa/Africa/Ethiopia",
          "Market/EU/North/Finland",
          "Market/EU/Central/France",
          "Market/Africa/Africa/Gabon",
          "Market/EMEA/EMEA/Georgia",
          "Market/EU/Central/Germany",
          "Market/Africa/Africa/Ghana",
          "Market/LATAM/Caribbean/Guadeloupe",
          "Market/LATAM/Central/Guatemala",
          "Market/Africa/Africa/Guinea",
          "Market/Africa/Africa/Guinea-Bissau",
          "Market/LATAM/Caribbean/Haiti",
          "Market/LATAM/Central/Honduras",
          "Market/APAC/North Asia/Hong Kong",
          "Market/EMEA/EMEA/Hungary",
          "Market/APAC/Central Asia/India",
          "Market/APAC/Southeast Asia/Indonesia",
          "Market/EMEA/EMEA/Iran",
          "Market/EMEA/EMEA/Iraq",
          "Market/EU/North/Ireland",
          "Market/EMEA/EMEA/Israel",
          "Market/EU/South/Italy",
          "Market/LATAM/Caribbean/Jamaica",
          "Market/APAC/North Asia/Japan",
          "Market/EMEA/EMEA/Jordan",
          "Market/EMEA/EMEA/Kazakhstan",
          "Market/Africa/Africa/Kenya",
          "Market/EMEA/EMEA/Kyrgyzstan",
          "Market/EMEA/EMEA/Lebanon",
          "Market/Africa/Africa/Lesotho",
          "Market/Africa/Africa/Liberia",
          "Market/Africa/Africa/Libya",
          "Market/EMEA/EMEA/Lithuania",
          "Market/EMEA/EMEA/Macedonia",
          "Market/Africa/Africa/Madagascar",
          "Market/APAC/Southeast Asia/Malaysia",
          "Market/Africa/Africa/Mali",
          "Market/LATAM/Caribbean/Martinique",
          "Market/Africa/Africa/Mauritania",
          "Market/LATAM/North/Mexico",
          "Market/EMEA/EMEA/Moldova",
          "Market/EMEA/EMEA/Mongolia",
          "Market/EMEA/EMEA/Montenegro",
          "Market/Africa/Africa/Morocco",
          "Market/Africa/Africa/Mozambique",
          "Market/APAC/Southeast Asia/Myanmar (Burma)",
          "Market/APAC/Central Asia/Nepal",
          "Market/EU/Central/Netherlands",
          "Market/APAC/Oceania/New Zealand",
          "Market/LATAM/Central/Nicaragua",
          "Market/Africa/Africa/Niger",
          "Market/Africa/Africa/Nigeria",
          "Market/EU/North/Norway",
          "Market/APAC/Central Asia/Pakistan",
          "Market/LATAM/Central/Panama",
          "Market/APAC/Oceania/Papua New Guinea",
          "Market/LATAM/South/Paraguay",
          "Market/LATAM/South/Peru",
          "Market/APAC/Southeast Asia/Philippines",
          "Market/EMEA/EMEA/Poland",
          "Market/EU/South/Portugal",
          "Market/EMEA/EMEA/Qatar",
          "Market/Africa/Africa/Republic of the Congo",
          "Market/EMEA/EMEA/Romania",
          "Market/EMEA/EMEA/Russia",
          "Market/Africa/Africa/Rwanda",
          "Market/EMEA/EMEA/Saudi Arabia",
          "Market/Africa/Africa/Senegal",
          "Market/Africa/Africa/Sierra Leone",
          "Market/APAC/Southeast Asia/Singapore",
          "Market/EMEA/EMEA/Slovakia",
          "Market/EMEA/EMEA/Slovenia",
          "Market/Africa/Africa/Somalia",
          "Market/Africa/Africa/South Africa",
          "Market/APAC/North Asia/South Korea",
          "Market/EU/South/Spain",
          "Market/APAC/Central Asia/Sri Lanka",
          "Market/Africa/Africa/Sudan",
          "Market/EU/North/Sweden",
          "Market/EU/Central/Switzerland",
          "Market/EMEA/EMEA/Syria",
          "Market/APAC/North Asia/Taiwan",
          "Market/APAC/Southeast Asia/Thailand",
          "Market/Africa/Africa/Togo",
          "Market/LATAM/Caribbean/Trinidad and Tobago",
          "Market/Africa/Africa/Tunisia",
          "Market/EMEA/EMEA/Turkey",
          "Market/EMEA/EMEA/United Arab Emirates",
          "Market/EU/North/United Kingdom",
          "Market/US/Central/United States",
          "Market/US/East/United States",
          "Market/US/South/United States",
          "Market/US/West/United States",
          "Market/LATAM/South/Uruguay",
          "Market/LATAM/South/Venezuela",
          "Market/APAC/Southeast Asia/Vietnam",
          "Market/Africa/Africa",
          "Market/Canada/Canada",
          "Market/LATAM/Caribbean",
          "Market/EU/Central",
          "Market/LATAM/Central",
          "Market/US/Central",
          "Market/APAC/Central Asia",
          "Market/EMEA/EMEA",
          "Market/US/East",
          "Market/EU/North",
          "Market/LATAM/North",
          "Market/APAC/North Asia",
          "Market/APAC/Oceania",
          "Market/EU/South",
          "Market/LATAM/South",
          "Market/US/South",
          "Market/APAC/Southeast Asia",
          "Market/US/West",
          "Market/APAC",
          "Market/Africa",
          "Market/Canada",
          "Market/EMEA",
          "Market/EU",
          "Market/LATAM",
          "Market/US",
          "Market"
         ],
         "labels": [
          "Afghanistan",
          "Albania",
          "Algeria",
          "Angola",
          "Argentina",
          "Armenia",
          "Australia",
          "Austria",
          "Austria",
          "Azerbaijan",
          "Bangladesh",
          "Barbados",
          "Belarus",
          "Belgium",
          "Benin",
          "Bolivia",
          "Bosnia and Herzegovina",
          "Brazil",
          "Bulgaria",
          "Burundi",
          "Cambodia",
          "Cameroon",
          "Canada",
          "Central African Republic",
          "Chad",
          "Chile",
          "China",
          "Colombia",
          "Cote d'Ivoire",
          "Croatia",
          "Cuba",
          "Czech Republic",
          "Democratic Republic of the Congo",
          "Denmark",
          "Djibouti",
          "Dominican Republic",
          "Ecuador",
          "Egypt",
          "El Salvador",
          "Eritrea",
          "Estonia",
          "Ethiopia",
          "Finland",
          "France",
          "Gabon",
          "Georgia",
          "Germany",
          "Ghana",
          "Guadeloupe",
          "Guatemala",
          "Guinea",
          "Guinea-Bissau",
          "Haiti",
          "Honduras",
          "Hong Kong",
          "Hungary",
          "India",
          "Indonesia",
          "Iran",
          "Iraq",
          "Ireland",
          "Israel",
          "Italy",
          "Jamaica",
          "Japan",
          "Jordan",
          "Kazakhstan",
          "Kenya",
          "Kyrgyzstan",
          "Lebanon",
          "Lesotho",
          "Liberia",
          "Libya",
          "Lithuania",
          "Macedonia",
          "Madagascar",
          "Malaysia",
          "Mali",
          "Martinique",
          "Mauritania",
          "Mexico",
          "Moldova",
          "Mongolia",
          "Montenegro",
          "Morocco",
          "Mozambique",
          "Myanmar (Burma)",
          "Nepal",
          "Netherlands",
          "New Zealand",
          "Nicaragua",
          "Niger",
          "Nigeria",
          "Norway",
          "Pakistan",
          "Panama",
          "Papua New Guinea",
          "Paraguay",
          "Peru",
          "Philippines",
          "Poland",
          "Portugal",
          "Qatar",
          "Republic of the Congo",
          "Romania",
          "Russia",
          "Rwanda",
          "Saudi Arabia",
          "Senegal",
          "Sierra Leone",
          "Singapore",
          "Slovakia",
          "Slovenia",
          "Somalia",
          "South Africa",
          "South Korea",
          "Spain",
          "Sri Lanka",
          "Sudan",
          "Sweden",
          "Switzerland",
          "Syria",
          "Taiwan",
          "Thailand",
          "Togo",
          "Trinidad and Tobago",
          "Tunisia",
          "Turkey",
          "United Arab Emirates",
          "United Kingdom",
          "United States",
          "United States",
          "United States",
          "United States",
          "Uruguay",
          "Venezuela",
          "Vietnam",
          "Africa",
          "Canada",
          "Caribbean",
          "Central",
          "Central",
          "Central",
          "Central Asia",
          "EMEA",
          "East",
          "North",
          "North",
          "North Asia",
          "Oceania",
          "South",
          "South",
          "South",
          "Southeast Asia",
          "West",
          "APAC",
          "Africa",
          "Canada",
          "EMEA",
          "EU",
          "LATAM",
          "US",
          "Market"
         ],
         "marker": {
          "coloraxis": "coloraxis",
          "colors": [
           14480.800290000001,
           1435.64391,
           21271.32065,
           15636.9961,
           6149.43666,
           158.48088,
           663513.91816,
           50825.867269999995,
           6996.467070000001,
           3869.05926,
           43338.45346,
           3578.5671200000006,
           8256.0006,
           34341.54127,
           2291.1545300000002,
           7980.151470000001,
           1124.55639,
           195470.83958,
           8133.46643,
           265.84596,
           11807.152200000002,
           12120.204269999998,
           39135.65205,
           1221.72312,
           1310.47308,
           23340.43184,
           437986.31908,
           53839.42187,
           12749.497770000002,
           2856.73659,
           91921.42704,
           6946.321849999999,
           44061.07266,
           10289.34909,
           2079.0687,
           58951.57288,
           8571.48036,
           52390.19016,
           118729.61198,
           17.80218,
           3158.79138,
           728.1009,
           15403.16828,
           597673.87519,
           1027.74306,
           1807.6837,
           403392.99917,
           10761.22086,
           1158.15576,
           67797.18306,
           2716.74318,
           180.97696,
           3230.4473200000007,
           15253.7915,
           4659.36747,
           5011.91541,
           336414.61578,
           329758.66779,
           64424.30471,
           46317.53118,
           18443.72779,
           10246.42143,
           223756.23059,
           4920.0676,
           62347.93797,
           5761.93827,
           8244.71952,
           11624.86288,
           3601.5444,
           1632.7741499999997,
           127.34304,
           1559.0036999999998,
           5914.0428,
           15325.204889999999,
           150.73068,
           7072.71894,
           30653.062879999998,
           5390.38044,
           4487.7874,
           1857.30879,
           342895.40699,
           3072.10767,
           5266.48383,
           4003.3433999999997,
           48384.63421,
           13361.25877,
           32873.75131,
           1601.21379,
           101159.93779000001,
           119797.94402,
           91593.21675,
           3917.44467,
           114159.28815000001,
           9774.24354,
           63419.48601,
           11052.247850000002,
           3249.73784,
           827.70382,
           3348.71094,
           161186.61994,
           29559.05163,
           19996.91118,
           1537.55626,
           2696.7003,
           22246.12475,
           52720.56321,
           2531.9452,
           40992.82093,
           11510.002400000001,
           1472.37726,
           23744.83292,
           831.08655,
           1328.2177199999999,
           2973.2655900000004,
           50452.79472,
           38701.96882,
           189366.95945,
           704.79984,
           10364.21457,
           48415.72284,
           12175.27481,
           1484.50364,
           7316.69886,
           64680.40749,
           3287.09149,
           3568.1647600000006,
           1362.05055,
           145388.72766,
           1857.38148,
           318634.07403,
           357933.45617,
           400276.46671,
           251246.62603,
           458808.30947,
           9273.7131,
           3061.2737899999997,
           56647.56988,
           50900.20998530221,
           39135.65205,
           69879.9051501277,
           445229.8557427946,
           90128.05041264476,
           357933.45617,
           259344.21313167835,
           66076.62785573414,
           400276.46671,
           248599.67594972087,
           342895.40699,
           358054.38470457995,
           577974.8563468183,
           199313.24423124635,
           134464.5790974581,
           251246.62603,
           203609.34435386598,
           458808.30947,
           365114.70401499845,
           50900.20998530221,
           39135.65205,
           66076.62785573414,
           353059.84860610357,
           175911.13345381376,
           382742.62138090265,
           300346.5837800485
          ]
         },
         "name": "",
         "parents": [
          "Market/APAC/Central Asia",
          "Market/EMEA/EMEA",
          "Market/Africa/Africa",
          "Market/Africa/Africa",
          "Market/LATAM/South",
          "Market/EMEA/EMEA",
          "Market/APAC/Oceania",
          "Market/EU/Central",
          "Market/EMEA/EMEA",
          "Market/EMEA/EMEA",
          "Market/APAC/Central Asia",
          "Market/LATAM/Caribbean",
          "Market/EMEA/EMEA",
          "Market/EU/Central",
          "Market/Africa/Africa",
          "Market/LATAM/South",
          "Market/EMEA/EMEA",
          "Market/LATAM/South",
          "Market/EMEA/EMEA",
          "Market/Africa/Africa",
          "Market/APAC/Southeast Asia",
          "Market/Africa/Africa",
          "Market/Canada/Canada",
          "Market/Africa/Africa",
          "Market/Africa/Africa",
          "Market/LATAM/South",
          "Market/APAC/North Asia",
          "Market/LATAM/South",
          "Market/Africa/Africa",
          "Market/EMEA/EMEA",
          "Market/LATAM/Caribbean",
          "Market/EMEA/EMEA",
          "Market/Africa/Africa",
          "Market/EU/North",
          "Market/Africa/Africa",
          "Market/LATAM/Caribbean",
          "Market/LATAM/South",
          "Market/Africa/Africa",
          "Market/LATAM/Central",
          "Market/Africa/Africa",
          "Market/EMEA/EMEA",
          "Market/Africa/Africa",
          "Market/EU/North",
          "Market/EU/Central",
          "Market/Africa/Africa",
          "Market/EMEA/EMEA",
          "Market/EU/Central",
          "Market/Africa/Africa",
          "Market/LATAM/Caribbean",
          "Market/LATAM/Central",
          "Market/Africa/Africa",
          "Market/Africa/Africa",
          "Market/LATAM/Caribbean",
          "Market/LATAM/Central",
          "Market/APAC/North Asia",
          "Market/EMEA/EMEA",
          "Market/APAC/Central Asia",
          "Market/APAC/Southeast Asia",
          "Market/EMEA/EMEA",
          "Market/EMEA/EMEA",
          "Market/EU/North",
          "Market/EMEA/EMEA",
          "Market/EU/South",
          "Market/LATAM/Caribbean",
          "Market/APAC/North Asia",
          "Market/EMEA/EMEA",
          "Market/EMEA/EMEA",
          "Market/Africa/Africa",
          "Market/EMEA/EMEA",
          "Market/EMEA/EMEA",
          "Market/Africa/Africa",
          "Market/Africa/Africa",
          "Market/Africa/Africa",
          "Market/EMEA/EMEA",
          "Market/EMEA/EMEA",
          "Market/Africa/Africa",
          "Market/APAC/Southeast Asia",
          "Market/Africa/Africa",
          "Market/LATAM/Caribbean",
          "Market/Africa/Africa",
          "Market/LATAM/North",
          "Market/EMEA/EMEA",
          "Market/EMEA/EMEA",
          "Market/EMEA/EMEA",
          "Market/Africa/Africa",
          "Market/Africa/Africa",
          "Market/APAC/Southeast Asia",
          "Market/APAC/Central Asia",
          "Market/EU/Central",
          "Market/APAC/Oceania",
          "Market/LATAM/Central",
          "Market/Africa/Africa",
          "Market/Africa/Africa",
          "Market/EU/North",
          "Market/APAC/Central Asia",
          "Market/LATAM/Central",
          "Market/APAC/Oceania",
          "Market/LATAM/South",
          "Market/LATAM/South",
          "Market/APAC/Southeast Asia",
          "Market/EMEA/EMEA",
          "Market/EU/South",
          "Market/EMEA/EMEA",
          "Market/Africa/Africa",
          "Market/EMEA/EMEA",
          "Market/EMEA/EMEA",
          "Market/Africa/Africa",
          "Market/EMEA/EMEA",
          "Market/Africa/Africa",
          "Market/Africa/Africa",
          "Market/APAC/Southeast Asia",
          "Market/EMEA/EMEA",
          "Market/EMEA/EMEA",
          "Market/Africa/Africa",
          "Market/Africa/Africa",
          "Market/APAC/North Asia",
          "Market/EU/South",
          "Market/APAC/Central Asia",
          "Market/Africa/Africa",
          "Market/EU/North",
          "Market/EU/Central",
          "Market/EMEA/EMEA",
          "Market/APAC/North Asia",
          "Market/APAC/Southeast Asia",
          "Market/Africa/Africa",
          "Market/LATAM/Caribbean",
          "Market/Africa/Africa",
          "Market/EMEA/EMEA",
          "Market/EMEA/EMEA",
          "Market/EU/North",
          "Market/US/Central",
          "Market/US/East",
          "Market/US/South",
          "Market/US/West",
          "Market/LATAM/South",
          "Market/LATAM/South",
          "Market/APAC/Southeast Asia",
          "Market/Africa",
          "Market/Canada",
          "Market/LATAM",
          "Market/EU",
          "Market/LATAM",
          "Market/US",
          "Market/APAC",
          "Market/EMEA",
          "Market/US",
          "Market/EU",
          "Market/LATAM",
          "Market/APAC",
          "Market/APAC",
          "Market/EU",
          "Market/LATAM",
          "Market/US",
          "Market/APAC",
          "Market/US",
          "Market",
          "Market",
          "Market",
          "Market",
          "Market",
          "Market",
          "Market",
          ""
         ],
         "type": "treemap",
         "values": [
          14480.80029,
          1435.64391,
          21271.32065,
          15636.9961,
          6149.43666,
          158.48088,
          663513.91816,
          50825.86727,
          6996.467070000001,
          3869.05926,
          43338.45346,
          3578.5671200000006,
          8256.0006,
          34341.54127,
          2291.1545300000002,
          7980.151470000001,
          1124.55639,
          195470.83958,
          8133.46643,
          265.84596,
          11807.1522,
          12120.20427,
          39135.65205,
          1221.72312,
          1310.47308,
          23340.43184,
          437986.31908,
          53839.42187,
          12749.49777,
          2856.73659,
          91921.42704,
          6946.32185,
          44061.07266,
          10289.34909,
          2079.0687,
          58951.57288,
          8571.48036,
          52390.19016,
          118729.61198,
          17.80218,
          3158.79138,
          728.1009,
          15403.16828,
          597673.87519,
          1027.74306,
          1807.6837,
          403392.99917,
          10761.22086,
          1158.15576,
          67797.18306,
          2716.74318,
          180.97696,
          3230.44732,
          15253.7915,
          4659.36747,
          5011.91541,
          336414.61578,
          329758.66779,
          64424.30471,
          46317.53118,
          18443.72779,
          10246.42143,
          223756.23059,
          4920.0676,
          62347.93797,
          5761.93827,
          8244.71952,
          11624.86288,
          3601.5444,
          1632.77415,
          127.34304,
          1559.0037,
          5914.0428,
          15325.204889999999,
          150.73068,
          7072.71894,
          30653.062879999998,
          5390.38044,
          4487.7874,
          1857.30879,
          342895.40699,
          3072.10767,
          5266.48383,
          4003.3433999999997,
          48384.63421,
          13361.25877,
          32873.75131,
          1601.21379,
          101159.93779,
          119797.94402,
          91593.21675,
          3917.44467,
          114159.28815000001,
          9774.24354,
          63419.48601,
          11052.247850000002,
          3249.73784,
          827.7038200000001,
          3348.71094,
          161186.61994,
          29559.05163,
          19996.91118,
          1537.55626,
          2696.7003,
          22246.12475,
          52720.56321,
          2531.9452,
          40992.82093,
          11510.002400000001,
          1472.37726,
          23744.83292,
          831.08655,
          1328.2177199999999,
          2973.26559,
          50452.79472,
          38701.96882,
          189366.95945,
          704.79984,
          10364.21457,
          48415.72284,
          12175.27481,
          1484.50364,
          7316.69886,
          64680.40749,
          3287.09149,
          3568.1647600000006,
          1362.05055,
          145388.72766,
          1857.38148,
          318634.07403,
          357933.45617,
          400276.46671,
          251246.62603,
          458808.30947,
          9273.7131,
          3061.2737899999997,
          56647.56988,
          480848.86261,
          39135.65205,
          171816.18988,
          1199569.4955,
          304426.05114,
          357933.45617,
          459959.36916999996,
          515748.26143,
          400276.46671,
          420960.28557,
          342895.40699,
          551012.2922,
          786561.60002,
          433120.10121999995,
          311863.16342999996,
          251246.62603,
          711352.06441,
          458808.30947,
          2508885.3258,
          480848.86261,
          39135.65205,
          515748.26143,
          2053649.88229,
          1131000.81144,
          1468264.85838,
          8197533.654
         ]
        }
       ],
       "layout": {
        "coloraxis": {
         "colorbar": {
          "title": {
           "text": "Sales"
          }
         },
         "colorscale": [
          [
           0,
           "rgb(103,0,31)"
          ],
          [
           0.1,
           "rgb(178,24,43)"
          ],
          [
           0.2,
           "rgb(214,96,77)"
          ],
          [
           0.3,
           "rgb(244,165,130)"
          ],
          [
           0.4,
           "rgb(253,219,199)"
          ],
          [
           0.5,
           "rgb(247,247,247)"
          ],
          [
           0.6,
           "rgb(209,229,240)"
          ],
          [
           0.7,
           "rgb(146,197,222)"
          ],
          [
           0.8,
           "rgb(67,147,195)"
          ],
          [
           0.9,
           "rgb(33,102,172)"
          ],
          [
           1,
           "rgb(5,48,97)"
          ]
         ]
        },
        "legend": {
         "tracegroupgap": 0
        },
        "margin": {
         "b": 25,
         "l": 25,
         "r": 25,
         "t": 50
        },
        "template": {
         "data": {
          "bar": [
           {
            "error_x": {
             "color": "#2a3f5f"
            },
            "error_y": {
             "color": "#2a3f5f"
            },
            "marker": {
             "line": {
              "color": "#E5ECF6",
              "width": 0.5
             },
             "pattern": {
              "fillmode": "overlay",
              "size": 10,
              "solidity": 0.2
             }
            },
            "type": "bar"
           }
          ],
          "barpolar": [
           {
            "marker": {
             "line": {
              "color": "#E5ECF6",
              "width": 0.5
             },
             "pattern": {
              "fillmode": "overlay",
              "size": 10,
              "solidity": 0.2
             }
            },
            "type": "barpolar"
           }
          ],
          "carpet": [
           {
            "aaxis": {
             "endlinecolor": "#2a3f5f",
             "gridcolor": "white",
             "linecolor": "white",
             "minorgridcolor": "white",
             "startlinecolor": "#2a3f5f"
            },
            "baxis": {
             "endlinecolor": "#2a3f5f",
             "gridcolor": "white",
             "linecolor": "white",
             "minorgridcolor": "white",
             "startlinecolor": "#2a3f5f"
            },
            "type": "carpet"
           }
          ],
          "choropleth": [
           {
            "colorbar": {
             "outlinewidth": 0,
             "ticks": ""
            },
            "type": "choropleth"
           }
          ],
          "contour": [
           {
            "colorbar": {
             "outlinewidth": 0,
             "ticks": ""
            },
            "colorscale": [
             [
              0,
              "#0d0887"
             ],
             [
              0.1111111111111111,
              "#46039f"
             ],
             [
              0.2222222222222222,
              "#7201a8"
             ],
             [
              0.3333333333333333,
              "#9c179e"
             ],
             [
              0.4444444444444444,
              "#bd3786"
             ],
             [
              0.5555555555555556,
              "#d8576b"
             ],
             [
              0.6666666666666666,
              "#ed7953"
             ],
             [
              0.7777777777777778,
              "#fb9f3a"
             ],
             [
              0.8888888888888888,
              "#fdca26"
             ],
             [
              1,
              "#f0f921"
             ]
            ],
            "type": "contour"
           }
          ],
          "contourcarpet": [
           {
            "colorbar": {
             "outlinewidth": 0,
             "ticks": ""
            },
            "type": "contourcarpet"
           }
          ],
          "heatmap": [
           {
            "colorbar": {
             "outlinewidth": 0,
             "ticks": ""
            },
            "colorscale": [
             [
              0,
              "#0d0887"
             ],
             [
              0.1111111111111111,
              "#46039f"
             ],
             [
              0.2222222222222222,
              "#7201a8"
             ],
             [
              0.3333333333333333,
              "#9c179e"
             ],
             [
              0.4444444444444444,
              "#bd3786"
             ],
             [
              0.5555555555555556,
              "#d8576b"
             ],
             [
              0.6666666666666666,
              "#ed7953"
             ],
             [
              0.7777777777777778,
              "#fb9f3a"
             ],
             [
              0.8888888888888888,
              "#fdca26"
             ],
             [
              1,
              "#f0f921"
             ]
            ],
            "type": "heatmap"
           }
          ],
          "heatmapgl": [
           {
            "colorbar": {
             "outlinewidth": 0,
             "ticks": ""
            },
            "colorscale": [
             [
              0,
              "#0d0887"
             ],
             [
              0.1111111111111111,
              "#46039f"
             ],
             [
              0.2222222222222222,
              "#7201a8"
             ],
             [
              0.3333333333333333,
              "#9c179e"
             ],
             [
              0.4444444444444444,
              "#bd3786"
             ],
             [
              0.5555555555555556,
              "#d8576b"
             ],
             [
              0.6666666666666666,
              "#ed7953"
             ],
             [
              0.7777777777777778,
              "#fb9f3a"
             ],
             [
              0.8888888888888888,
              "#fdca26"
             ],
             [
              1,
              "#f0f921"
             ]
            ],
            "type": "heatmapgl"
           }
          ],
          "histogram": [
           {
            "marker": {
             "pattern": {
              "fillmode": "overlay",
              "size": 10,
              "solidity": 0.2
             }
            },
            "type": "histogram"
           }
          ],
          "histogram2d": [
           {
            "colorbar": {
             "outlinewidth": 0,
             "ticks": ""
            },
            "colorscale": [
             [
              0,
              "#0d0887"
             ],
             [
              0.1111111111111111,
              "#46039f"
             ],
             [
              0.2222222222222222,
              "#7201a8"
             ],
             [
              0.3333333333333333,
              "#9c179e"
             ],
             [
              0.4444444444444444,
              "#bd3786"
             ],
             [
              0.5555555555555556,
              "#d8576b"
             ],
             [
              0.6666666666666666,
              "#ed7953"
             ],
             [
              0.7777777777777778,
              "#fb9f3a"
             ],
             [
              0.8888888888888888,
              "#fdca26"
             ],
             [
              1,
              "#f0f921"
             ]
            ],
            "type": "histogram2d"
           }
          ],
          "histogram2dcontour": [
           {
            "colorbar": {
             "outlinewidth": 0,
             "ticks": ""
            },
            "colorscale": [
             [
              0,
              "#0d0887"
             ],
             [
              0.1111111111111111,
              "#46039f"
             ],
             [
              0.2222222222222222,
              "#7201a8"
             ],
             [
              0.3333333333333333,
              "#9c179e"
             ],
             [
              0.4444444444444444,
              "#bd3786"
             ],
             [
              0.5555555555555556,
              "#d8576b"
             ],
             [
              0.6666666666666666,
              "#ed7953"
             ],
             [
              0.7777777777777778,
              "#fb9f3a"
             ],
             [
              0.8888888888888888,
              "#fdca26"
             ],
             [
              1,
              "#f0f921"
             ]
            ],
            "type": "histogram2dcontour"
           }
          ],
          "mesh3d": [
           {
            "colorbar": {
             "outlinewidth": 0,
             "ticks": ""
            },
            "type": "mesh3d"
           }
          ],
          "parcoords": [
           {
            "line": {
             "colorbar": {
              "outlinewidth": 0,
              "ticks": ""
             }
            },
            "type": "parcoords"
           }
          ],
          "pie": [
           {
            "automargin": true,
            "type": "pie"
           }
          ],
          "scatter": [
           {
            "fillpattern": {
             "fillmode": "overlay",
             "size": 10,
             "solidity": 0.2
            },
            "type": "scatter"
           }
          ],
          "scatter3d": [
           {
            "line": {
             "colorbar": {
              "outlinewidth": 0,
              "ticks": ""
             }
            },
            "marker": {
             "colorbar": {
              "outlinewidth": 0,
              "ticks": ""
             }
            },
            "type": "scatter3d"
           }
          ],
          "scattercarpet": [
           {
            "marker": {
             "colorbar": {
              "outlinewidth": 0,
              "ticks": ""
             }
            },
            "type": "scattercarpet"
           }
          ],
          "scattergeo": [
           {
            "marker": {
             "colorbar": {
              "outlinewidth": 0,
              "ticks": ""
             }
            },
            "type": "scattergeo"
           }
          ],
          "scattergl": [
           {
            "marker": {
             "colorbar": {
              "outlinewidth": 0,
              "ticks": ""
             }
            },
            "type": "scattergl"
           }
          ],
          "scattermapbox": [
           {
            "marker": {
             "colorbar": {
              "outlinewidth": 0,
              "ticks": ""
             }
            },
            "type": "scattermapbox"
           }
          ],
          "scatterpolar": [
           {
            "marker": {
             "colorbar": {
              "outlinewidth": 0,
              "ticks": ""
             }
            },
            "type": "scatterpolar"
           }
          ],
          "scatterpolargl": [
           {
            "marker": {
             "colorbar": {
              "outlinewidth": 0,
              "ticks": ""
             }
            },
            "type": "scatterpolargl"
           }
          ],
          "scatterternary": [
           {
            "marker": {
             "colorbar": {
              "outlinewidth": 0,
              "ticks": ""
             }
            },
            "type": "scatterternary"
           }
          ],
          "surface": [
           {
            "colorbar": {
             "outlinewidth": 0,
             "ticks": ""
            },
            "colorscale": [
             [
              0,
              "#0d0887"
             ],
             [
              0.1111111111111111,
              "#46039f"
             ],
             [
              0.2222222222222222,
              "#7201a8"
             ],
             [
              0.3333333333333333,
              "#9c179e"
             ],
             [
              0.4444444444444444,
              "#bd3786"
             ],
             [
              0.5555555555555556,
              "#d8576b"
             ],
             [
              0.6666666666666666,
              "#ed7953"
             ],
             [
              0.7777777777777778,
              "#fb9f3a"
             ],
             [
              0.8888888888888888,
              "#fdca26"
             ],
             [
              1,
              "#f0f921"
             ]
            ],
            "type": "surface"
           }
          ],
          "table": [
           {
            "cells": {
             "fill": {
              "color": "#EBF0F8"
             },
             "line": {
              "color": "white"
             }
            },
            "header": {
             "fill": {
              "color": "#C8D4E3"
             },
             "line": {
              "color": "white"
             }
            },
            "type": "table"
           }
          ]
         },
         "layout": {
          "annotationdefaults": {
           "arrowcolor": "#2a3f5f",
           "arrowhead": 0,
           "arrowwidth": 1
          },
          "autotypenumbers": "strict",
          "coloraxis": {
           "colorbar": {
            "outlinewidth": 0,
            "ticks": ""
           }
          },
          "colorscale": {
           "diverging": [
            [
             0,
             "#8e0152"
            ],
            [
             0.1,
             "#c51b7d"
            ],
            [
             0.2,
             "#de77ae"
            ],
            [
             0.3,
             "#f1b6da"
            ],
            [
             0.4,
             "#fde0ef"
            ],
            [
             0.5,
             "#f7f7f7"
            ],
            [
             0.6,
             "#e6f5d0"
            ],
            [
             0.7,
             "#b8e186"
            ],
            [
             0.8,
             "#7fbc41"
            ],
            [
             0.9,
             "#4d9221"
            ],
            [
             1,
             "#276419"
            ]
           ],
           "sequential": [
            [
             0,
             "#0d0887"
            ],
            [
             0.1111111111111111,
             "#46039f"
            ],
            [
             0.2222222222222222,
             "#7201a8"
            ],
            [
             0.3333333333333333,
             "#9c179e"
            ],
            [
             0.4444444444444444,
             "#bd3786"
            ],
            [
             0.5555555555555556,
             "#d8576b"
            ],
            [
             0.6666666666666666,
             "#ed7953"
            ],
            [
             0.7777777777777778,
             "#fb9f3a"
            ],
            [
             0.8888888888888888,
             "#fdca26"
            ],
            [
             1,
             "#f0f921"
            ]
           ],
           "sequentialminus": [
            [
             0,
             "#0d0887"
            ],
            [
             0.1111111111111111,
             "#46039f"
            ],
            [
             0.2222222222222222,
             "#7201a8"
            ],
            [
             0.3333333333333333,
             "#9c179e"
            ],
            [
             0.4444444444444444,
             "#bd3786"
            ],
            [
             0.5555555555555556,
             "#d8576b"
            ],
            [
             0.6666666666666666,
             "#ed7953"
            ],
            [
             0.7777777777777778,
             "#fb9f3a"
            ],
            [
             0.8888888888888888,
             "#fdca26"
            ],
            [
             1,
             "#f0f921"
            ]
           ]
          },
          "colorway": [
           "#636efa",
           "#EF553B",
           "#00cc96",
           "#ab63fa",
           "#FFA15A",
           "#19d3f3",
           "#FF6692",
           "#B6E880",
           "#FF97FF",
           "#FECB52"
          ],
          "font": {
           "color": "#2a3f5f"
          },
          "geo": {
           "bgcolor": "white",
           "lakecolor": "white",
           "landcolor": "#E5ECF6",
           "showlakes": true,
           "showland": true,
           "subunitcolor": "white"
          },
          "hoverlabel": {
           "align": "left"
          },
          "hovermode": "closest",
          "mapbox": {
           "style": "light"
          },
          "paper_bgcolor": "white",
          "plot_bgcolor": "#E5ECF6",
          "polar": {
           "angularaxis": {
            "gridcolor": "white",
            "linecolor": "white",
            "ticks": ""
           },
           "bgcolor": "#E5ECF6",
           "radialaxis": {
            "gridcolor": "white",
            "linecolor": "white",
            "ticks": ""
           }
          },
          "scene": {
           "xaxis": {
            "backgroundcolor": "#E5ECF6",
            "gridcolor": "white",
            "gridwidth": 2,
            "linecolor": "white",
            "showbackground": true,
            "ticks": "",
            "zerolinecolor": "white"
           },
           "yaxis": {
            "backgroundcolor": "#E5ECF6",
            "gridcolor": "white",
            "gridwidth": 2,
            "linecolor": "white",
            "showbackground": true,
            "ticks": "",
            "zerolinecolor": "white"
           },
           "zaxis": {
            "backgroundcolor": "#E5ECF6",
            "gridcolor": "white",
            "gridwidth": 2,
            "linecolor": "white",
            "showbackground": true,
            "ticks": "",
            "zerolinecolor": "white"
           }
          },
          "shapedefaults": {
           "line": {
            "color": "#2a3f5f"
           }
          },
          "ternary": {
           "aaxis": {
            "gridcolor": "white",
            "linecolor": "white",
            "ticks": ""
           },
           "baxis": {
            "gridcolor": "white",
            "linecolor": "white",
            "ticks": ""
           },
           "bgcolor": "#E5ECF6",
           "caxis": {
            "gridcolor": "white",
            "linecolor": "white",
            "ticks": ""
           }
          },
          "title": {
           "x": 0.05
          },
          "xaxis": {
           "automargin": true,
           "gridcolor": "white",
           "linecolor": "white",
           "ticks": "",
           "title": {
            "standoff": 15
           },
           "zerolinecolor": "white",
           "zerolinewidth": 2
          },
          "yaxis": {
           "automargin": true,
           "gridcolor": "white",
           "linecolor": "white",
           "ticks": "",
           "title": {
            "standoff": 15
           },
           "zerolinecolor": "white",
           "zerolinewidth": 2
          }
         }
        },
        "title": {
         "font": {
          "size": 16
         },
         "text": "Hierarchical structure for Sales by Market",
         "x": 0.5,
         "xanchor": "center",
         "y": 0.97,
         "yanchor": "top"
        }
       }
      }
     },
     "metadata": {},
     "output_type": "display_data"
    }
   ],
   "source": [
    "#create DataFrame between OrderQuantity and Sales by Category\n",
    "df = data_mix.groupby(['Market','Region','Country']).agg({'OrderQuantity': sum, 'Sales': sum})[['OrderQuantity','Sales']].reset_index()\n",
    "\n",
    "#create treemap for Market by Order Quantity\n",
    "import plotly.express as px\n",
    "import numpy as np\n",
    "fig = px.treemap(df, path=[px.Constant('Market'),'Market','Region','Country'], values='OrderQuantity',  \n",
    "                 color=\"OrderQuantity\", hover_data=['Country'],color_continuous_scale='RdBu')\n",
    "fig.update_layout(margin = dict(t=50, l=25, r=25, b=25),title_font_size=16,\n",
    "    title={'text': \"Hierarchical structure for Order Quantity by Market\",'x':0.5,'y':0.97,'xanchor': 'center','yanchor': 'top'})\n",
    "fig.show()\n",
    "\n",
    "\n",
    "#create treemap for Market by Sales\n",
    "import plotly.express as px\n",
    "import numpy as np\n",
    "fig = px.treemap(df, path=[px.Constant('Market'),'Market','Region','Country'], values='Sales',  \n",
    "                 color=\"Sales\", hover_data=['Country'],color_continuous_scale='RdBu')\n",
    "fig.update_layout(margin = dict(t=50, l=25, r=25, b=25),title_font_size=16,\n",
    "    title={'text': \"Hierarchical structure for Sales by Market\",'x':0.5,'y':0.97,'xanchor': 'center','yanchor': 'top'})\n",
    "fig.show()\n"
   ]
  },
  {
   "cell_type": "markdown",
   "id": "03ff988c",
   "metadata": {},
   "source": [
    "### <span style=\"color: blue\">Comment:</span>\n",
    "\n",
    "- France in the Central EU and the United States in the West US have the largest number of orders, over 7300. In contrast, EMEA and Africa markets have the lowest orders at 800 and 650, respectively.\n",
    "\n",
    "- Australia in Oceania APAC had the highest sales of more than 660000, while France in Central EU had sales near 600000. EMEA and Africa markets, on the other hand, had the lowest sales of 66000 and 50900 respectively.\n",
    "\n",
    "\n",
    "#### *<span style=\"color: blue\">Nhận xét:</span>*\n",
    "\n",
    "- *France thuộc Central EU và United States thuộc West US có số lượng đơn hàng lớn nhất, hơn 7300. Ngược lại, EMEA và Africa lại có số lượng đơn hàng thấp nhất lần lượt là 800 và 650*\n",
    "\n",
    "- *Australia thuộc Oceania APAC có danh số bán hàng cao nhất hơn 660000, trong khi France thuộc Central EU có doanh số bán hàng gần 600000. Ngược lại, EMEA và Africa lại có doanh số bán hàng thấp nhất lần lượt là 66000 và 50900*\n"
   ]
  }
 ],
 "metadata": {
  "kernelspec": {
   "display_name": "Python 3 (ipykernel)",
   "language": "python",
   "name": "python3"
  },
  "language_info": {
   "codemirror_mode": {
    "name": "ipython",
    "version": 3
   },
   "file_extension": ".py",
   "mimetype": "text/x-python",
   "name": "python",
   "nbconvert_exporter": "python",
   "pygments_lexer": "ipython3",
   "version": "3.9.13"
  },
  "vscode": {
   "interpreter": {
    "hash": "aee8b7b246df8f9039afb4144a1f6fd8d2ca17a180786b69acc140d282b71a49"
   }
  }
 },
 "nbformat": 4,
 "nbformat_minor": 5
}
